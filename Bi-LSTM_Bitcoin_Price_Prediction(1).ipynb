{
  "nbformat": 4,
  "nbformat_minor": 0,
  "metadata": {
    "colab": {
      "name": "LSTM Bitcoin Price Prediction.ipynb",
      "provenance": [],
      "collapsed_sections": []
    },
    "kernelspec": {
      "name": "python3",
      "display_name": "Python 3"
    },
    "language_info": {
      "name": "python"
    }
  },
  "cells": [
    {
      "cell_type": "code",
      "execution_count": 1,
      "metadata": {
        "id": "to2_N-UDJ-rz"
      },
      "outputs": [],
      "source": [
        "# Import library yang dibutuhkan\n",
        "\n",
        "import os\n",
        "import pandas as pd\n",
        "import numpy as np\n",
        "import math\n",
        "import datetime as dt\n",
        "import matplotlib.pyplot as plt\n",
        "\n",
        "from sklearn.metrics import mean_squared_error, mean_absolute_error, explained_variance_score, r2_score \n",
        "from sklearn.metrics import mean_poisson_deviance, mean_gamma_deviance, accuracy_score\n",
        "from sklearn.preprocessing import MinMaxScaler\n",
        "\n",
        "import tensorflow as tf\n",
        "from tensorflow.keras.models import Sequential\n",
        "from tensorflow.keras.layers import Dense, Dropout\n",
        "from keras.layers import Bidirectional\n",
        "from tensorflow.keras.layers import LSTM\n",
        "\n",
        "import matplotlib.pyplot as plt\n",
        "from itertools import cycle\n",
        "import plotly.graph_objects as go\n",
        "import plotly.express as px\n",
        "from plotly.subplots import make_subplots"
      ]
    },
    {
      "cell_type": "code",
      "source": [
        "maindf=pd.read_csv('/content/BTC-USD.csv') # masukan file input data harga bitcoin agar bisa di proses, berisi data harga 1 tahun terakhir\n",
        "\n",
        "\n",
        "print('Jumlah Row: ',maindf.shape[0]) # jumlah baris yang ada pada data\n",
        "print('Jumlah Columm: ',maindf.shape[1]) # jumlah kolum yang ada pada data\n"
      ],
      "metadata": {
        "colab": {
          "base_uri": "https://localhost:8080/"
        },
        "id": "4lwXIFtEKGBX",
        "outputId": "6bcad356-d222-4b40-eb06-e358d5827567"
      },
      "execution_count": 2,
      "outputs": [
        {
          "output_type": "stream",
          "name": "stdout",
          "text": [
            "Jumlah Row:  366\n",
            "Jumlah Columm:  7\n"
          ]
        }
      ]
    },
    {
      "cell_type": "code",
      "source": [
        "#.shape ini adalah method dari pandas yang dipakai untuk melihat bentuk dari data, \n",
        "#output (366,7) mengatakan bahwa maindf memiliki 366 baris dan 7 kolum \n",
        "maindf.shape \n"
      ],
      "metadata": {
        "colab": {
          "base_uri": "https://localhost:8080/"
        },
        "cellView": "code",
        "id": "oInLgUlkKGEa",
        "outputId": "7d2a38b9-b4b9-4b46-f81f-1b03feeaa2c0"
      },
      "execution_count": 3,
      "outputs": [
        {
          "output_type": "execute_result",
          "data": {
            "text/plain": [
              "(366, 7)"
            ]
          },
          "metadata": {},
          "execution_count": 3
        }
      ]
    },
    {
      "cell_type": "code",
      "source": [
        "maindf.head()#.head() adalah method dari pandas yang dipakai untuk melihat data teratas pada maindf"
      ],
      "metadata": {
        "colab": {
          "base_uri": "https://localhost:8080/",
          "height": 206
        },
        "id": "k4rGU0wVKGH-",
        "outputId": "9f7f1de4-e325-4bc3-a997-4dd2f919de5e"
      },
      "execution_count": 4,
      "outputs": [
        {
          "output_type": "execute_result",
          "data": {
            "text/plain": [
              "         Date          Open          High           Low         Close  \\\n",
              "0  2021-06-11  36697.031250  37608.695313  36044.449219  37334.398438   \n",
              "1  2021-06-12  37340.144531  37408.925781  34728.191406  35552.515625   \n",
              "2  2021-06-13  35555.789063  39322.781250  34864.109375  39097.859375   \n",
              "3  2021-06-14  39016.968750  40978.363281  38757.285156  40218.476563   \n",
              "4  2021-06-15  40427.167969  41295.269531  39609.468750  40406.269531   \n",
              "\n",
              "      Adj Close        Volume  \n",
              "0  37334.398438  3.869974e+10  \n",
              "1  35552.515625  3.792423e+10  \n",
              "2  39097.859375  4.066911e+10  \n",
              "3  40218.476563  4.314891e+10  \n",
              "4  40406.269531  4.642015e+10  "
            ],
            "text/html": [
              "\n",
              "  <div id=\"df-1984490f-06ee-4fa4-87d1-31b3af2351ac\">\n",
              "    <div class=\"colab-df-container\">\n",
              "      <div>\n",
              "<style scoped>\n",
              "    .dataframe tbody tr th:only-of-type {\n",
              "        vertical-align: middle;\n",
              "    }\n",
              "\n",
              "    .dataframe tbody tr th {\n",
              "        vertical-align: top;\n",
              "    }\n",
              "\n",
              "    .dataframe thead th {\n",
              "        text-align: right;\n",
              "    }\n",
              "</style>\n",
              "<table border=\"1\" class=\"dataframe\">\n",
              "  <thead>\n",
              "    <tr style=\"text-align: right;\">\n",
              "      <th></th>\n",
              "      <th>Date</th>\n",
              "      <th>Open</th>\n",
              "      <th>High</th>\n",
              "      <th>Low</th>\n",
              "      <th>Close</th>\n",
              "      <th>Adj Close</th>\n",
              "      <th>Volume</th>\n",
              "    </tr>\n",
              "  </thead>\n",
              "  <tbody>\n",
              "    <tr>\n",
              "      <th>0</th>\n",
              "      <td>2021-06-11</td>\n",
              "      <td>36697.031250</td>\n",
              "      <td>37608.695313</td>\n",
              "      <td>36044.449219</td>\n",
              "      <td>37334.398438</td>\n",
              "      <td>37334.398438</td>\n",
              "      <td>3.869974e+10</td>\n",
              "    </tr>\n",
              "    <tr>\n",
              "      <th>1</th>\n",
              "      <td>2021-06-12</td>\n",
              "      <td>37340.144531</td>\n",
              "      <td>37408.925781</td>\n",
              "      <td>34728.191406</td>\n",
              "      <td>35552.515625</td>\n",
              "      <td>35552.515625</td>\n",
              "      <td>3.792423e+10</td>\n",
              "    </tr>\n",
              "    <tr>\n",
              "      <th>2</th>\n",
              "      <td>2021-06-13</td>\n",
              "      <td>35555.789063</td>\n",
              "      <td>39322.781250</td>\n",
              "      <td>34864.109375</td>\n",
              "      <td>39097.859375</td>\n",
              "      <td>39097.859375</td>\n",
              "      <td>4.066911e+10</td>\n",
              "    </tr>\n",
              "    <tr>\n",
              "      <th>3</th>\n",
              "      <td>2021-06-14</td>\n",
              "      <td>39016.968750</td>\n",
              "      <td>40978.363281</td>\n",
              "      <td>38757.285156</td>\n",
              "      <td>40218.476563</td>\n",
              "      <td>40218.476563</td>\n",
              "      <td>4.314891e+10</td>\n",
              "    </tr>\n",
              "    <tr>\n",
              "      <th>4</th>\n",
              "      <td>2021-06-15</td>\n",
              "      <td>40427.167969</td>\n",
              "      <td>41295.269531</td>\n",
              "      <td>39609.468750</td>\n",
              "      <td>40406.269531</td>\n",
              "      <td>40406.269531</td>\n",
              "      <td>4.642015e+10</td>\n",
              "    </tr>\n",
              "  </tbody>\n",
              "</table>\n",
              "</div>\n",
              "      <button class=\"colab-df-convert\" onclick=\"convertToInteractive('df-1984490f-06ee-4fa4-87d1-31b3af2351ac')\"\n",
              "              title=\"Convert this dataframe to an interactive table.\"\n",
              "              style=\"display:none;\">\n",
              "        \n",
              "  <svg xmlns=\"http://www.w3.org/2000/svg\" height=\"24px\"viewBox=\"0 0 24 24\"\n",
              "       width=\"24px\">\n",
              "    <path d=\"M0 0h24v24H0V0z\" fill=\"none\"/>\n",
              "    <path d=\"M18.56 5.44l.94 2.06.94-2.06 2.06-.94-2.06-.94-.94-2.06-.94 2.06-2.06.94zm-11 1L8.5 8.5l.94-2.06 2.06-.94-2.06-.94L8.5 2.5l-.94 2.06-2.06.94zm10 10l.94 2.06.94-2.06 2.06-.94-2.06-.94-.94-2.06-.94 2.06-2.06.94z\"/><path d=\"M17.41 7.96l-1.37-1.37c-.4-.4-.92-.59-1.43-.59-.52 0-1.04.2-1.43.59L10.3 9.45l-7.72 7.72c-.78.78-.78 2.05 0 2.83L4 21.41c.39.39.9.59 1.41.59.51 0 1.02-.2 1.41-.59l7.78-7.78 2.81-2.81c.8-.78.8-2.07 0-2.86zM5.41 20L4 18.59l7.72-7.72 1.47 1.35L5.41 20z\"/>\n",
              "  </svg>\n",
              "      </button>\n",
              "      \n",
              "  <style>\n",
              "    .colab-df-container {\n",
              "      display:flex;\n",
              "      flex-wrap:wrap;\n",
              "      gap: 12px;\n",
              "    }\n",
              "\n",
              "    .colab-df-convert {\n",
              "      background-color: #E8F0FE;\n",
              "      border: none;\n",
              "      border-radius: 50%;\n",
              "      cursor: pointer;\n",
              "      display: none;\n",
              "      fill: #1967D2;\n",
              "      height: 32px;\n",
              "      padding: 0 0 0 0;\n",
              "      width: 32px;\n",
              "    }\n",
              "\n",
              "    .colab-df-convert:hover {\n",
              "      background-color: #E2EBFA;\n",
              "      box-shadow: 0px 1px 2px rgba(60, 64, 67, 0.3), 0px 1px 3px 1px rgba(60, 64, 67, 0.15);\n",
              "      fill: #174EA6;\n",
              "    }\n",
              "\n",
              "    [theme=dark] .colab-df-convert {\n",
              "      background-color: #3B4455;\n",
              "      fill: #D2E3FC;\n",
              "    }\n",
              "\n",
              "    [theme=dark] .colab-df-convert:hover {\n",
              "      background-color: #434B5C;\n",
              "      box-shadow: 0px 1px 3px 1px rgba(0, 0, 0, 0.15);\n",
              "      filter: drop-shadow(0px 1px 2px rgba(0, 0, 0, 0.3));\n",
              "      fill: #FFFFFF;\n",
              "    }\n",
              "  </style>\n",
              "\n",
              "      <script>\n",
              "        const buttonEl =\n",
              "          document.querySelector('#df-1984490f-06ee-4fa4-87d1-31b3af2351ac button.colab-df-convert');\n",
              "        buttonEl.style.display =\n",
              "          google.colab.kernel.accessAllowed ? 'block' : 'none';\n",
              "\n",
              "        async function convertToInteractive(key) {\n",
              "          const element = document.querySelector('#df-1984490f-06ee-4fa4-87d1-31b3af2351ac');\n",
              "          const dataTable =\n",
              "            await google.colab.kernel.invokeFunction('convertToInteractive',\n",
              "                                                     [key], {});\n",
              "          if (!dataTable) return;\n",
              "\n",
              "          const docLinkHtml = 'Like what you see? Visit the ' +\n",
              "            '<a target=\"_blank\" href=https://colab.research.google.com/notebooks/data_table.ipynb>data table notebook</a>'\n",
              "            + ' to learn more about interactive tables.';\n",
              "          element.innerHTML = '';\n",
              "          dataTable['output_type'] = 'display_data';\n",
              "          await google.colab.output.renderOutput(dataTable, element);\n",
              "          const docLink = document.createElement('div');\n",
              "          docLink.innerHTML = docLinkHtml;\n",
              "          element.appendChild(docLink);\n",
              "        }\n",
              "      </script>\n",
              "    </div>\n",
              "  </div>\n",
              "  "
            ]
          },
          "metadata": {},
          "execution_count": 4
        }
      ]
    },
    {
      "cell_type": "code",
      "source": [
        "maindf.tail()#.tail() adalah method dari pandas yang dipakai untuk melihat data terbawah pada maindf"
      ],
      "metadata": {
        "colab": {
          "base_uri": "https://localhost:8080/",
          "height": 206
        },
        "id": "Ba8_jCkLKGKg",
        "outputId": "6a596812-14b9-4b2a-bdc3-ab74ce2c6e01"
      },
      "execution_count": 5,
      "outputs": [
        {
          "output_type": "execute_result",
          "data": {
            "text/plain": [
              "           Date          Open          High           Low         Close  \\\n",
              "361  2022-06-07  31371.742188  31489.683594  29311.683594  31155.478516   \n",
              "362  2022-06-08  31151.480469  31253.691406  29944.404297  30214.355469   \n",
              "363  2022-06-09  30215.279297  30609.310547  30020.265625  30111.998047   \n",
              "364  2022-06-10           NaN           NaN           NaN           NaN   \n",
              "365  2022-06-11  29084.478516  29197.939453  29084.478516  29197.939453   \n",
              "\n",
              "        Adj Close        Volume  \n",
              "361  31155.478516  4.077097e+10  \n",
              "362  30214.355469  3.024206e+10  \n",
              "363  30111.998047  2.169200e+10  \n",
              "364           NaN           NaN  \n",
              "365  29197.939453  2.917454e+10  "
            ],
            "text/html": [
              "\n",
              "  <div id=\"df-a0712d34-c6e2-49fc-8783-ffa666898e17\">\n",
              "    <div class=\"colab-df-container\">\n",
              "      <div>\n",
              "<style scoped>\n",
              "    .dataframe tbody tr th:only-of-type {\n",
              "        vertical-align: middle;\n",
              "    }\n",
              "\n",
              "    .dataframe tbody tr th {\n",
              "        vertical-align: top;\n",
              "    }\n",
              "\n",
              "    .dataframe thead th {\n",
              "        text-align: right;\n",
              "    }\n",
              "</style>\n",
              "<table border=\"1\" class=\"dataframe\">\n",
              "  <thead>\n",
              "    <tr style=\"text-align: right;\">\n",
              "      <th></th>\n",
              "      <th>Date</th>\n",
              "      <th>Open</th>\n",
              "      <th>High</th>\n",
              "      <th>Low</th>\n",
              "      <th>Close</th>\n",
              "      <th>Adj Close</th>\n",
              "      <th>Volume</th>\n",
              "    </tr>\n",
              "  </thead>\n",
              "  <tbody>\n",
              "    <tr>\n",
              "      <th>361</th>\n",
              "      <td>2022-06-07</td>\n",
              "      <td>31371.742188</td>\n",
              "      <td>31489.683594</td>\n",
              "      <td>29311.683594</td>\n",
              "      <td>31155.478516</td>\n",
              "      <td>31155.478516</td>\n",
              "      <td>4.077097e+10</td>\n",
              "    </tr>\n",
              "    <tr>\n",
              "      <th>362</th>\n",
              "      <td>2022-06-08</td>\n",
              "      <td>31151.480469</td>\n",
              "      <td>31253.691406</td>\n",
              "      <td>29944.404297</td>\n",
              "      <td>30214.355469</td>\n",
              "      <td>30214.355469</td>\n",
              "      <td>3.024206e+10</td>\n",
              "    </tr>\n",
              "    <tr>\n",
              "      <th>363</th>\n",
              "      <td>2022-06-09</td>\n",
              "      <td>30215.279297</td>\n",
              "      <td>30609.310547</td>\n",
              "      <td>30020.265625</td>\n",
              "      <td>30111.998047</td>\n",
              "      <td>30111.998047</td>\n",
              "      <td>2.169200e+10</td>\n",
              "    </tr>\n",
              "    <tr>\n",
              "      <th>364</th>\n",
              "      <td>2022-06-10</td>\n",
              "      <td>NaN</td>\n",
              "      <td>NaN</td>\n",
              "      <td>NaN</td>\n",
              "      <td>NaN</td>\n",
              "      <td>NaN</td>\n",
              "      <td>NaN</td>\n",
              "    </tr>\n",
              "    <tr>\n",
              "      <th>365</th>\n",
              "      <td>2022-06-11</td>\n",
              "      <td>29084.478516</td>\n",
              "      <td>29197.939453</td>\n",
              "      <td>29084.478516</td>\n",
              "      <td>29197.939453</td>\n",
              "      <td>29197.939453</td>\n",
              "      <td>2.917454e+10</td>\n",
              "    </tr>\n",
              "  </tbody>\n",
              "</table>\n",
              "</div>\n",
              "      <button class=\"colab-df-convert\" onclick=\"convertToInteractive('df-a0712d34-c6e2-49fc-8783-ffa666898e17')\"\n",
              "              title=\"Convert this dataframe to an interactive table.\"\n",
              "              style=\"display:none;\">\n",
              "        \n",
              "  <svg xmlns=\"http://www.w3.org/2000/svg\" height=\"24px\"viewBox=\"0 0 24 24\"\n",
              "       width=\"24px\">\n",
              "    <path d=\"M0 0h24v24H0V0z\" fill=\"none\"/>\n",
              "    <path d=\"M18.56 5.44l.94 2.06.94-2.06 2.06-.94-2.06-.94-.94-2.06-.94 2.06-2.06.94zm-11 1L8.5 8.5l.94-2.06 2.06-.94-2.06-.94L8.5 2.5l-.94 2.06-2.06.94zm10 10l.94 2.06.94-2.06 2.06-.94-2.06-.94-.94-2.06-.94 2.06-2.06.94z\"/><path d=\"M17.41 7.96l-1.37-1.37c-.4-.4-.92-.59-1.43-.59-.52 0-1.04.2-1.43.59L10.3 9.45l-7.72 7.72c-.78.78-.78 2.05 0 2.83L4 21.41c.39.39.9.59 1.41.59.51 0 1.02-.2 1.41-.59l7.78-7.78 2.81-2.81c.8-.78.8-2.07 0-2.86zM5.41 20L4 18.59l7.72-7.72 1.47 1.35L5.41 20z\"/>\n",
              "  </svg>\n",
              "      </button>\n",
              "      \n",
              "  <style>\n",
              "    .colab-df-container {\n",
              "      display:flex;\n",
              "      flex-wrap:wrap;\n",
              "      gap: 12px;\n",
              "    }\n",
              "\n",
              "    .colab-df-convert {\n",
              "      background-color: #E8F0FE;\n",
              "      border: none;\n",
              "      border-radius: 50%;\n",
              "      cursor: pointer;\n",
              "      display: none;\n",
              "      fill: #1967D2;\n",
              "      height: 32px;\n",
              "      padding: 0 0 0 0;\n",
              "      width: 32px;\n",
              "    }\n",
              "\n",
              "    .colab-df-convert:hover {\n",
              "      background-color: #E2EBFA;\n",
              "      box-shadow: 0px 1px 2px rgba(60, 64, 67, 0.3), 0px 1px 3px 1px rgba(60, 64, 67, 0.15);\n",
              "      fill: #174EA6;\n",
              "    }\n",
              "\n",
              "    [theme=dark] .colab-df-convert {\n",
              "      background-color: #3B4455;\n",
              "      fill: #D2E3FC;\n",
              "    }\n",
              "\n",
              "    [theme=dark] .colab-df-convert:hover {\n",
              "      background-color: #434B5C;\n",
              "      box-shadow: 0px 1px 3px 1px rgba(0, 0, 0, 0.15);\n",
              "      filter: drop-shadow(0px 1px 2px rgba(0, 0, 0, 0.3));\n",
              "      fill: #FFFFFF;\n",
              "    }\n",
              "  </style>\n",
              "\n",
              "      <script>\n",
              "        const buttonEl =\n",
              "          document.querySelector('#df-a0712d34-c6e2-49fc-8783-ffa666898e17 button.colab-df-convert');\n",
              "        buttonEl.style.display =\n",
              "          google.colab.kernel.accessAllowed ? 'block' : 'none';\n",
              "\n",
              "        async function convertToInteractive(key) {\n",
              "          const element = document.querySelector('#df-a0712d34-c6e2-49fc-8783-ffa666898e17');\n",
              "          const dataTable =\n",
              "            await google.colab.kernel.invokeFunction('convertToInteractive',\n",
              "                                                     [key], {});\n",
              "          if (!dataTable) return;\n",
              "\n",
              "          const docLinkHtml = 'Like what you see? Visit the ' +\n",
              "            '<a target=\"_blank\" href=https://colab.research.google.com/notebooks/data_table.ipynb>data table notebook</a>'\n",
              "            + ' to learn more about interactive tables.';\n",
              "          element.innerHTML = '';\n",
              "          dataTable['output_type'] = 'display_data';\n",
              "          await google.colab.output.renderOutput(dataTable, element);\n",
              "          const docLink = document.createElement('div');\n",
              "          docLink.innerHTML = docLinkHtml;\n",
              "          element.appendChild(docLink);\n",
              "        }\n",
              "      </script>\n",
              "    </div>\n",
              "  </div>\n",
              "  "
            ]
          },
          "metadata": {},
          "execution_count": 5
        }
      ]
    },
    {
      "cell_type": "code",
      "source": [
        "maindf.info()#method info() dari pandas menampilkan info general dari maindf seperti nama columm, jenis data, jumlah data, range dan lain lain"
      ],
      "metadata": {
        "colab": {
          "base_uri": "https://localhost:8080/"
        },
        "id": "g77bx-bxKGNF",
        "outputId": "5b1a3e92-6ebe-48ca-9cb4-9a97155b31ea"
      },
      "execution_count": 6,
      "outputs": [
        {
          "output_type": "stream",
          "name": "stdout",
          "text": [
            "<class 'pandas.core.frame.DataFrame'>\n",
            "RangeIndex: 366 entries, 0 to 365\n",
            "Data columns (total 7 columns):\n",
            " #   Column     Non-Null Count  Dtype  \n",
            "---  ------     --------------  -----  \n",
            " 0   Date       366 non-null    object \n",
            " 1   Open       365 non-null    float64\n",
            " 2   High       365 non-null    float64\n",
            " 3   Low        365 non-null    float64\n",
            " 4   Close      365 non-null    float64\n",
            " 5   Adj Close  365 non-null    float64\n",
            " 6   Volume     365 non-null    float64\n",
            "dtypes: float64(6), object(1)\n",
            "memory usage: 20.1+ KB\n"
          ]
        }
      ]
    },
    {
      "cell_type": "code",
      "source": [
        "maindf.describe() #method describe dari pandas digunakan untuk mendapatkan nilai min, max,count dan berbagai jenis data statistical lainnya"
      ],
      "metadata": {
        "colab": {
          "base_uri": "https://localhost:8080/",
          "height": 300
        },
        "id": "SqyYpxrpKGPq",
        "outputId": "ffbaa645-83b5-4b07-c5d2-5fb2e25478e4"
      },
      "execution_count": 7,
      "outputs": [
        {
          "output_type": "execute_result",
          "data": {
            "text/plain": [
              "               Open          High           Low         Close     Adj Close  \\\n",
              "count    365.000000    365.000000    365.000000    365.000000    365.000000   \n",
              "mean   43757.420521  44759.126097  42622.971656  43729.111778  43729.111778   \n",
              "std     9192.339851   9353.585393   9029.708113   9200.064282   9200.064282   \n",
              "min    28622.625000  28814.900391  26350.490234  28627.574219  28627.574219   \n",
              "25%    37748.011719  38834.617188  36733.574219  37750.453125  37750.453125   \n",
              "50%    42586.464844  43413.023438  41681.957031  42586.917969  42586.917969   \n",
              "75%    48268.855469  49347.582031  47045.003906  48199.953125  48199.953125   \n",
              "max    67549.734375  68789.625000  66382.062500  67566.828125  67566.828125   \n",
              "\n",
              "             Volume  \n",
              "count  3.650000e+02  \n",
              "mean   3.162764e+10  \n",
              "std    9.362636e+09  \n",
              "min    1.373656e+10  \n",
              "25%    2.549315e+10  \n",
              "50%    3.106491e+10  \n",
              "75%    3.676304e+10  \n",
              "max    8.419661e+10  "
            ],
            "text/html": [
              "\n",
              "  <div id=\"df-67624aa2-5bc2-4446-b9a2-a060ef003971\">\n",
              "    <div class=\"colab-df-container\">\n",
              "      <div>\n",
              "<style scoped>\n",
              "    .dataframe tbody tr th:only-of-type {\n",
              "        vertical-align: middle;\n",
              "    }\n",
              "\n",
              "    .dataframe tbody tr th {\n",
              "        vertical-align: top;\n",
              "    }\n",
              "\n",
              "    .dataframe thead th {\n",
              "        text-align: right;\n",
              "    }\n",
              "</style>\n",
              "<table border=\"1\" class=\"dataframe\">\n",
              "  <thead>\n",
              "    <tr style=\"text-align: right;\">\n",
              "      <th></th>\n",
              "      <th>Open</th>\n",
              "      <th>High</th>\n",
              "      <th>Low</th>\n",
              "      <th>Close</th>\n",
              "      <th>Adj Close</th>\n",
              "      <th>Volume</th>\n",
              "    </tr>\n",
              "  </thead>\n",
              "  <tbody>\n",
              "    <tr>\n",
              "      <th>count</th>\n",
              "      <td>365.000000</td>\n",
              "      <td>365.000000</td>\n",
              "      <td>365.000000</td>\n",
              "      <td>365.000000</td>\n",
              "      <td>365.000000</td>\n",
              "      <td>3.650000e+02</td>\n",
              "    </tr>\n",
              "    <tr>\n",
              "      <th>mean</th>\n",
              "      <td>43757.420521</td>\n",
              "      <td>44759.126097</td>\n",
              "      <td>42622.971656</td>\n",
              "      <td>43729.111778</td>\n",
              "      <td>43729.111778</td>\n",
              "      <td>3.162764e+10</td>\n",
              "    </tr>\n",
              "    <tr>\n",
              "      <th>std</th>\n",
              "      <td>9192.339851</td>\n",
              "      <td>9353.585393</td>\n",
              "      <td>9029.708113</td>\n",
              "      <td>9200.064282</td>\n",
              "      <td>9200.064282</td>\n",
              "      <td>9.362636e+09</td>\n",
              "    </tr>\n",
              "    <tr>\n",
              "      <th>min</th>\n",
              "      <td>28622.625000</td>\n",
              "      <td>28814.900391</td>\n",
              "      <td>26350.490234</td>\n",
              "      <td>28627.574219</td>\n",
              "      <td>28627.574219</td>\n",
              "      <td>1.373656e+10</td>\n",
              "    </tr>\n",
              "    <tr>\n",
              "      <th>25%</th>\n",
              "      <td>37748.011719</td>\n",
              "      <td>38834.617188</td>\n",
              "      <td>36733.574219</td>\n",
              "      <td>37750.453125</td>\n",
              "      <td>37750.453125</td>\n",
              "      <td>2.549315e+10</td>\n",
              "    </tr>\n",
              "    <tr>\n",
              "      <th>50%</th>\n",
              "      <td>42586.464844</td>\n",
              "      <td>43413.023438</td>\n",
              "      <td>41681.957031</td>\n",
              "      <td>42586.917969</td>\n",
              "      <td>42586.917969</td>\n",
              "      <td>3.106491e+10</td>\n",
              "    </tr>\n",
              "    <tr>\n",
              "      <th>75%</th>\n",
              "      <td>48268.855469</td>\n",
              "      <td>49347.582031</td>\n",
              "      <td>47045.003906</td>\n",
              "      <td>48199.953125</td>\n",
              "      <td>48199.953125</td>\n",
              "      <td>3.676304e+10</td>\n",
              "    </tr>\n",
              "    <tr>\n",
              "      <th>max</th>\n",
              "      <td>67549.734375</td>\n",
              "      <td>68789.625000</td>\n",
              "      <td>66382.062500</td>\n",
              "      <td>67566.828125</td>\n",
              "      <td>67566.828125</td>\n",
              "      <td>8.419661e+10</td>\n",
              "    </tr>\n",
              "  </tbody>\n",
              "</table>\n",
              "</div>\n",
              "      <button class=\"colab-df-convert\" onclick=\"convertToInteractive('df-67624aa2-5bc2-4446-b9a2-a060ef003971')\"\n",
              "              title=\"Convert this dataframe to an interactive table.\"\n",
              "              style=\"display:none;\">\n",
              "        \n",
              "  <svg xmlns=\"http://www.w3.org/2000/svg\" height=\"24px\"viewBox=\"0 0 24 24\"\n",
              "       width=\"24px\">\n",
              "    <path d=\"M0 0h24v24H0V0z\" fill=\"none\"/>\n",
              "    <path d=\"M18.56 5.44l.94 2.06.94-2.06 2.06-.94-2.06-.94-.94-2.06-.94 2.06-2.06.94zm-11 1L8.5 8.5l.94-2.06 2.06-.94-2.06-.94L8.5 2.5l-.94 2.06-2.06.94zm10 10l.94 2.06.94-2.06 2.06-.94-2.06-.94-.94-2.06-.94 2.06-2.06.94z\"/><path d=\"M17.41 7.96l-1.37-1.37c-.4-.4-.92-.59-1.43-.59-.52 0-1.04.2-1.43.59L10.3 9.45l-7.72 7.72c-.78.78-.78 2.05 0 2.83L4 21.41c.39.39.9.59 1.41.59.51 0 1.02-.2 1.41-.59l7.78-7.78 2.81-2.81c.8-.78.8-2.07 0-2.86zM5.41 20L4 18.59l7.72-7.72 1.47 1.35L5.41 20z\"/>\n",
              "  </svg>\n",
              "      </button>\n",
              "      \n",
              "  <style>\n",
              "    .colab-df-container {\n",
              "      display:flex;\n",
              "      flex-wrap:wrap;\n",
              "      gap: 12px;\n",
              "    }\n",
              "\n",
              "    .colab-df-convert {\n",
              "      background-color: #E8F0FE;\n",
              "      border: none;\n",
              "      border-radius: 50%;\n",
              "      cursor: pointer;\n",
              "      display: none;\n",
              "      fill: #1967D2;\n",
              "      height: 32px;\n",
              "      padding: 0 0 0 0;\n",
              "      width: 32px;\n",
              "    }\n",
              "\n",
              "    .colab-df-convert:hover {\n",
              "      background-color: #E2EBFA;\n",
              "      box-shadow: 0px 1px 2px rgba(60, 64, 67, 0.3), 0px 1px 3px 1px rgba(60, 64, 67, 0.15);\n",
              "      fill: #174EA6;\n",
              "    }\n",
              "\n",
              "    [theme=dark] .colab-df-convert {\n",
              "      background-color: #3B4455;\n",
              "      fill: #D2E3FC;\n",
              "    }\n",
              "\n",
              "    [theme=dark] .colab-df-convert:hover {\n",
              "      background-color: #434B5C;\n",
              "      box-shadow: 0px 1px 3px 1px rgba(0, 0, 0, 0.15);\n",
              "      filter: drop-shadow(0px 1px 2px rgba(0, 0, 0, 0.3));\n",
              "      fill: #FFFFFF;\n",
              "    }\n",
              "  </style>\n",
              "\n",
              "      <script>\n",
              "        const buttonEl =\n",
              "          document.querySelector('#df-67624aa2-5bc2-4446-b9a2-a060ef003971 button.colab-df-convert');\n",
              "        buttonEl.style.display =\n",
              "          google.colab.kernel.accessAllowed ? 'block' : 'none';\n",
              "\n",
              "        async function convertToInteractive(key) {\n",
              "          const element = document.querySelector('#df-67624aa2-5bc2-4446-b9a2-a060ef003971');\n",
              "          const dataTable =\n",
              "            await google.colab.kernel.invokeFunction('convertToInteractive',\n",
              "                                                     [key], {});\n",
              "          if (!dataTable) return;\n",
              "\n",
              "          const docLinkHtml = 'Like what you see? Visit the ' +\n",
              "            '<a target=\"_blank\" href=https://colab.research.google.com/notebooks/data_table.ipynb>data table notebook</a>'\n",
              "            + ' to learn more about interactive tables.';\n",
              "          element.innerHTML = '';\n",
              "          dataTable['output_type'] = 'display_data';\n",
              "          await google.colab.output.renderOutput(dataTable, element);\n",
              "          const docLink = document.createElement('div');\n",
              "          docLink.innerHTML = docLinkHtml;\n",
              "          element.appendChild(docLink);\n",
              "        }\n",
              "      </script>\n",
              "    </div>\n",
              "  </div>\n",
              "  "
            ]
          },
          "metadata": {},
          "execution_count": 7
        }
      ]
    },
    {
      "cell_type": "code",
      "source": [
        "print('Null Values:',maindf.isnull().values.sum()) #bagian dari preprocessing, line kode ini akan mencari nilai null pada maindf"
      ],
      "metadata": {
        "colab": {
          "base_uri": "https://localhost:8080/"
        },
        "id": "rb6QxH46KGSi",
        "outputId": "161d89e6-9f79-49bd-aaec-a4319c5c5baa"
      },
      "execution_count": 8,
      "outputs": [
        {
          "output_type": "stream",
          "name": "stdout",
          "text": [
            "Null Values: 6\n"
          ]
        }
      ]
    },
    {
      "cell_type": "code",
      "source": [
        "print('NA values:',maindf.isnull().values.any()) #bagian dari preprocessing, line kode ini akan mencari nilai null pada maindf"
      ],
      "metadata": {
        "colab": {
          "base_uri": "https://localhost:8080/"
        },
        "id": "1zv98MSPKGVI",
        "outputId": "b4c55a83-0b29-4ab7-e2d9-416291983a77"
      },
      "execution_count": 9,
      "outputs": [
        {
          "output_type": "stream",
          "name": "stdout",
          "text": [
            "NA values: True\n"
          ]
        }
      ]
    },
    {
      "cell_type": "code",
      "source": [
        "\n",
        "\n",
        "maindf=maindf.dropna() # bagian dari preprocessing,kode ini akan menghapus row yang berisi null/kosong/tidak ada data\n",
        "\n",
        "print('Null Values:',maindf.isnull().values.sum())#mengecek kembali apakah data null sudah dibersihkan\n",
        "print('NA values:',maindf.isnull().values.any())#mengecek kembali apakah data null sudah dibersihkan"
      ],
      "metadata": {
        "colab": {
          "base_uri": "https://localhost:8080/"
        },
        "id": "Sol4aU_BKGYP",
        "outputId": "902798d2-1150-4834-f025-0c0f90af1011"
      },
      "execution_count": 10,
      "outputs": [
        {
          "output_type": "stream",
          "name": "stdout",
          "text": [
            "Null Values: 0\n",
            "NA values: False\n"
          ]
        }
      ]
    },
    {
      "cell_type": "code",
      "source": [
        "#bentuk akhir setelah pembersihan nilai null\n",
        "maindf.shape"
      ],
      "metadata": {
        "colab": {
          "base_uri": "https://localhost:8080/"
        },
        "id": "C6VSR4p2LXFn",
        "outputId": "6bbabc4e-4aa2-47a7-9d97-fe5e7f92d668"
      },
      "execution_count": 11,
      "outputs": [
        {
          "output_type": "execute_result",
          "data": {
            "text/plain": [
              "(365, 7)"
            ]
          },
          "metadata": {},
          "execution_count": 11
        }
      ]
    },
    {
      "cell_type": "code",
      "source": [
        "#EDA(Exploratory Data Analysis) \n",
        "# EDA dipakai untuk mengexplore dan analisis suatu data set untuk menyimpulkan karakteristik data dan juga gambaran dari data tersebut\n",
        "\n",
        "sd=maindf.iloc[0][0] #iloc dipakai untuk mengambil data pada maindf yang berupa dataframe, [0][0] artinya iloc akan mengambil data pada baris 0 dan columm 0\n",
        "ed=maindf.iloc[-1][0] # nomor negative -1 digunakan untuk mengambil satu data terakhir di columm 0, columm 0 adalah 'date'\n",
        "\n",
        "\n",
        "print('Starting Date',sd)\n",
        "print('Ending Date',ed)"
      ],
      "metadata": {
        "colab": {
          "base_uri": "https://localhost:8080/"
        },
        "id": "3eYiPaJFLXKy",
        "outputId": "2e17efec-1c1e-4f89-a625-2ac6e12d39c9"
      },
      "execution_count": 12,
      "outputs": [
        {
          "output_type": "stream",
          "name": "stdout",
          "text": [
            "Starting Date 2021-06-11\n",
            "Ending Date 2022-06-11\n"
          ]
        }
      ]
    },
    {
      "cell_type": "code",
      "source": [
        "\n",
        "maindf['Date'] = pd.to_datetime(maindf['Date'], format='%Y-%m-%d') #penyesuaian format tanggal\n",
        "\n",
        "y_2021 = maindf.loc[(maindf['Date'] >= '2021-06-12') #ambil data pada maindf yang memiliki tanggal dari 2021-06-12 sampai 2022-06-11\n",
        "                     & (maindf['Date'] < '2022-06-11')]\n",
        "\n",
        "y_2021.drop(y_2021[['Adj Close','Volume']],axis=1) #hapus columm adj close dan volume\n"
      ],
      "metadata": {
        "colab": {
          "base_uri": "https://localhost:8080/",
          "height": 534
        },
        "id": "DfK-ORTRLXNc",
        "outputId": "c09e2ff5-77f8-49df-87ff-93d6f5a06af9"
      },
      "execution_count": 13,
      "outputs": [
        {
          "output_type": "stream",
          "name": "stderr",
          "text": [
            "/usr/local/lib/python3.7/dist-packages/ipykernel_launcher.py:2: SettingWithCopyWarning: \n",
            "A value is trying to be set on a copy of a slice from a DataFrame.\n",
            "Try using .loc[row_indexer,col_indexer] = value instead\n",
            "\n",
            "See the caveats in the documentation: https://pandas.pydata.org/pandas-docs/stable/user_guide/indexing.html#returning-a-view-versus-a-copy\n",
            "  \n"
          ]
        },
        {
          "output_type": "execute_result",
          "data": {
            "text/plain": [
              "          Date          Open          High           Low         Close\n",
              "1   2021-06-12  37340.144531  37408.925781  34728.191406  35552.515625\n",
              "2   2021-06-13  35555.789063  39322.781250  34864.109375  39097.859375\n",
              "3   2021-06-14  39016.968750  40978.363281  38757.285156  40218.476563\n",
              "4   2021-06-15  40427.167969  41295.269531  39609.468750  40406.269531\n",
              "5   2021-06-16  40168.691406  40516.777344  38176.035156  38347.062500\n",
              "..         ...           ...           ...           ...           ...\n",
              "359 2022-06-05  29835.117188  30117.744141  29574.449219  29906.662109\n",
              "360 2022-06-06  29910.283203  31693.291016  29894.187500  31370.671875\n",
              "361 2022-06-07  31371.742188  31489.683594  29311.683594  31155.478516\n",
              "362 2022-06-08  31151.480469  31253.691406  29944.404297  30214.355469\n",
              "363 2022-06-09  30215.279297  30609.310547  30020.265625  30111.998047\n",
              "\n",
              "[363 rows x 5 columns]"
            ],
            "text/html": [
              "\n",
              "  <div id=\"df-9363c532-dfa3-47bc-8367-4ce1a0328707\">\n",
              "    <div class=\"colab-df-container\">\n",
              "      <div>\n",
              "<style scoped>\n",
              "    .dataframe tbody tr th:only-of-type {\n",
              "        vertical-align: middle;\n",
              "    }\n",
              "\n",
              "    .dataframe tbody tr th {\n",
              "        vertical-align: top;\n",
              "    }\n",
              "\n",
              "    .dataframe thead th {\n",
              "        text-align: right;\n",
              "    }\n",
              "</style>\n",
              "<table border=\"1\" class=\"dataframe\">\n",
              "  <thead>\n",
              "    <tr style=\"text-align: right;\">\n",
              "      <th></th>\n",
              "      <th>Date</th>\n",
              "      <th>Open</th>\n",
              "      <th>High</th>\n",
              "      <th>Low</th>\n",
              "      <th>Close</th>\n",
              "    </tr>\n",
              "  </thead>\n",
              "  <tbody>\n",
              "    <tr>\n",
              "      <th>1</th>\n",
              "      <td>2021-06-12</td>\n",
              "      <td>37340.144531</td>\n",
              "      <td>37408.925781</td>\n",
              "      <td>34728.191406</td>\n",
              "      <td>35552.515625</td>\n",
              "    </tr>\n",
              "    <tr>\n",
              "      <th>2</th>\n",
              "      <td>2021-06-13</td>\n",
              "      <td>35555.789063</td>\n",
              "      <td>39322.781250</td>\n",
              "      <td>34864.109375</td>\n",
              "      <td>39097.859375</td>\n",
              "    </tr>\n",
              "    <tr>\n",
              "      <th>3</th>\n",
              "      <td>2021-06-14</td>\n",
              "      <td>39016.968750</td>\n",
              "      <td>40978.363281</td>\n",
              "      <td>38757.285156</td>\n",
              "      <td>40218.476563</td>\n",
              "    </tr>\n",
              "    <tr>\n",
              "      <th>4</th>\n",
              "      <td>2021-06-15</td>\n",
              "      <td>40427.167969</td>\n",
              "      <td>41295.269531</td>\n",
              "      <td>39609.468750</td>\n",
              "      <td>40406.269531</td>\n",
              "    </tr>\n",
              "    <tr>\n",
              "      <th>5</th>\n",
              "      <td>2021-06-16</td>\n",
              "      <td>40168.691406</td>\n",
              "      <td>40516.777344</td>\n",
              "      <td>38176.035156</td>\n",
              "      <td>38347.062500</td>\n",
              "    </tr>\n",
              "    <tr>\n",
              "      <th>...</th>\n",
              "      <td>...</td>\n",
              "      <td>...</td>\n",
              "      <td>...</td>\n",
              "      <td>...</td>\n",
              "      <td>...</td>\n",
              "    </tr>\n",
              "    <tr>\n",
              "      <th>359</th>\n",
              "      <td>2022-06-05</td>\n",
              "      <td>29835.117188</td>\n",
              "      <td>30117.744141</td>\n",
              "      <td>29574.449219</td>\n",
              "      <td>29906.662109</td>\n",
              "    </tr>\n",
              "    <tr>\n",
              "      <th>360</th>\n",
              "      <td>2022-06-06</td>\n",
              "      <td>29910.283203</td>\n",
              "      <td>31693.291016</td>\n",
              "      <td>29894.187500</td>\n",
              "      <td>31370.671875</td>\n",
              "    </tr>\n",
              "    <tr>\n",
              "      <th>361</th>\n",
              "      <td>2022-06-07</td>\n",
              "      <td>31371.742188</td>\n",
              "      <td>31489.683594</td>\n",
              "      <td>29311.683594</td>\n",
              "      <td>31155.478516</td>\n",
              "    </tr>\n",
              "    <tr>\n",
              "      <th>362</th>\n",
              "      <td>2022-06-08</td>\n",
              "      <td>31151.480469</td>\n",
              "      <td>31253.691406</td>\n",
              "      <td>29944.404297</td>\n",
              "      <td>30214.355469</td>\n",
              "    </tr>\n",
              "    <tr>\n",
              "      <th>363</th>\n",
              "      <td>2022-06-09</td>\n",
              "      <td>30215.279297</td>\n",
              "      <td>30609.310547</td>\n",
              "      <td>30020.265625</td>\n",
              "      <td>30111.998047</td>\n",
              "    </tr>\n",
              "  </tbody>\n",
              "</table>\n",
              "<p>363 rows × 5 columns</p>\n",
              "</div>\n",
              "      <button class=\"colab-df-convert\" onclick=\"convertToInteractive('df-9363c532-dfa3-47bc-8367-4ce1a0328707')\"\n",
              "              title=\"Convert this dataframe to an interactive table.\"\n",
              "              style=\"display:none;\">\n",
              "        \n",
              "  <svg xmlns=\"http://www.w3.org/2000/svg\" height=\"24px\"viewBox=\"0 0 24 24\"\n",
              "       width=\"24px\">\n",
              "    <path d=\"M0 0h24v24H0V0z\" fill=\"none\"/>\n",
              "    <path d=\"M18.56 5.44l.94 2.06.94-2.06 2.06-.94-2.06-.94-.94-2.06-.94 2.06-2.06.94zm-11 1L8.5 8.5l.94-2.06 2.06-.94-2.06-.94L8.5 2.5l-.94 2.06-2.06.94zm10 10l.94 2.06.94-2.06 2.06-.94-2.06-.94-.94-2.06-.94 2.06-2.06.94z\"/><path d=\"M17.41 7.96l-1.37-1.37c-.4-.4-.92-.59-1.43-.59-.52 0-1.04.2-1.43.59L10.3 9.45l-7.72 7.72c-.78.78-.78 2.05 0 2.83L4 21.41c.39.39.9.59 1.41.59.51 0 1.02-.2 1.41-.59l7.78-7.78 2.81-2.81c.8-.78.8-2.07 0-2.86zM5.41 20L4 18.59l7.72-7.72 1.47 1.35L5.41 20z\"/>\n",
              "  </svg>\n",
              "      </button>\n",
              "      \n",
              "  <style>\n",
              "    .colab-df-container {\n",
              "      display:flex;\n",
              "      flex-wrap:wrap;\n",
              "      gap: 12px;\n",
              "    }\n",
              "\n",
              "    .colab-df-convert {\n",
              "      background-color: #E8F0FE;\n",
              "      border: none;\n",
              "      border-radius: 50%;\n",
              "      cursor: pointer;\n",
              "      display: none;\n",
              "      fill: #1967D2;\n",
              "      height: 32px;\n",
              "      padding: 0 0 0 0;\n",
              "      width: 32px;\n",
              "    }\n",
              "\n",
              "    .colab-df-convert:hover {\n",
              "      background-color: #E2EBFA;\n",
              "      box-shadow: 0px 1px 2px rgba(60, 64, 67, 0.3), 0px 1px 3px 1px rgba(60, 64, 67, 0.15);\n",
              "      fill: #174EA6;\n",
              "    }\n",
              "\n",
              "    [theme=dark] .colab-df-convert {\n",
              "      background-color: #3B4455;\n",
              "      fill: #D2E3FC;\n",
              "    }\n",
              "\n",
              "    [theme=dark] .colab-df-convert:hover {\n",
              "      background-color: #434B5C;\n",
              "      box-shadow: 0px 1px 3px 1px rgba(0, 0, 0, 0.15);\n",
              "      filter: drop-shadow(0px 1px 2px rgba(0, 0, 0, 0.3));\n",
              "      fill: #FFFFFF;\n",
              "    }\n",
              "  </style>\n",
              "\n",
              "      <script>\n",
              "        const buttonEl =\n",
              "          document.querySelector('#df-9363c532-dfa3-47bc-8367-4ce1a0328707 button.colab-df-convert');\n",
              "        buttonEl.style.display =\n",
              "          google.colab.kernel.accessAllowed ? 'block' : 'none';\n",
              "\n",
              "        async function convertToInteractive(key) {\n",
              "          const element = document.querySelector('#df-9363c532-dfa3-47bc-8367-4ce1a0328707');\n",
              "          const dataTable =\n",
              "            await google.colab.kernel.invokeFunction('convertToInteractive',\n",
              "                                                     [key], {});\n",
              "          if (!dataTable) return;\n",
              "\n",
              "          const docLinkHtml = 'Like what you see? Visit the ' +\n",
              "            '<a target=\"_blank\" href=https://colab.research.google.com/notebooks/data_table.ipynb>data table notebook</a>'\n",
              "            + ' to learn more about interactive tables.';\n",
              "          element.innerHTML = '';\n",
              "          dataTable['output_type'] = 'display_data';\n",
              "          await google.colab.output.renderOutput(dataTable, element);\n",
              "          const docLink = document.createElement('div');\n",
              "          docLink.innerHTML = docLinkHtml;\n",
              "          element.appendChild(docLink);\n",
              "        }\n",
              "      </script>\n",
              "    </div>\n",
              "  </div>\n",
              "  "
            ]
          },
          "metadata": {},
          "execution_count": 13
        }
      ]
    },
    {
      "cell_type": "code",
      "source": [
        "monthvise= y_2021.groupby(y_2021['Date'].dt.strftime('%B'))[['Open','Close']].mean() \n",
        "#variable monthvise akan mengorganisir data berdasarkan tanggal yang ada pada variable y_2021['date'], dan di filter dengan '%B'\n",
        "# agar muncul perbulan, kemudian .mean akan mencari nilai rata rata tiap bulannya.\n",
        "\n",
        "\n",
        "new_order = ['January', 'February', 'March', 'April', 'May', 'June', 'July', 'August', \n",
        "             'September', 'October', 'November', 'December'] # penamaan ulang tiap bulan\n",
        "monthvise = monthvise.reindex(new_order, axis=0) # input penamaan ulang bulan pada variable new_order, dan masukan new_order pada axis 0\n",
        "monthvise #tampilkan data"
      ],
      "metadata": {
        "colab": {
          "base_uri": "https://localhost:8080/",
          "height": 457
        },
        "id": "-6WsU_C3LXQM",
        "outputId": "c1657461-a18f-4320-9caf-b79655991887"
      },
      "execution_count": 14,
      "outputs": [
        {
          "output_type": "execute_result",
          "data": {
            "text/plain": [
              "                   Open         Close\n",
              "Date                                 \n",
              "January    41368.073463  41114.422379\n",
              "February   40591.103934  40763.474051\n",
              "March      41889.148438  41966.237525\n",
              "April      41694.653646  41435.319662\n",
              "May        31900.711127  31706.105217\n",
              "June       33988.536342  33847.307478\n",
              "July       34234.212450  34444.973790\n",
              "August     45516.119834  45709.022682\n",
              "September  46041.859375  45939.771484\n",
              "October    57344.743952  57911.970514\n",
              "November   60857.520313  60621.488802\n",
              "December   49670.411794  49263.209174"
            ],
            "text/html": [
              "\n",
              "  <div id=\"df-67bd5706-f908-4a44-a06b-ea85716d04a1\">\n",
              "    <div class=\"colab-df-container\">\n",
              "      <div>\n",
              "<style scoped>\n",
              "    .dataframe tbody tr th:only-of-type {\n",
              "        vertical-align: middle;\n",
              "    }\n",
              "\n",
              "    .dataframe tbody tr th {\n",
              "        vertical-align: top;\n",
              "    }\n",
              "\n",
              "    .dataframe thead th {\n",
              "        text-align: right;\n",
              "    }\n",
              "</style>\n",
              "<table border=\"1\" class=\"dataframe\">\n",
              "  <thead>\n",
              "    <tr style=\"text-align: right;\">\n",
              "      <th></th>\n",
              "      <th>Open</th>\n",
              "      <th>Close</th>\n",
              "    </tr>\n",
              "    <tr>\n",
              "      <th>Date</th>\n",
              "      <th></th>\n",
              "      <th></th>\n",
              "    </tr>\n",
              "  </thead>\n",
              "  <tbody>\n",
              "    <tr>\n",
              "      <th>January</th>\n",
              "      <td>41368.073463</td>\n",
              "      <td>41114.422379</td>\n",
              "    </tr>\n",
              "    <tr>\n",
              "      <th>February</th>\n",
              "      <td>40591.103934</td>\n",
              "      <td>40763.474051</td>\n",
              "    </tr>\n",
              "    <tr>\n",
              "      <th>March</th>\n",
              "      <td>41889.148438</td>\n",
              "      <td>41966.237525</td>\n",
              "    </tr>\n",
              "    <tr>\n",
              "      <th>April</th>\n",
              "      <td>41694.653646</td>\n",
              "      <td>41435.319662</td>\n",
              "    </tr>\n",
              "    <tr>\n",
              "      <th>May</th>\n",
              "      <td>31900.711127</td>\n",
              "      <td>31706.105217</td>\n",
              "    </tr>\n",
              "    <tr>\n",
              "      <th>June</th>\n",
              "      <td>33988.536342</td>\n",
              "      <td>33847.307478</td>\n",
              "    </tr>\n",
              "    <tr>\n",
              "      <th>July</th>\n",
              "      <td>34234.212450</td>\n",
              "      <td>34444.973790</td>\n",
              "    </tr>\n",
              "    <tr>\n",
              "      <th>August</th>\n",
              "      <td>45516.119834</td>\n",
              "      <td>45709.022682</td>\n",
              "    </tr>\n",
              "    <tr>\n",
              "      <th>September</th>\n",
              "      <td>46041.859375</td>\n",
              "      <td>45939.771484</td>\n",
              "    </tr>\n",
              "    <tr>\n",
              "      <th>October</th>\n",
              "      <td>57344.743952</td>\n",
              "      <td>57911.970514</td>\n",
              "    </tr>\n",
              "    <tr>\n",
              "      <th>November</th>\n",
              "      <td>60857.520313</td>\n",
              "      <td>60621.488802</td>\n",
              "    </tr>\n",
              "    <tr>\n",
              "      <th>December</th>\n",
              "      <td>49670.411794</td>\n",
              "      <td>49263.209174</td>\n",
              "    </tr>\n",
              "  </tbody>\n",
              "</table>\n",
              "</div>\n",
              "      <button class=\"colab-df-convert\" onclick=\"convertToInteractive('df-67bd5706-f908-4a44-a06b-ea85716d04a1')\"\n",
              "              title=\"Convert this dataframe to an interactive table.\"\n",
              "              style=\"display:none;\">\n",
              "        \n",
              "  <svg xmlns=\"http://www.w3.org/2000/svg\" height=\"24px\"viewBox=\"0 0 24 24\"\n",
              "       width=\"24px\">\n",
              "    <path d=\"M0 0h24v24H0V0z\" fill=\"none\"/>\n",
              "    <path d=\"M18.56 5.44l.94 2.06.94-2.06 2.06-.94-2.06-.94-.94-2.06-.94 2.06-2.06.94zm-11 1L8.5 8.5l.94-2.06 2.06-.94-2.06-.94L8.5 2.5l-.94 2.06-2.06.94zm10 10l.94 2.06.94-2.06 2.06-.94-2.06-.94-.94-2.06-.94 2.06-2.06.94z\"/><path d=\"M17.41 7.96l-1.37-1.37c-.4-.4-.92-.59-1.43-.59-.52 0-1.04.2-1.43.59L10.3 9.45l-7.72 7.72c-.78.78-.78 2.05 0 2.83L4 21.41c.39.39.9.59 1.41.59.51 0 1.02-.2 1.41-.59l7.78-7.78 2.81-2.81c.8-.78.8-2.07 0-2.86zM5.41 20L4 18.59l7.72-7.72 1.47 1.35L5.41 20z\"/>\n",
              "  </svg>\n",
              "      </button>\n",
              "      \n",
              "  <style>\n",
              "    .colab-df-container {\n",
              "      display:flex;\n",
              "      flex-wrap:wrap;\n",
              "      gap: 12px;\n",
              "    }\n",
              "\n",
              "    .colab-df-convert {\n",
              "      background-color: #E8F0FE;\n",
              "      border: none;\n",
              "      border-radius: 50%;\n",
              "      cursor: pointer;\n",
              "      display: none;\n",
              "      fill: #1967D2;\n",
              "      height: 32px;\n",
              "      padding: 0 0 0 0;\n",
              "      width: 32px;\n",
              "    }\n",
              "\n",
              "    .colab-df-convert:hover {\n",
              "      background-color: #E2EBFA;\n",
              "      box-shadow: 0px 1px 2px rgba(60, 64, 67, 0.3), 0px 1px 3px 1px rgba(60, 64, 67, 0.15);\n",
              "      fill: #174EA6;\n",
              "    }\n",
              "\n",
              "    [theme=dark] .colab-df-convert {\n",
              "      background-color: #3B4455;\n",
              "      fill: #D2E3FC;\n",
              "    }\n",
              "\n",
              "    [theme=dark] .colab-df-convert:hover {\n",
              "      background-color: #434B5C;\n",
              "      box-shadow: 0px 1px 3px 1px rgba(0, 0, 0, 0.15);\n",
              "      filter: drop-shadow(0px 1px 2px rgba(0, 0, 0, 0.3));\n",
              "      fill: #FFFFFF;\n",
              "    }\n",
              "  </style>\n",
              "\n",
              "      <script>\n",
              "        const buttonEl =\n",
              "          document.querySelector('#df-67bd5706-f908-4a44-a06b-ea85716d04a1 button.colab-df-convert');\n",
              "        buttonEl.style.display =\n",
              "          google.colab.kernel.accessAllowed ? 'block' : 'none';\n",
              "\n",
              "        async function convertToInteractive(key) {\n",
              "          const element = document.querySelector('#df-67bd5706-f908-4a44-a06b-ea85716d04a1');\n",
              "          const dataTable =\n",
              "            await google.colab.kernel.invokeFunction('convertToInteractive',\n",
              "                                                     [key], {});\n",
              "          if (!dataTable) return;\n",
              "\n",
              "          const docLinkHtml = 'Like what you see? Visit the ' +\n",
              "            '<a target=\"_blank\" href=https://colab.research.google.com/notebooks/data_table.ipynb>data table notebook</a>'\n",
              "            + ' to learn more about interactive tables.';\n",
              "          element.innerHTML = '';\n",
              "          dataTable['output_type'] = 'display_data';\n",
              "          await google.colab.output.renderOutput(dataTable, element);\n",
              "          const docLink = document.createElement('div');\n",
              "          docLink.innerHTML = docLinkHtml;\n",
              "          element.appendChild(docLink);\n",
              "        }\n",
              "      </script>\n",
              "    </div>\n",
              "  </div>\n",
              "  "
            ]
          },
          "metadata": {},
          "execution_count": 14
        }
      ]
    },
    {
      "cell_type": "code",
      "source": [
        "fig = go.Figure() #tampilkan data bulanan\n",
        "\n",
        "fig.add_trace(go.Bar(\n",
        "    x=monthvise.index, # ini berisi data bulan\n",
        "    y=monthvise['Open'], # ini berisi data mean tiap bulan untuk columm 'open'\n",
        "    name='Stock Open Price',\n",
        "    marker_color='crimson'\n",
        "))\n",
        "fig.add_trace(go.Bar(\n",
        "    x=monthvise.index, # ini berisi data bulan\n",
        "    y=monthvise['Close'], # ini berisi data mean tiap bulan untuk columm 'close'\n",
        "    name='Stock Close Price',\n",
        "    marker_color='lightsalmon'\n",
        "))\n",
        "\n",
        "fig.update_layout(barmode='group', xaxis_tickangle=-45, \n",
        "                  title='Perbandingan harga open dan close bulanan')\n",
        "fig.show()"
      ],
      "metadata": {
        "colab": {
          "base_uri": "https://localhost:8080/",
          "height": 542
        },
        "id": "TeV337rQLXTq",
        "outputId": "289d912b-8b42-4088-f7c7-c0c40dcc0d29"
      },
      "execution_count": 15,
      "outputs": [
        {
          "output_type": "display_data",
          "data": {
            "text/html": [
              "<html>\n",
              "<head><meta charset=\"utf-8\" /></head>\n",
              "<body>\n",
              "    <div>            <script src=\"https://cdnjs.cloudflare.com/ajax/libs/mathjax/2.7.5/MathJax.js?config=TeX-AMS-MML_SVG\"></script><script type=\"text/javascript\">if (window.MathJax) {MathJax.Hub.Config({SVG: {font: \"STIX-Web\"}});}</script>                <script type=\"text/javascript\">window.PlotlyConfig = {MathJaxConfig: 'local'};</script>\n",
              "        <script src=\"https://cdn.plot.ly/plotly-2.8.3.min.js\"></script>                <div id=\"228ecf87-88ce-4309-8a15-b63b79bc9d3c\" class=\"plotly-graph-div\" style=\"height:525px; width:100%;\"></div>            <script type=\"text/javascript\">                                    window.PLOTLYENV=window.PLOTLYENV || {};                                    if (document.getElementById(\"228ecf87-88ce-4309-8a15-b63b79bc9d3c\")) {                    Plotly.newPlot(                        \"228ecf87-88ce-4309-8a15-b63b79bc9d3c\",                        [{\"marker\":{\"color\":\"crimson\"},\"name\":\"Stock Open Price\",\"x\":[\"January\",\"February\",\"March\",\"April\",\"May\",\"June\",\"July\",\"August\",\"September\",\"October\",\"November\",\"December\"],\"y\":[41368.07346296774,40591.10393428571,41889.14843770968,41694.65364596667,31900.711126548387,33988.53634225,34234.21244967742,45516.119833774195,46041.85937506667,57344.74395174193,60857.52031266667,49670.41179445161],\"type\":\"bar\"},{\"marker\":{\"color\":\"lightsalmon\"},\"name\":\"Stock Close Price\",\"x\":[\"January\",\"February\",\"March\",\"April\",\"May\",\"June\",\"July\",\"August\",\"September\",\"October\",\"November\",\"December\"],\"y\":[41114.42237919355,40763.47405146428,41966.23752535484,41435.31966156667,31706.105216741937,33847.30747775,34444.97379035484,45709.02268161291,45939.77148433333,57911.970514258064,60621.488802199994,49263.20917354839],\"type\":\"bar\"}],                        {\"template\":{\"data\":{\"bar\":[{\"error_x\":{\"color\":\"#2a3f5f\"},\"error_y\":{\"color\":\"#2a3f5f\"},\"marker\":{\"line\":{\"color\":\"#E5ECF6\",\"width\":0.5},\"pattern\":{\"fillmode\":\"overlay\",\"size\":10,\"solidity\":0.2}},\"type\":\"bar\"}],\"barpolar\":[{\"marker\":{\"line\":{\"color\":\"#E5ECF6\",\"width\":0.5},\"pattern\":{\"fillmode\":\"overlay\",\"size\":10,\"solidity\":0.2}},\"type\":\"barpolar\"}],\"carpet\":[{\"aaxis\":{\"endlinecolor\":\"#2a3f5f\",\"gridcolor\":\"white\",\"linecolor\":\"white\",\"minorgridcolor\":\"white\",\"startlinecolor\":\"#2a3f5f\"},\"baxis\":{\"endlinecolor\":\"#2a3f5f\",\"gridcolor\":\"white\",\"linecolor\":\"white\",\"minorgridcolor\":\"white\",\"startlinecolor\":\"#2a3f5f\"},\"type\":\"carpet\"}],\"choropleth\":[{\"colorbar\":{\"outlinewidth\":0,\"ticks\":\"\"},\"type\":\"choropleth\"}],\"contour\":[{\"colorbar\":{\"outlinewidth\":0,\"ticks\":\"\"},\"colorscale\":[[0.0,\"#0d0887\"],[0.1111111111111111,\"#46039f\"],[0.2222222222222222,\"#7201a8\"],[0.3333333333333333,\"#9c179e\"],[0.4444444444444444,\"#bd3786\"],[0.5555555555555556,\"#d8576b\"],[0.6666666666666666,\"#ed7953\"],[0.7777777777777778,\"#fb9f3a\"],[0.8888888888888888,\"#fdca26\"],[1.0,\"#f0f921\"]],\"type\":\"contour\"}],\"contourcarpet\":[{\"colorbar\":{\"outlinewidth\":0,\"ticks\":\"\"},\"type\":\"contourcarpet\"}],\"heatmap\":[{\"colorbar\":{\"outlinewidth\":0,\"ticks\":\"\"},\"colorscale\":[[0.0,\"#0d0887\"],[0.1111111111111111,\"#46039f\"],[0.2222222222222222,\"#7201a8\"],[0.3333333333333333,\"#9c179e\"],[0.4444444444444444,\"#bd3786\"],[0.5555555555555556,\"#d8576b\"],[0.6666666666666666,\"#ed7953\"],[0.7777777777777778,\"#fb9f3a\"],[0.8888888888888888,\"#fdca26\"],[1.0,\"#f0f921\"]],\"type\":\"heatmap\"}],\"heatmapgl\":[{\"colorbar\":{\"outlinewidth\":0,\"ticks\":\"\"},\"colorscale\":[[0.0,\"#0d0887\"],[0.1111111111111111,\"#46039f\"],[0.2222222222222222,\"#7201a8\"],[0.3333333333333333,\"#9c179e\"],[0.4444444444444444,\"#bd3786\"],[0.5555555555555556,\"#d8576b\"],[0.6666666666666666,\"#ed7953\"],[0.7777777777777778,\"#fb9f3a\"],[0.8888888888888888,\"#fdca26\"],[1.0,\"#f0f921\"]],\"type\":\"heatmapgl\"}],\"histogram\":[{\"marker\":{\"pattern\":{\"fillmode\":\"overlay\",\"size\":10,\"solidity\":0.2}},\"type\":\"histogram\"}],\"histogram2d\":[{\"colorbar\":{\"outlinewidth\":0,\"ticks\":\"\"},\"colorscale\":[[0.0,\"#0d0887\"],[0.1111111111111111,\"#46039f\"],[0.2222222222222222,\"#7201a8\"],[0.3333333333333333,\"#9c179e\"],[0.4444444444444444,\"#bd3786\"],[0.5555555555555556,\"#d8576b\"],[0.6666666666666666,\"#ed7953\"],[0.7777777777777778,\"#fb9f3a\"],[0.8888888888888888,\"#fdca26\"],[1.0,\"#f0f921\"]],\"type\":\"histogram2d\"}],\"histogram2dcontour\":[{\"colorbar\":{\"outlinewidth\":0,\"ticks\":\"\"},\"colorscale\":[[0.0,\"#0d0887\"],[0.1111111111111111,\"#46039f\"],[0.2222222222222222,\"#7201a8\"],[0.3333333333333333,\"#9c179e\"],[0.4444444444444444,\"#bd3786\"],[0.5555555555555556,\"#d8576b\"],[0.6666666666666666,\"#ed7953\"],[0.7777777777777778,\"#fb9f3a\"],[0.8888888888888888,\"#fdca26\"],[1.0,\"#f0f921\"]],\"type\":\"histogram2dcontour\"}],\"mesh3d\":[{\"colorbar\":{\"outlinewidth\":0,\"ticks\":\"\"},\"type\":\"mesh3d\"}],\"parcoords\":[{\"line\":{\"colorbar\":{\"outlinewidth\":0,\"ticks\":\"\"}},\"type\":\"parcoords\"}],\"pie\":[{\"automargin\":true,\"type\":\"pie\"}],\"scatter\":[{\"marker\":{\"colorbar\":{\"outlinewidth\":0,\"ticks\":\"\"}},\"type\":\"scatter\"}],\"scatter3d\":[{\"line\":{\"colorbar\":{\"outlinewidth\":0,\"ticks\":\"\"}},\"marker\":{\"colorbar\":{\"outlinewidth\":0,\"ticks\":\"\"}},\"type\":\"scatter3d\"}],\"scattercarpet\":[{\"marker\":{\"colorbar\":{\"outlinewidth\":0,\"ticks\":\"\"}},\"type\":\"scattercarpet\"}],\"scattergeo\":[{\"marker\":{\"colorbar\":{\"outlinewidth\":0,\"ticks\":\"\"}},\"type\":\"scattergeo\"}],\"scattergl\":[{\"marker\":{\"colorbar\":{\"outlinewidth\":0,\"ticks\":\"\"}},\"type\":\"scattergl\"}],\"scattermapbox\":[{\"marker\":{\"colorbar\":{\"outlinewidth\":0,\"ticks\":\"\"}},\"type\":\"scattermapbox\"}],\"scatterpolar\":[{\"marker\":{\"colorbar\":{\"outlinewidth\":0,\"ticks\":\"\"}},\"type\":\"scatterpolar\"}],\"scatterpolargl\":[{\"marker\":{\"colorbar\":{\"outlinewidth\":0,\"ticks\":\"\"}},\"type\":\"scatterpolargl\"}],\"scatterternary\":[{\"marker\":{\"colorbar\":{\"outlinewidth\":0,\"ticks\":\"\"}},\"type\":\"scatterternary\"}],\"surface\":[{\"colorbar\":{\"outlinewidth\":0,\"ticks\":\"\"},\"colorscale\":[[0.0,\"#0d0887\"],[0.1111111111111111,\"#46039f\"],[0.2222222222222222,\"#7201a8\"],[0.3333333333333333,\"#9c179e\"],[0.4444444444444444,\"#bd3786\"],[0.5555555555555556,\"#d8576b\"],[0.6666666666666666,\"#ed7953\"],[0.7777777777777778,\"#fb9f3a\"],[0.8888888888888888,\"#fdca26\"],[1.0,\"#f0f921\"]],\"type\":\"surface\"}],\"table\":[{\"cells\":{\"fill\":{\"color\":\"#EBF0F8\"},\"line\":{\"color\":\"white\"}},\"header\":{\"fill\":{\"color\":\"#C8D4E3\"},\"line\":{\"color\":\"white\"}},\"type\":\"table\"}]},\"layout\":{\"annotationdefaults\":{\"arrowcolor\":\"#2a3f5f\",\"arrowhead\":0,\"arrowwidth\":1},\"autotypenumbers\":\"strict\",\"coloraxis\":{\"colorbar\":{\"outlinewidth\":0,\"ticks\":\"\"}},\"colorscale\":{\"diverging\":[[0,\"#8e0152\"],[0.1,\"#c51b7d\"],[0.2,\"#de77ae\"],[0.3,\"#f1b6da\"],[0.4,\"#fde0ef\"],[0.5,\"#f7f7f7\"],[0.6,\"#e6f5d0\"],[0.7,\"#b8e186\"],[0.8,\"#7fbc41\"],[0.9,\"#4d9221\"],[1,\"#276419\"]],\"sequential\":[[0.0,\"#0d0887\"],[0.1111111111111111,\"#46039f\"],[0.2222222222222222,\"#7201a8\"],[0.3333333333333333,\"#9c179e\"],[0.4444444444444444,\"#bd3786\"],[0.5555555555555556,\"#d8576b\"],[0.6666666666666666,\"#ed7953\"],[0.7777777777777778,\"#fb9f3a\"],[0.8888888888888888,\"#fdca26\"],[1.0,\"#f0f921\"]],\"sequentialminus\":[[0.0,\"#0d0887\"],[0.1111111111111111,\"#46039f\"],[0.2222222222222222,\"#7201a8\"],[0.3333333333333333,\"#9c179e\"],[0.4444444444444444,\"#bd3786\"],[0.5555555555555556,\"#d8576b\"],[0.6666666666666666,\"#ed7953\"],[0.7777777777777778,\"#fb9f3a\"],[0.8888888888888888,\"#fdca26\"],[1.0,\"#f0f921\"]]},\"colorway\":[\"#636efa\",\"#EF553B\",\"#00cc96\",\"#ab63fa\",\"#FFA15A\",\"#19d3f3\",\"#FF6692\",\"#B6E880\",\"#FF97FF\",\"#FECB52\"],\"font\":{\"color\":\"#2a3f5f\"},\"geo\":{\"bgcolor\":\"white\",\"lakecolor\":\"white\",\"landcolor\":\"#E5ECF6\",\"showlakes\":true,\"showland\":true,\"subunitcolor\":\"white\"},\"hoverlabel\":{\"align\":\"left\"},\"hovermode\":\"closest\",\"mapbox\":{\"style\":\"light\"},\"paper_bgcolor\":\"white\",\"plot_bgcolor\":\"#E5ECF6\",\"polar\":{\"angularaxis\":{\"gridcolor\":\"white\",\"linecolor\":\"white\",\"ticks\":\"\"},\"bgcolor\":\"#E5ECF6\",\"radialaxis\":{\"gridcolor\":\"white\",\"linecolor\":\"white\",\"ticks\":\"\"}},\"scene\":{\"xaxis\":{\"backgroundcolor\":\"#E5ECF6\",\"gridcolor\":\"white\",\"gridwidth\":2,\"linecolor\":\"white\",\"showbackground\":true,\"ticks\":\"\",\"zerolinecolor\":\"white\"},\"yaxis\":{\"backgroundcolor\":\"#E5ECF6\",\"gridcolor\":\"white\",\"gridwidth\":2,\"linecolor\":\"white\",\"showbackground\":true,\"ticks\":\"\",\"zerolinecolor\":\"white\"},\"zaxis\":{\"backgroundcolor\":\"#E5ECF6\",\"gridcolor\":\"white\",\"gridwidth\":2,\"linecolor\":\"white\",\"showbackground\":true,\"ticks\":\"\",\"zerolinecolor\":\"white\"}},\"shapedefaults\":{\"line\":{\"color\":\"#2a3f5f\"}},\"ternary\":{\"aaxis\":{\"gridcolor\":\"white\",\"linecolor\":\"white\",\"ticks\":\"\"},\"baxis\":{\"gridcolor\":\"white\",\"linecolor\":\"white\",\"ticks\":\"\"},\"bgcolor\":\"#E5ECF6\",\"caxis\":{\"gridcolor\":\"white\",\"linecolor\":\"white\",\"ticks\":\"\"}},\"title\":{\"x\":0.05},\"xaxis\":{\"automargin\":true,\"gridcolor\":\"white\",\"linecolor\":\"white\",\"ticks\":\"\",\"title\":{\"standoff\":15},\"zerolinecolor\":\"white\",\"zerolinewidth\":2},\"yaxis\":{\"automargin\":true,\"gridcolor\":\"white\",\"linecolor\":\"white\",\"ticks\":\"\",\"title\":{\"standoff\":15},\"zerolinecolor\":\"white\",\"zerolinewidth\":2}}},\"xaxis\":{\"tickangle\":-45},\"barmode\":\"group\",\"title\":{\"text\":\"Perbandingan harga open dan close bulanan\"}},                        {\"responsive\": true}                    ).then(function(){\n",
              "                            \n",
              "var gd = document.getElementById('228ecf87-88ce-4309-8a15-b63b79bc9d3c');\n",
              "var x = new MutationObserver(function (mutations, observer) {{\n",
              "        var display = window.getComputedStyle(gd).display;\n",
              "        if (!display || display === 'none') {{\n",
              "            console.log([gd, 'removed!']);\n",
              "            Plotly.purge(gd);\n",
              "            observer.disconnect();\n",
              "        }}\n",
              "}});\n",
              "\n",
              "// Listen for the removal of the full notebook cells\n",
              "var notebookContainer = gd.closest('#notebook-container');\n",
              "if (notebookContainer) {{\n",
              "    x.observe(notebookContainer, {childList: true});\n",
              "}}\n",
              "\n",
              "// Listen for the clearing of the current output cell\n",
              "var outputEl = gd.closest('.output');\n",
              "if (outputEl) {{\n",
              "    x.observe(outputEl, {childList: true});\n",
              "}}\n",
              "\n",
              "                        })                };                            </script>        </div>\n",
              "</body>\n",
              "</html>"
            ]
          },
          "metadata": {}
        }
      ]
    },
    {
      "cell_type": "code",
      "source": [
        "y_2021.groupby(y_2021['Date'].dt.strftime('%B'))['Low'].min()\n",
        "#mengorganisir data berdasarkan tanggal yang ada pada y_2021['date'], kemudian filter berdasarkan bulan dan tampilkan nilai #terendah menggunakan method min() pada kolumm low\n",
        "\n",
        "monthvise_high = y_2021.groupby(maindf['Date'].dt.strftime('%B'))['High'].max()\n",
        "#mengorganisir data berdasarkan tanggal yang ada pada y_2021['date'], kemudian filter berdasarkan bulan dan tampilkan nilai \n",
        "#tertinggi menggunakan method max() pada kolumm 'low'\n",
        "\n",
        "monthvise_high = monthvise_high.reindex(new_order, axis=0)\n",
        "#organisair data dengan penamaan bulan yang bersumber dari new_order, dan masukan penamaan bulan baru itu ke index 0\n",
        "\n",
        "monthvise_low = y_2021.groupby(y_2021['Date'].dt.strftime('%B'))['Low'].min()\n",
        "#mengorganisir data berdasarkan tanggal yang ada pada y_2021['date'], kemudian filter berdasarkan bulan dan tampilkan nilai #terendah menggunakan method min() pada kolumm low\n",
        "monthvise_low = monthvise_low.reindex(new_order, axis=0)\n",
        "#organisair data dengan penamaan bulan yang bersumber dari new_order, dan masukan penamaan bulan baru itu ke index 0\n",
        "\n",
        "fig = go.Figure()\n",
        "fig.add_trace(go.Bar(\n",
        "    x=monthvise_high.index, #ini isinya bulan\n",
        "    y=monthvise_high, #ini isinya nilai tertinggi pada setiap bulan\n",
        "    name='Harga Tinggi',\n",
        "    marker_color='rgb(0, 153, 204)'\n",
        "))\n",
        "fig.add_trace(go.Bar(\n",
        "    x=monthvise_low.index, #ini isinya bulan\n",
        "    y=monthvise_low, #ini isinya nilai terendah pada setiap bulan\n",
        "    name='Harga Rendah',\n",
        "    marker_color='rgb(255, 128, 0)'\n",
        "))\n",
        "\n",
        "fig.update_layout(barmode='group', \n",
        "                  title=' Harga tinggi dan rendah tiap bulan')\n",
        "fig.show()"
      ],
      "metadata": {
        "colab": {
          "base_uri": "https://localhost:8080/",
          "height": 542
        },
        "id": "QVv9AweQNHRD",
        "outputId": "dbb79542-98b1-47c2-fac4-94ea62535e8f"
      },
      "execution_count": 16,
      "outputs": [
        {
          "output_type": "display_data",
          "data": {
            "text/html": [
              "<html>\n",
              "<head><meta charset=\"utf-8\" /></head>\n",
              "<body>\n",
              "    <div>            <script src=\"https://cdnjs.cloudflare.com/ajax/libs/mathjax/2.7.5/MathJax.js?config=TeX-AMS-MML_SVG\"></script><script type=\"text/javascript\">if (window.MathJax) {MathJax.Hub.Config({SVG: {font: \"STIX-Web\"}});}</script>                <script type=\"text/javascript\">window.PlotlyConfig = {MathJaxConfig: 'local'};</script>\n",
              "        <script src=\"https://cdn.plot.ly/plotly-2.8.3.min.js\"></script>                <div id=\"58abf38f-c1b7-48ef-91ed-0e0173adbc8d\" class=\"plotly-graph-div\" style=\"height:525px; width:100%;\"></div>            <script type=\"text/javascript\">                                    window.PLOTLYENV=window.PLOTLYENV || {};                                    if (document.getElementById(\"58abf38f-c1b7-48ef-91ed-0e0173adbc8d\")) {                    Plotly.newPlot(                        \"58abf38f-c1b7-48ef-91ed-0e0173adbc8d\",                        [{\"marker\":{\"color\":\"rgb(0, 153, 204)\"},\"name\":\"Harga Tinggi\",\"x\":[\"January\",\"February\",\"March\",\"April\",\"May\",\"June\",\"July\",\"August\",\"September\",\"October\",\"November\",\"December\"],\"y\":[47881.40625,45661.171875,48086.835938,47313.476563,39902.949219,41295.269531,42235.546875,50482.078125,52853.765625,66930.390625,68789.625,59041.683594],\"type\":\"bar\"},{\"marker\":{\"color\":\"rgb(255, 128, 0)\"},\"name\":\"Harga Rendah\",\"x\":[\"January\",\"February\",\"March\",\"April\",\"May\",\"June\",\"July\",\"August\",\"September\",\"October\",\"November\",\"December\"],\"y\":[33184.058594,34459.21875,37260.203125,37697.941406,26350.490234,28893.621094,29360.955078,37458.003906,39787.609375,43320.023438,53569.765625,42874.617188],\"type\":\"bar\"}],                        {\"template\":{\"data\":{\"bar\":[{\"error_x\":{\"color\":\"#2a3f5f\"},\"error_y\":{\"color\":\"#2a3f5f\"},\"marker\":{\"line\":{\"color\":\"#E5ECF6\",\"width\":0.5},\"pattern\":{\"fillmode\":\"overlay\",\"size\":10,\"solidity\":0.2}},\"type\":\"bar\"}],\"barpolar\":[{\"marker\":{\"line\":{\"color\":\"#E5ECF6\",\"width\":0.5},\"pattern\":{\"fillmode\":\"overlay\",\"size\":10,\"solidity\":0.2}},\"type\":\"barpolar\"}],\"carpet\":[{\"aaxis\":{\"endlinecolor\":\"#2a3f5f\",\"gridcolor\":\"white\",\"linecolor\":\"white\",\"minorgridcolor\":\"white\",\"startlinecolor\":\"#2a3f5f\"},\"baxis\":{\"endlinecolor\":\"#2a3f5f\",\"gridcolor\":\"white\",\"linecolor\":\"white\",\"minorgridcolor\":\"white\",\"startlinecolor\":\"#2a3f5f\"},\"type\":\"carpet\"}],\"choropleth\":[{\"colorbar\":{\"outlinewidth\":0,\"ticks\":\"\"},\"type\":\"choropleth\"}],\"contour\":[{\"colorbar\":{\"outlinewidth\":0,\"ticks\":\"\"},\"colorscale\":[[0.0,\"#0d0887\"],[0.1111111111111111,\"#46039f\"],[0.2222222222222222,\"#7201a8\"],[0.3333333333333333,\"#9c179e\"],[0.4444444444444444,\"#bd3786\"],[0.5555555555555556,\"#d8576b\"],[0.6666666666666666,\"#ed7953\"],[0.7777777777777778,\"#fb9f3a\"],[0.8888888888888888,\"#fdca26\"],[1.0,\"#f0f921\"]],\"type\":\"contour\"}],\"contourcarpet\":[{\"colorbar\":{\"outlinewidth\":0,\"ticks\":\"\"},\"type\":\"contourcarpet\"}],\"heatmap\":[{\"colorbar\":{\"outlinewidth\":0,\"ticks\":\"\"},\"colorscale\":[[0.0,\"#0d0887\"],[0.1111111111111111,\"#46039f\"],[0.2222222222222222,\"#7201a8\"],[0.3333333333333333,\"#9c179e\"],[0.4444444444444444,\"#bd3786\"],[0.5555555555555556,\"#d8576b\"],[0.6666666666666666,\"#ed7953\"],[0.7777777777777778,\"#fb9f3a\"],[0.8888888888888888,\"#fdca26\"],[1.0,\"#f0f921\"]],\"type\":\"heatmap\"}],\"heatmapgl\":[{\"colorbar\":{\"outlinewidth\":0,\"ticks\":\"\"},\"colorscale\":[[0.0,\"#0d0887\"],[0.1111111111111111,\"#46039f\"],[0.2222222222222222,\"#7201a8\"],[0.3333333333333333,\"#9c179e\"],[0.4444444444444444,\"#bd3786\"],[0.5555555555555556,\"#d8576b\"],[0.6666666666666666,\"#ed7953\"],[0.7777777777777778,\"#fb9f3a\"],[0.8888888888888888,\"#fdca26\"],[1.0,\"#f0f921\"]],\"type\":\"heatmapgl\"}],\"histogram\":[{\"marker\":{\"pattern\":{\"fillmode\":\"overlay\",\"size\":10,\"solidity\":0.2}},\"type\":\"histogram\"}],\"histogram2d\":[{\"colorbar\":{\"outlinewidth\":0,\"ticks\":\"\"},\"colorscale\":[[0.0,\"#0d0887\"],[0.1111111111111111,\"#46039f\"],[0.2222222222222222,\"#7201a8\"],[0.3333333333333333,\"#9c179e\"],[0.4444444444444444,\"#bd3786\"],[0.5555555555555556,\"#d8576b\"],[0.6666666666666666,\"#ed7953\"],[0.7777777777777778,\"#fb9f3a\"],[0.8888888888888888,\"#fdca26\"],[1.0,\"#f0f921\"]],\"type\":\"histogram2d\"}],\"histogram2dcontour\":[{\"colorbar\":{\"outlinewidth\":0,\"ticks\":\"\"},\"colorscale\":[[0.0,\"#0d0887\"],[0.1111111111111111,\"#46039f\"],[0.2222222222222222,\"#7201a8\"],[0.3333333333333333,\"#9c179e\"],[0.4444444444444444,\"#bd3786\"],[0.5555555555555556,\"#d8576b\"],[0.6666666666666666,\"#ed7953\"],[0.7777777777777778,\"#fb9f3a\"],[0.8888888888888888,\"#fdca26\"],[1.0,\"#f0f921\"]],\"type\":\"histogram2dcontour\"}],\"mesh3d\":[{\"colorbar\":{\"outlinewidth\":0,\"ticks\":\"\"},\"type\":\"mesh3d\"}],\"parcoords\":[{\"line\":{\"colorbar\":{\"outlinewidth\":0,\"ticks\":\"\"}},\"type\":\"parcoords\"}],\"pie\":[{\"automargin\":true,\"type\":\"pie\"}],\"scatter\":[{\"marker\":{\"colorbar\":{\"outlinewidth\":0,\"ticks\":\"\"}},\"type\":\"scatter\"}],\"scatter3d\":[{\"line\":{\"colorbar\":{\"outlinewidth\":0,\"ticks\":\"\"}},\"marker\":{\"colorbar\":{\"outlinewidth\":0,\"ticks\":\"\"}},\"type\":\"scatter3d\"}],\"scattercarpet\":[{\"marker\":{\"colorbar\":{\"outlinewidth\":0,\"ticks\":\"\"}},\"type\":\"scattercarpet\"}],\"scattergeo\":[{\"marker\":{\"colorbar\":{\"outlinewidth\":0,\"ticks\":\"\"}},\"type\":\"scattergeo\"}],\"scattergl\":[{\"marker\":{\"colorbar\":{\"outlinewidth\":0,\"ticks\":\"\"}},\"type\":\"scattergl\"}],\"scattermapbox\":[{\"marker\":{\"colorbar\":{\"outlinewidth\":0,\"ticks\":\"\"}},\"type\":\"scattermapbox\"}],\"scatterpolar\":[{\"marker\":{\"colorbar\":{\"outlinewidth\":0,\"ticks\":\"\"}},\"type\":\"scatterpolar\"}],\"scatterpolargl\":[{\"marker\":{\"colorbar\":{\"outlinewidth\":0,\"ticks\":\"\"}},\"type\":\"scatterpolargl\"}],\"scatterternary\":[{\"marker\":{\"colorbar\":{\"outlinewidth\":0,\"ticks\":\"\"}},\"type\":\"scatterternary\"}],\"surface\":[{\"colorbar\":{\"outlinewidth\":0,\"ticks\":\"\"},\"colorscale\":[[0.0,\"#0d0887\"],[0.1111111111111111,\"#46039f\"],[0.2222222222222222,\"#7201a8\"],[0.3333333333333333,\"#9c179e\"],[0.4444444444444444,\"#bd3786\"],[0.5555555555555556,\"#d8576b\"],[0.6666666666666666,\"#ed7953\"],[0.7777777777777778,\"#fb9f3a\"],[0.8888888888888888,\"#fdca26\"],[1.0,\"#f0f921\"]],\"type\":\"surface\"}],\"table\":[{\"cells\":{\"fill\":{\"color\":\"#EBF0F8\"},\"line\":{\"color\":\"white\"}},\"header\":{\"fill\":{\"color\":\"#C8D4E3\"},\"line\":{\"color\":\"white\"}},\"type\":\"table\"}]},\"layout\":{\"annotationdefaults\":{\"arrowcolor\":\"#2a3f5f\",\"arrowhead\":0,\"arrowwidth\":1},\"autotypenumbers\":\"strict\",\"coloraxis\":{\"colorbar\":{\"outlinewidth\":0,\"ticks\":\"\"}},\"colorscale\":{\"diverging\":[[0,\"#8e0152\"],[0.1,\"#c51b7d\"],[0.2,\"#de77ae\"],[0.3,\"#f1b6da\"],[0.4,\"#fde0ef\"],[0.5,\"#f7f7f7\"],[0.6,\"#e6f5d0\"],[0.7,\"#b8e186\"],[0.8,\"#7fbc41\"],[0.9,\"#4d9221\"],[1,\"#276419\"]],\"sequential\":[[0.0,\"#0d0887\"],[0.1111111111111111,\"#46039f\"],[0.2222222222222222,\"#7201a8\"],[0.3333333333333333,\"#9c179e\"],[0.4444444444444444,\"#bd3786\"],[0.5555555555555556,\"#d8576b\"],[0.6666666666666666,\"#ed7953\"],[0.7777777777777778,\"#fb9f3a\"],[0.8888888888888888,\"#fdca26\"],[1.0,\"#f0f921\"]],\"sequentialminus\":[[0.0,\"#0d0887\"],[0.1111111111111111,\"#46039f\"],[0.2222222222222222,\"#7201a8\"],[0.3333333333333333,\"#9c179e\"],[0.4444444444444444,\"#bd3786\"],[0.5555555555555556,\"#d8576b\"],[0.6666666666666666,\"#ed7953\"],[0.7777777777777778,\"#fb9f3a\"],[0.8888888888888888,\"#fdca26\"],[1.0,\"#f0f921\"]]},\"colorway\":[\"#636efa\",\"#EF553B\",\"#00cc96\",\"#ab63fa\",\"#FFA15A\",\"#19d3f3\",\"#FF6692\",\"#B6E880\",\"#FF97FF\",\"#FECB52\"],\"font\":{\"color\":\"#2a3f5f\"},\"geo\":{\"bgcolor\":\"white\",\"lakecolor\":\"white\",\"landcolor\":\"#E5ECF6\",\"showlakes\":true,\"showland\":true,\"subunitcolor\":\"white\"},\"hoverlabel\":{\"align\":\"left\"},\"hovermode\":\"closest\",\"mapbox\":{\"style\":\"light\"},\"paper_bgcolor\":\"white\",\"plot_bgcolor\":\"#E5ECF6\",\"polar\":{\"angularaxis\":{\"gridcolor\":\"white\",\"linecolor\":\"white\",\"ticks\":\"\"},\"bgcolor\":\"#E5ECF6\",\"radialaxis\":{\"gridcolor\":\"white\",\"linecolor\":\"white\",\"ticks\":\"\"}},\"scene\":{\"xaxis\":{\"backgroundcolor\":\"#E5ECF6\",\"gridcolor\":\"white\",\"gridwidth\":2,\"linecolor\":\"white\",\"showbackground\":true,\"ticks\":\"\",\"zerolinecolor\":\"white\"},\"yaxis\":{\"backgroundcolor\":\"#E5ECF6\",\"gridcolor\":\"white\",\"gridwidth\":2,\"linecolor\":\"white\",\"showbackground\":true,\"ticks\":\"\",\"zerolinecolor\":\"white\"},\"zaxis\":{\"backgroundcolor\":\"#E5ECF6\",\"gridcolor\":\"white\",\"gridwidth\":2,\"linecolor\":\"white\",\"showbackground\":true,\"ticks\":\"\",\"zerolinecolor\":\"white\"}},\"shapedefaults\":{\"line\":{\"color\":\"#2a3f5f\"}},\"ternary\":{\"aaxis\":{\"gridcolor\":\"white\",\"linecolor\":\"white\",\"ticks\":\"\"},\"baxis\":{\"gridcolor\":\"white\",\"linecolor\":\"white\",\"ticks\":\"\"},\"bgcolor\":\"#E5ECF6\",\"caxis\":{\"gridcolor\":\"white\",\"linecolor\":\"white\",\"ticks\":\"\"}},\"title\":{\"x\":0.05},\"xaxis\":{\"automargin\":true,\"gridcolor\":\"white\",\"linecolor\":\"white\",\"ticks\":\"\",\"title\":{\"standoff\":15},\"zerolinecolor\":\"white\",\"zerolinewidth\":2},\"yaxis\":{\"automargin\":true,\"gridcolor\":\"white\",\"linecolor\":\"white\",\"ticks\":\"\",\"title\":{\"standoff\":15},\"zerolinecolor\":\"white\",\"zerolinewidth\":2}}},\"barmode\":\"group\",\"title\":{\"text\":\" Harga tinggi dan rendah tiap bulan\"}},                        {\"responsive\": true}                    ).then(function(){\n",
              "                            \n",
              "var gd = document.getElementById('58abf38f-c1b7-48ef-91ed-0e0173adbc8d');\n",
              "var x = new MutationObserver(function (mutations, observer) {{\n",
              "        var display = window.getComputedStyle(gd).display;\n",
              "        if (!display || display === 'none') {{\n",
              "            console.log([gd, 'removed!']);\n",
              "            Plotly.purge(gd);\n",
              "            observer.disconnect();\n",
              "        }}\n",
              "}});\n",
              "\n",
              "// Listen for the removal of the full notebook cells\n",
              "var notebookContainer = gd.closest('#notebook-container');\n",
              "if (notebookContainer) {{\n",
              "    x.observe(notebookContainer, {childList: true});\n",
              "}}\n",
              "\n",
              "// Listen for the clearing of the current output cell\n",
              "var outputEl = gd.closest('.output');\n",
              "if (outputEl) {{\n",
              "    x.observe(outputEl, {childList: true});\n",
              "}}\n",
              "\n",
              "                        })                };                            </script>        </div>\n",
              "</body>\n",
              "</html>"
            ]
          },
          "metadata": {}
        }
      ]
    },
    {
      "cell_type": "code",
      "source": [
        "names = cycle(['Harga Open ','Harga Close ','Harga High','Harga Low '])\n",
        "\n",
        "fig = px.line(y_2021, x=y_2021.Date, y=[y_2021['Open'], y_2021['Close'], \n",
        "                                          y_2021['High'], y_2021['Low']],\n",
        "             labels={'Date': 'Tanggal','value':'Harga'})\n",
        "fig.update_layout(title_text='Chart analisis harga', font_size=15, font_color='black',legend_title_text=' Parameters')\n",
        "fig.for_each_trace(lambda t:  t.update(name = next(names)))\n",
        "fig.update_xaxes(showgrid=False)\n",
        "fig.update_yaxes(showgrid=False)\n",
        "\n",
        "fig.show()"
      ],
      "metadata": {
        "colab": {
          "base_uri": "https://localhost:8080/",
          "height": 542
        },
        "id": "kKdLy8ZDNbvR",
        "outputId": "1390ed1b-8b83-490c-bd46-8f05c74a7ec2"
      },
      "execution_count": 17,
      "outputs": [
        {
          "output_type": "display_data",
          "data": {
            "text/html": [
              "<html>\n",
              "<head><meta charset=\"utf-8\" /></head>\n",
              "<body>\n",
              "    <div>            <script src=\"https://cdnjs.cloudflare.com/ajax/libs/mathjax/2.7.5/MathJax.js?config=TeX-AMS-MML_SVG\"></script><script type=\"text/javascript\">if (window.MathJax) {MathJax.Hub.Config({SVG: {font: \"STIX-Web\"}});}</script>                <script type=\"text/javascript\">window.PlotlyConfig = {MathJaxConfig: 'local'};</script>\n",
              "        <script src=\"https://cdn.plot.ly/plotly-2.8.3.min.js\"></script>                <div id=\"31545303-2e77-4063-b2db-5324287d9b06\" class=\"plotly-graph-div\" style=\"height:525px; width:100%;\"></div>            <script type=\"text/javascript\">                                    window.PLOTLYENV=window.PLOTLYENV || {};                                    if (document.getElementById(\"31545303-2e77-4063-b2db-5324287d9b06\")) {                    Plotly.newPlot(                        \"31545303-2e77-4063-b2db-5324287d9b06\",                        [{\"hovertemplate\":\"variable=Open<br>Tanggal=%{x}<br>Harga=%{y}<extra></extra>\",\"legendgroup\":\"Open\",\"line\":{\"color\":\"#636efa\",\"dash\":\"solid\"},\"marker\":{\"symbol\":\"circle\"},\"mode\":\"lines\",\"name\":\"Harga Open \",\"showlegend\":true,\"x\":[\"2021-06-12T00:00:00\",\"2021-06-13T00:00:00\",\"2021-06-14T00:00:00\",\"2021-06-15T00:00:00\",\"2021-06-16T00:00:00\",\"2021-06-17T00:00:00\",\"2021-06-18T00:00:00\",\"2021-06-19T00:00:00\",\"2021-06-20T00:00:00\",\"2021-06-21T00:00:00\",\"2021-06-22T00:00:00\",\"2021-06-23T00:00:00\",\"2021-06-24T00:00:00\",\"2021-06-25T00:00:00\",\"2021-06-26T00:00:00\",\"2021-06-27T00:00:00\",\"2021-06-28T00:00:00\",\"2021-06-29T00:00:00\",\"2021-06-30T00:00:00\",\"2021-07-01T00:00:00\",\"2021-07-02T00:00:00\",\"2021-07-03T00:00:00\",\"2021-07-04T00:00:00\",\"2021-07-05T00:00:00\",\"2021-07-06T00:00:00\",\"2021-07-07T00:00:00\",\"2021-07-08T00:00:00\",\"2021-07-09T00:00:00\",\"2021-07-10T00:00:00\",\"2021-07-11T00:00:00\",\"2021-07-12T00:00:00\",\"2021-07-13T00:00:00\",\"2021-07-14T00:00:00\",\"2021-07-15T00:00:00\",\"2021-07-16T00:00:00\",\"2021-07-17T00:00:00\",\"2021-07-18T00:00:00\",\"2021-07-19T00:00:00\",\"2021-07-20T00:00:00\",\"2021-07-21T00:00:00\",\"2021-07-22T00:00:00\",\"2021-07-23T00:00:00\",\"2021-07-24T00:00:00\",\"2021-07-25T00:00:00\",\"2021-07-26T00:00:00\",\"2021-07-27T00:00:00\",\"2021-07-28T00:00:00\",\"2021-07-29T00:00:00\",\"2021-07-30T00:00:00\",\"2021-07-31T00:00:00\",\"2021-08-01T00:00:00\",\"2021-08-02T00:00:00\",\"2021-08-03T00:00:00\",\"2021-08-04T00:00:00\",\"2021-08-05T00:00:00\",\"2021-08-06T00:00:00\",\"2021-08-07T00:00:00\",\"2021-08-08T00:00:00\",\"2021-08-09T00:00:00\",\"2021-08-10T00:00:00\",\"2021-08-11T00:00:00\",\"2021-08-12T00:00:00\",\"2021-08-13T00:00:00\",\"2021-08-14T00:00:00\",\"2021-08-15T00:00:00\",\"2021-08-16T00:00:00\",\"2021-08-17T00:00:00\",\"2021-08-18T00:00:00\",\"2021-08-19T00:00:00\",\"2021-08-20T00:00:00\",\"2021-08-21T00:00:00\",\"2021-08-22T00:00:00\",\"2021-08-23T00:00:00\",\"2021-08-24T00:00:00\",\"2021-08-25T00:00:00\",\"2021-08-26T00:00:00\",\"2021-08-27T00:00:00\",\"2021-08-28T00:00:00\",\"2021-08-29T00:00:00\",\"2021-08-30T00:00:00\",\"2021-08-31T00:00:00\",\"2021-09-01T00:00:00\",\"2021-09-02T00:00:00\",\"2021-09-03T00:00:00\",\"2021-09-04T00:00:00\",\"2021-09-05T00:00:00\",\"2021-09-06T00:00:00\",\"2021-09-07T00:00:00\",\"2021-09-08T00:00:00\",\"2021-09-09T00:00:00\",\"2021-09-10T00:00:00\",\"2021-09-11T00:00:00\",\"2021-09-12T00:00:00\",\"2021-09-13T00:00:00\",\"2021-09-14T00:00:00\",\"2021-09-15T00:00:00\",\"2021-09-16T00:00:00\",\"2021-09-17T00:00:00\",\"2021-09-18T00:00:00\",\"2021-09-19T00:00:00\",\"2021-09-20T00:00:00\",\"2021-09-21T00:00:00\",\"2021-09-22T00:00:00\",\"2021-09-23T00:00:00\",\"2021-09-24T00:00:00\",\"2021-09-25T00:00:00\",\"2021-09-26T00:00:00\",\"2021-09-27T00:00:00\",\"2021-09-28T00:00:00\",\"2021-09-29T00:00:00\",\"2021-09-30T00:00:00\",\"2021-10-01T00:00:00\",\"2021-10-02T00:00:00\",\"2021-10-03T00:00:00\",\"2021-10-04T00:00:00\",\"2021-10-05T00:00:00\",\"2021-10-06T00:00:00\",\"2021-10-07T00:00:00\",\"2021-10-08T00:00:00\",\"2021-10-09T00:00:00\",\"2021-10-10T00:00:00\",\"2021-10-11T00:00:00\",\"2021-10-12T00:00:00\",\"2021-10-13T00:00:00\",\"2021-10-14T00:00:00\",\"2021-10-15T00:00:00\",\"2021-10-16T00:00:00\",\"2021-10-17T00:00:00\",\"2021-10-18T00:00:00\",\"2021-10-19T00:00:00\",\"2021-10-20T00:00:00\",\"2021-10-21T00:00:00\",\"2021-10-22T00:00:00\",\"2021-10-23T00:00:00\",\"2021-10-24T00:00:00\",\"2021-10-25T00:00:00\",\"2021-10-26T00:00:00\",\"2021-10-27T00:00:00\",\"2021-10-28T00:00:00\",\"2021-10-29T00:00:00\",\"2021-10-30T00:00:00\",\"2021-10-31T00:00:00\",\"2021-11-01T00:00:00\",\"2021-11-02T00:00:00\",\"2021-11-03T00:00:00\",\"2021-11-04T00:00:00\",\"2021-11-05T00:00:00\",\"2021-11-06T00:00:00\",\"2021-11-07T00:00:00\",\"2021-11-08T00:00:00\",\"2021-11-09T00:00:00\",\"2021-11-10T00:00:00\",\"2021-11-11T00:00:00\",\"2021-11-12T00:00:00\",\"2021-11-13T00:00:00\",\"2021-11-14T00:00:00\",\"2021-11-15T00:00:00\",\"2021-11-16T00:00:00\",\"2021-11-17T00:00:00\",\"2021-11-18T00:00:00\",\"2021-11-19T00:00:00\",\"2021-11-20T00:00:00\",\"2021-11-21T00:00:00\",\"2021-11-22T00:00:00\",\"2021-11-23T00:00:00\",\"2021-11-24T00:00:00\",\"2021-11-25T00:00:00\",\"2021-11-26T00:00:00\",\"2021-11-27T00:00:00\",\"2021-11-28T00:00:00\",\"2021-11-29T00:00:00\",\"2021-11-30T00:00:00\",\"2021-12-01T00:00:00\",\"2021-12-02T00:00:00\",\"2021-12-03T00:00:00\",\"2021-12-04T00:00:00\",\"2021-12-05T00:00:00\",\"2021-12-06T00:00:00\",\"2021-12-07T00:00:00\",\"2021-12-08T00:00:00\",\"2021-12-09T00:00:00\",\"2021-12-10T00:00:00\",\"2021-12-11T00:00:00\",\"2021-12-12T00:00:00\",\"2021-12-13T00:00:00\",\"2021-12-14T00:00:00\",\"2021-12-15T00:00:00\",\"2021-12-16T00:00:00\",\"2021-12-17T00:00:00\",\"2021-12-18T00:00:00\",\"2021-12-19T00:00:00\",\"2021-12-20T00:00:00\",\"2021-12-21T00:00:00\",\"2021-12-22T00:00:00\",\"2021-12-23T00:00:00\",\"2021-12-24T00:00:00\",\"2021-12-25T00:00:00\",\"2021-12-26T00:00:00\",\"2021-12-27T00:00:00\",\"2021-12-28T00:00:00\",\"2021-12-29T00:00:00\",\"2021-12-30T00:00:00\",\"2021-12-31T00:00:00\",\"2022-01-01T00:00:00\",\"2022-01-02T00:00:00\",\"2022-01-03T00:00:00\",\"2022-01-04T00:00:00\",\"2022-01-05T00:00:00\",\"2022-01-06T00:00:00\",\"2022-01-07T00:00:00\",\"2022-01-08T00:00:00\",\"2022-01-09T00:00:00\",\"2022-01-10T00:00:00\",\"2022-01-11T00:00:00\",\"2022-01-12T00:00:00\",\"2022-01-13T00:00:00\",\"2022-01-14T00:00:00\",\"2022-01-15T00:00:00\",\"2022-01-16T00:00:00\",\"2022-01-17T00:00:00\",\"2022-01-18T00:00:00\",\"2022-01-19T00:00:00\",\"2022-01-20T00:00:00\",\"2022-01-21T00:00:00\",\"2022-01-22T00:00:00\",\"2022-01-23T00:00:00\",\"2022-01-24T00:00:00\",\"2022-01-25T00:00:00\",\"2022-01-26T00:00:00\",\"2022-01-27T00:00:00\",\"2022-01-28T00:00:00\",\"2022-01-29T00:00:00\",\"2022-01-30T00:00:00\",\"2022-01-31T00:00:00\",\"2022-02-01T00:00:00\",\"2022-02-02T00:00:00\",\"2022-02-03T00:00:00\",\"2022-02-04T00:00:00\",\"2022-02-05T00:00:00\",\"2022-02-06T00:00:00\",\"2022-02-07T00:00:00\",\"2022-02-08T00:00:00\",\"2022-02-09T00:00:00\",\"2022-02-10T00:00:00\",\"2022-02-11T00:00:00\",\"2022-02-12T00:00:00\",\"2022-02-13T00:00:00\",\"2022-02-14T00:00:00\",\"2022-02-15T00:00:00\",\"2022-02-16T00:00:00\",\"2022-02-17T00:00:00\",\"2022-02-18T00:00:00\",\"2022-02-19T00:00:00\",\"2022-02-20T00:00:00\",\"2022-02-21T00:00:00\",\"2022-02-22T00:00:00\",\"2022-02-23T00:00:00\",\"2022-02-24T00:00:00\",\"2022-02-25T00:00:00\",\"2022-02-26T00:00:00\",\"2022-02-27T00:00:00\",\"2022-02-28T00:00:00\",\"2022-03-01T00:00:00\",\"2022-03-02T00:00:00\",\"2022-03-03T00:00:00\",\"2022-03-04T00:00:00\",\"2022-03-05T00:00:00\",\"2022-03-06T00:00:00\",\"2022-03-07T00:00:00\",\"2022-03-08T00:00:00\",\"2022-03-09T00:00:00\",\"2022-03-10T00:00:00\",\"2022-03-11T00:00:00\",\"2022-03-12T00:00:00\",\"2022-03-13T00:00:00\",\"2022-03-14T00:00:00\",\"2022-03-15T00:00:00\",\"2022-03-16T00:00:00\",\"2022-03-17T00:00:00\",\"2022-03-18T00:00:00\",\"2022-03-19T00:00:00\",\"2022-03-20T00:00:00\",\"2022-03-21T00:00:00\",\"2022-03-22T00:00:00\",\"2022-03-23T00:00:00\",\"2022-03-24T00:00:00\",\"2022-03-25T00:00:00\",\"2022-03-26T00:00:00\",\"2022-03-27T00:00:00\",\"2022-03-28T00:00:00\",\"2022-03-29T00:00:00\",\"2022-03-30T00:00:00\",\"2022-03-31T00:00:00\",\"2022-04-01T00:00:00\",\"2022-04-02T00:00:00\",\"2022-04-03T00:00:00\",\"2022-04-04T00:00:00\",\"2022-04-05T00:00:00\",\"2022-04-06T00:00:00\",\"2022-04-07T00:00:00\",\"2022-04-08T00:00:00\",\"2022-04-09T00:00:00\",\"2022-04-10T00:00:00\",\"2022-04-11T00:00:00\",\"2022-04-12T00:00:00\",\"2022-04-13T00:00:00\",\"2022-04-14T00:00:00\",\"2022-04-15T00:00:00\",\"2022-04-16T00:00:00\",\"2022-04-17T00:00:00\",\"2022-04-18T00:00:00\",\"2022-04-19T00:00:00\",\"2022-04-20T00:00:00\",\"2022-04-21T00:00:00\",\"2022-04-22T00:00:00\",\"2022-04-23T00:00:00\",\"2022-04-24T00:00:00\",\"2022-04-25T00:00:00\",\"2022-04-26T00:00:00\",\"2022-04-27T00:00:00\",\"2022-04-28T00:00:00\",\"2022-04-29T00:00:00\",\"2022-04-30T00:00:00\",\"2022-05-01T00:00:00\",\"2022-05-02T00:00:00\",\"2022-05-03T00:00:00\",\"2022-05-04T00:00:00\",\"2022-05-05T00:00:00\",\"2022-05-06T00:00:00\",\"2022-05-07T00:00:00\",\"2022-05-08T00:00:00\",\"2022-05-09T00:00:00\",\"2022-05-10T00:00:00\",\"2022-05-11T00:00:00\",\"2022-05-12T00:00:00\",\"2022-05-13T00:00:00\",\"2022-05-14T00:00:00\",\"2022-05-15T00:00:00\",\"2022-05-16T00:00:00\",\"2022-05-17T00:00:00\",\"2022-05-18T00:00:00\",\"2022-05-19T00:00:00\",\"2022-05-20T00:00:00\",\"2022-05-21T00:00:00\",\"2022-05-22T00:00:00\",\"2022-05-23T00:00:00\",\"2022-05-24T00:00:00\",\"2022-05-25T00:00:00\",\"2022-05-26T00:00:00\",\"2022-05-27T00:00:00\",\"2022-05-28T00:00:00\",\"2022-05-29T00:00:00\",\"2022-05-30T00:00:00\",\"2022-05-31T00:00:00\",\"2022-06-01T00:00:00\",\"2022-06-02T00:00:00\",\"2022-06-03T00:00:00\",\"2022-06-04T00:00:00\",\"2022-06-05T00:00:00\",\"2022-06-06T00:00:00\",\"2022-06-07T00:00:00\",\"2022-06-08T00:00:00\",\"2022-06-09T00:00:00\"],\"xaxis\":\"x\",\"y\":[37340.144531,35555.789063,39016.96875,40427.167969,40168.691406,38341.421875,38099.476563,35854.527344,35563.140625,35641.144531,31622.376953,32515.714844,33682.800781,34659.105469,31594.664063,32287.523438,34679.121094,34475.558594,35908.386719,35035.984375,33549.601563,33854.421875,34665.566406,35284.34375,33723.507813,34225.679688,33889.605469,32861.671875,33811.242188,33509.078125,34254.015625,33125.46875,32723.845703,32827.875,31841.550781,31397.308594,31533.884766,31800.011719,30838.285156,29796.285156,32138.873047,32305.958984,33593.730469,34290.292969,35384.03125,37276.035156,39503.1875,39995.453125,40027.484375,42196.304688,41460.84375,39907.261719,39178.402344,38213.332031,39744.515625,40865.867188,42832.796875,44574.4375,43791.925781,46280.847656,45599.703125,45576.878906,44439.691406,47810.6875,47096.667969,47019.960938,45936.457031,44686.75,44741.882813,46723.121094,49327.074219,48869.105469,49291.675781,49562.347656,47727.257813,49002.640625,46894.554688,49072.585938,48911.25,48834.851563,47024.339844,47099.773438,48807.847656,49288.25,50009.324219,49937.859375,51769.003906,52660.480469,46827.761719,45774.742188,46396.664063,44869.839844,45206.628906,46057.214844,44960.050781,47098.0,48158.90625,47771.003906,47273.527344,48268.855469,47261.40625,43012.234375,40677.953125,43560.296875,44894.300781,42840.890625,42721.628906,43234.183594,42200.898438,41064.984375,41551.269531,43816.742188,48137.46875,47680.027344,48208.90625,49174.960938,51486.664063,55338.625,53802.144531,53929.78125,54952.820313,54734.125,57526.832031,56038.257813,57372.832031,57345.902344,61609.527344,60887.652344,61548.804688,62043.164063,64284.585938,66002.234375,62237.890625,60694.628906,61368.34375,60893.925781,63032.761719,60352.0,58470.730469,60624.871094,62239.363281,61850.488281,61320.449219,60963.253906,63254.335938,62941.804688,61460.078125,61068.875,61554.921875,63344.066406,67549.734375,66953.335938,64978.890625,64863.980469,64158.121094,64455.371094,65521.289063,63721.195313,60139.621094,60360.136719,56896.128906,58115.082031,59730.507813,58706.847656,56304.554688,57565.851563,57165.417969,58960.285156,53736.429688,54813.023438,57291.90625,57830.113281,56907.964844,57217.371094,56509.164063,53727.878906,49201.519531,49413.480469,50581.828125,50667.648438,50450.082031,47642.144531,47264.632813,49354.855469,50114.742188,46709.824219,48379.753906,48900.464844,47653.730469,46219.253906,46853.867188,46707.0625,46886.078125,48937.097656,48626.34375,50806.050781,50854.917969,50428.691406,50802.609375,50679.859375,47623.871094,46490.605469,47169.371094,46311.746094,47680.925781,47343.542969,46458.851563,45899.359375,43565.511719,43153.570313,41561.464844,41734.726563,41910.230469,41819.507813,42742.179688,43946.742188,42598.871094,43101.898438,43172.039063,43118.121094,42250.074219,42374.039063,41744.027344,40699.605469,36471.589844,35047.359375,36275.734375,36654.804688,36950.515625,36841.878906,37128.445313,37780.714844,38151.917969,37920.28125,38481.765625,38743.714844,36944.804688,37149.265625,41501.480469,41441.121094,42406.78125,43854.652344,44096.703125,44347.800781,43571.128906,42412.300781,42236.566406,42157.398438,42586.464844,44578.277344,43937.070313,40552.132813,40026.023438,40118.101563,38423.210938,37068.769531,38285.28125,37278.566406,38333.746094,39213.082031,39098.699219,37706.0,43194.503906,44357.617188,43925.195313,42458.140625,39148.449219,39404.199219,38429.304688,38059.902344,38742.816406,41974.070313,39439.96875,38794.464844,38884.726563,37846.316406,39664.25,39335.570313,41140.84375,40944.839844,41794.648438,42191.40625,41246.132813,41074.105469,42364.378906,42886.652344,43964.546875,44349.859375,44505.355469,46821.851563,47100.4375,47456.898438,47062.148438,45554.164063,46285.5,45859.128906,46445.273438,46624.507813,45544.355469,43207.5,43505.136719,42282.078125,42781.089844,42201.039063,39533.714844,40123.570313,41160.21875,39939.402344,40552.316406,40417.777344,39721.203125,40828.175781,41501.746094,41371.515625,40525.863281,39738.722656,39478.375,39472.605469,40448.421875,38120.300781,39241.429688,39768.617188,38605.859375,37713.265625,38472.1875,38528.109375,37748.011719,39695.746094,36573.183594,36042.503906,35502.941406,34060.015625,30273.654297,31016.183594,28936.734375,29030.910156,29285.642578,30098.585938,31304.375,29862.408203,30424.478516,28720.359375,30311.119141,29199.859375,29432.472656,30309.396484,29101.125,29653.134766,29564.777344,29251.140625,28622.625,29019.867188,29443.365234,31723.865234,31792.554688,29794.890625,30467.806641,29706.138672,29835.117188,29910.283203,31371.742188,31151.480469,30215.279297],\"yaxis\":\"y\",\"type\":\"scattergl\"},{\"hovertemplate\":\"variable=Close<br>Tanggal=%{x}<br>Harga=%{y}<extra></extra>\",\"legendgroup\":\"Close\",\"line\":{\"color\":\"#EF553B\",\"dash\":\"solid\"},\"marker\":{\"symbol\":\"circle\"},\"mode\":\"lines\",\"name\":\"Harga Close \",\"showlegend\":true,\"x\":[\"2021-06-12T00:00:00\",\"2021-06-13T00:00:00\",\"2021-06-14T00:00:00\",\"2021-06-15T00:00:00\",\"2021-06-16T00:00:00\",\"2021-06-17T00:00:00\",\"2021-06-18T00:00:00\",\"2021-06-19T00:00:00\",\"2021-06-20T00:00:00\",\"2021-06-21T00:00:00\",\"2021-06-22T00:00:00\",\"2021-06-23T00:00:00\",\"2021-06-24T00:00:00\",\"2021-06-25T00:00:00\",\"2021-06-26T00:00:00\",\"2021-06-27T00:00:00\",\"2021-06-28T00:00:00\",\"2021-06-29T00:00:00\",\"2021-06-30T00:00:00\",\"2021-07-01T00:00:00\",\"2021-07-02T00:00:00\",\"2021-07-03T00:00:00\",\"2021-07-04T00:00:00\",\"2021-07-05T00:00:00\",\"2021-07-06T00:00:00\",\"2021-07-07T00:00:00\",\"2021-07-08T00:00:00\",\"2021-07-09T00:00:00\",\"2021-07-10T00:00:00\",\"2021-07-11T00:00:00\",\"2021-07-12T00:00:00\",\"2021-07-13T00:00:00\",\"2021-07-14T00:00:00\",\"2021-07-15T00:00:00\",\"2021-07-16T00:00:00\",\"2021-07-17T00:00:00\",\"2021-07-18T00:00:00\",\"2021-07-19T00:00:00\",\"2021-07-20T00:00:00\",\"2021-07-21T00:00:00\",\"2021-07-22T00:00:00\",\"2021-07-23T00:00:00\",\"2021-07-24T00:00:00\",\"2021-07-25T00:00:00\",\"2021-07-26T00:00:00\",\"2021-07-27T00:00:00\",\"2021-07-28T00:00:00\",\"2021-07-29T00:00:00\",\"2021-07-30T00:00:00\",\"2021-07-31T00:00:00\",\"2021-08-01T00:00:00\",\"2021-08-02T00:00:00\",\"2021-08-03T00:00:00\",\"2021-08-04T00:00:00\",\"2021-08-05T00:00:00\",\"2021-08-06T00:00:00\",\"2021-08-07T00:00:00\",\"2021-08-08T00:00:00\",\"2021-08-09T00:00:00\",\"2021-08-10T00:00:00\",\"2021-08-11T00:00:00\",\"2021-08-12T00:00:00\",\"2021-08-13T00:00:00\",\"2021-08-14T00:00:00\",\"2021-08-15T00:00:00\",\"2021-08-16T00:00:00\",\"2021-08-17T00:00:00\",\"2021-08-18T00:00:00\",\"2021-08-19T00:00:00\",\"2021-08-20T00:00:00\",\"2021-08-21T00:00:00\",\"2021-08-22T00:00:00\",\"2021-08-23T00:00:00\",\"2021-08-24T00:00:00\",\"2021-08-25T00:00:00\",\"2021-08-26T00:00:00\",\"2021-08-27T00:00:00\",\"2021-08-28T00:00:00\",\"2021-08-29T00:00:00\",\"2021-08-30T00:00:00\",\"2021-08-31T00:00:00\",\"2021-09-01T00:00:00\",\"2021-09-02T00:00:00\",\"2021-09-03T00:00:00\",\"2021-09-04T00:00:00\",\"2021-09-05T00:00:00\",\"2021-09-06T00:00:00\",\"2021-09-07T00:00:00\",\"2021-09-08T00:00:00\",\"2021-09-09T00:00:00\",\"2021-09-10T00:00:00\",\"2021-09-11T00:00:00\",\"2021-09-12T00:00:00\",\"2021-09-13T00:00:00\",\"2021-09-14T00:00:00\",\"2021-09-15T00:00:00\",\"2021-09-16T00:00:00\",\"2021-09-17T00:00:00\",\"2021-09-18T00:00:00\",\"2021-09-19T00:00:00\",\"2021-09-20T00:00:00\",\"2021-09-21T00:00:00\",\"2021-09-22T00:00:00\",\"2021-09-23T00:00:00\",\"2021-09-24T00:00:00\",\"2021-09-25T00:00:00\",\"2021-09-26T00:00:00\",\"2021-09-27T00:00:00\",\"2021-09-28T00:00:00\",\"2021-09-29T00:00:00\",\"2021-09-30T00:00:00\",\"2021-10-01T00:00:00\",\"2021-10-02T00:00:00\",\"2021-10-03T00:00:00\",\"2021-10-04T00:00:00\",\"2021-10-05T00:00:00\",\"2021-10-06T00:00:00\",\"2021-10-07T00:00:00\",\"2021-10-08T00:00:00\",\"2021-10-09T00:00:00\",\"2021-10-10T00:00:00\",\"2021-10-11T00:00:00\",\"2021-10-12T00:00:00\",\"2021-10-13T00:00:00\",\"2021-10-14T00:00:00\",\"2021-10-15T00:00:00\",\"2021-10-16T00:00:00\",\"2021-10-17T00:00:00\",\"2021-10-18T00:00:00\",\"2021-10-19T00:00:00\",\"2021-10-20T00:00:00\",\"2021-10-21T00:00:00\",\"2021-10-22T00:00:00\",\"2021-10-23T00:00:00\",\"2021-10-24T00:00:00\",\"2021-10-25T00:00:00\",\"2021-10-26T00:00:00\",\"2021-10-27T00:00:00\",\"2021-10-28T00:00:00\",\"2021-10-29T00:00:00\",\"2021-10-30T00:00:00\",\"2021-10-31T00:00:00\",\"2021-11-01T00:00:00\",\"2021-11-02T00:00:00\",\"2021-11-03T00:00:00\",\"2021-11-04T00:00:00\",\"2021-11-05T00:00:00\",\"2021-11-06T00:00:00\",\"2021-11-07T00:00:00\",\"2021-11-08T00:00:00\",\"2021-11-09T00:00:00\",\"2021-11-10T00:00:00\",\"2021-11-11T00:00:00\",\"2021-11-12T00:00:00\",\"2021-11-13T00:00:00\",\"2021-11-14T00:00:00\",\"2021-11-15T00:00:00\",\"2021-11-16T00:00:00\",\"2021-11-17T00:00:00\",\"2021-11-18T00:00:00\",\"2021-11-19T00:00:00\",\"2021-11-20T00:00:00\",\"2021-11-21T00:00:00\",\"2021-11-22T00:00:00\",\"2021-11-23T00:00:00\",\"2021-11-24T00:00:00\",\"2021-11-25T00:00:00\",\"2021-11-26T00:00:00\",\"2021-11-27T00:00:00\",\"2021-11-28T00:00:00\",\"2021-11-29T00:00:00\",\"2021-11-30T00:00:00\",\"2021-12-01T00:00:00\",\"2021-12-02T00:00:00\",\"2021-12-03T00:00:00\",\"2021-12-04T00:00:00\",\"2021-12-05T00:00:00\",\"2021-12-06T00:00:00\",\"2021-12-07T00:00:00\",\"2021-12-08T00:00:00\",\"2021-12-09T00:00:00\",\"2021-12-10T00:00:00\",\"2021-12-11T00:00:00\",\"2021-12-12T00:00:00\",\"2021-12-13T00:00:00\",\"2021-12-14T00:00:00\",\"2021-12-15T00:00:00\",\"2021-12-16T00:00:00\",\"2021-12-17T00:00:00\",\"2021-12-18T00:00:00\",\"2021-12-19T00:00:00\",\"2021-12-20T00:00:00\",\"2021-12-21T00:00:00\",\"2021-12-22T00:00:00\",\"2021-12-23T00:00:00\",\"2021-12-24T00:00:00\",\"2021-12-25T00:00:00\",\"2021-12-26T00:00:00\",\"2021-12-27T00:00:00\",\"2021-12-28T00:00:00\",\"2021-12-29T00:00:00\",\"2021-12-30T00:00:00\",\"2021-12-31T00:00:00\",\"2022-01-01T00:00:00\",\"2022-01-02T00:00:00\",\"2022-01-03T00:00:00\",\"2022-01-04T00:00:00\",\"2022-01-05T00:00:00\",\"2022-01-06T00:00:00\",\"2022-01-07T00:00:00\",\"2022-01-08T00:00:00\",\"2022-01-09T00:00:00\",\"2022-01-10T00:00:00\",\"2022-01-11T00:00:00\",\"2022-01-12T00:00:00\",\"2022-01-13T00:00:00\",\"2022-01-14T00:00:00\",\"2022-01-15T00:00:00\",\"2022-01-16T00:00:00\",\"2022-01-17T00:00:00\",\"2022-01-18T00:00:00\",\"2022-01-19T00:00:00\",\"2022-01-20T00:00:00\",\"2022-01-21T00:00:00\",\"2022-01-22T00:00:00\",\"2022-01-23T00:00:00\",\"2022-01-24T00:00:00\",\"2022-01-25T00:00:00\",\"2022-01-26T00:00:00\",\"2022-01-27T00:00:00\",\"2022-01-28T00:00:00\",\"2022-01-29T00:00:00\",\"2022-01-30T00:00:00\",\"2022-01-31T00:00:00\",\"2022-02-01T00:00:00\",\"2022-02-02T00:00:00\",\"2022-02-03T00:00:00\",\"2022-02-04T00:00:00\",\"2022-02-05T00:00:00\",\"2022-02-06T00:00:00\",\"2022-02-07T00:00:00\",\"2022-02-08T00:00:00\",\"2022-02-09T00:00:00\",\"2022-02-10T00:00:00\",\"2022-02-11T00:00:00\",\"2022-02-12T00:00:00\",\"2022-02-13T00:00:00\",\"2022-02-14T00:00:00\",\"2022-02-15T00:00:00\",\"2022-02-16T00:00:00\",\"2022-02-17T00:00:00\",\"2022-02-18T00:00:00\",\"2022-02-19T00:00:00\",\"2022-02-20T00:00:00\",\"2022-02-21T00:00:00\",\"2022-02-22T00:00:00\",\"2022-02-23T00:00:00\",\"2022-02-24T00:00:00\",\"2022-02-25T00:00:00\",\"2022-02-26T00:00:00\",\"2022-02-27T00:00:00\",\"2022-02-28T00:00:00\",\"2022-03-01T00:00:00\",\"2022-03-02T00:00:00\",\"2022-03-03T00:00:00\",\"2022-03-04T00:00:00\",\"2022-03-05T00:00:00\",\"2022-03-06T00:00:00\",\"2022-03-07T00:00:00\",\"2022-03-08T00:00:00\",\"2022-03-09T00:00:00\",\"2022-03-10T00:00:00\",\"2022-03-11T00:00:00\",\"2022-03-12T00:00:00\",\"2022-03-13T00:00:00\",\"2022-03-14T00:00:00\",\"2022-03-15T00:00:00\",\"2022-03-16T00:00:00\",\"2022-03-17T00:00:00\",\"2022-03-18T00:00:00\",\"2022-03-19T00:00:00\",\"2022-03-20T00:00:00\",\"2022-03-21T00:00:00\",\"2022-03-22T00:00:00\",\"2022-03-23T00:00:00\",\"2022-03-24T00:00:00\",\"2022-03-25T00:00:00\",\"2022-03-26T00:00:00\",\"2022-03-27T00:00:00\",\"2022-03-28T00:00:00\",\"2022-03-29T00:00:00\",\"2022-03-30T00:00:00\",\"2022-03-31T00:00:00\",\"2022-04-01T00:00:00\",\"2022-04-02T00:00:00\",\"2022-04-03T00:00:00\",\"2022-04-04T00:00:00\",\"2022-04-05T00:00:00\",\"2022-04-06T00:00:00\",\"2022-04-07T00:00:00\",\"2022-04-08T00:00:00\",\"2022-04-09T00:00:00\",\"2022-04-10T00:00:00\",\"2022-04-11T00:00:00\",\"2022-04-12T00:00:00\",\"2022-04-13T00:00:00\",\"2022-04-14T00:00:00\",\"2022-04-15T00:00:00\",\"2022-04-16T00:00:00\",\"2022-04-17T00:00:00\",\"2022-04-18T00:00:00\",\"2022-04-19T00:00:00\",\"2022-04-20T00:00:00\",\"2022-04-21T00:00:00\",\"2022-04-22T00:00:00\",\"2022-04-23T00:00:00\",\"2022-04-24T00:00:00\",\"2022-04-25T00:00:00\",\"2022-04-26T00:00:00\",\"2022-04-27T00:00:00\",\"2022-04-28T00:00:00\",\"2022-04-29T00:00:00\",\"2022-04-30T00:00:00\",\"2022-05-01T00:00:00\",\"2022-05-02T00:00:00\",\"2022-05-03T00:00:00\",\"2022-05-04T00:00:00\",\"2022-05-05T00:00:00\",\"2022-05-06T00:00:00\",\"2022-05-07T00:00:00\",\"2022-05-08T00:00:00\",\"2022-05-09T00:00:00\",\"2022-05-10T00:00:00\",\"2022-05-11T00:00:00\",\"2022-05-12T00:00:00\",\"2022-05-13T00:00:00\",\"2022-05-14T00:00:00\",\"2022-05-15T00:00:00\",\"2022-05-16T00:00:00\",\"2022-05-17T00:00:00\",\"2022-05-18T00:00:00\",\"2022-05-19T00:00:00\",\"2022-05-20T00:00:00\",\"2022-05-21T00:00:00\",\"2022-05-22T00:00:00\",\"2022-05-23T00:00:00\",\"2022-05-24T00:00:00\",\"2022-05-25T00:00:00\",\"2022-05-26T00:00:00\",\"2022-05-27T00:00:00\",\"2022-05-28T00:00:00\",\"2022-05-29T00:00:00\",\"2022-05-30T00:00:00\",\"2022-05-31T00:00:00\",\"2022-06-01T00:00:00\",\"2022-06-02T00:00:00\",\"2022-06-03T00:00:00\",\"2022-06-04T00:00:00\",\"2022-06-05T00:00:00\",\"2022-06-06T00:00:00\",\"2022-06-07T00:00:00\",\"2022-06-08T00:00:00\",\"2022-06-09T00:00:00\"],\"xaxis\":\"x\",\"y\":[35552.515625,39097.859375,40218.476563,40406.269531,38347.0625,38053.503906,35787.246094,35615.871094,35698.296875,31676.693359,32505.660156,33723.027344,34662.4375,31637.779297,32186.277344,34649.644531,34434.335938,35867.777344,35040.835938,33572.117188,33897.046875,34668.546875,35287.78125,33746.003906,34235.195313,33855.328125,32877.371094,33798.011719,33520.519531,34240.1875,33155.847656,32702.025391,32822.347656,31780.730469,31421.539063,31533.068359,31796.810547,30817.832031,29807.347656,32110.693359,32313.105469,33581.550781,34292.445313,35350.1875,37337.535156,39406.941406,39995.90625,40008.421875,42235.546875,41626.195313,39974.894531,39201.945313,38152.980469,39747.503906,40869.554688,42816.5,44555.800781,43798.117188,46365.402344,45585.03125,45593.636719,44428.289063,47793.320313,47096.945313,47047.003906,46004.484375,44695.359375,44801.1875,46717.578125,49339.175781,48905.492188,49321.652344,49546.148438,47706.117188,48960.789063,46942.21875,49058.667969,48902.402344,48829.832031,47054.984375,47166.6875,48847.027344,49327.722656,50025.375,49944.625,51753.410156,52633.535156,46811.128906,46091.390625,46391.421875,44883.910156,45201.457031,46063.269531,44963.074219,47092.492188,48176.347656,47783.359375,47267.519531,48278.363281,47260.21875,42843.800781,40693.675781,43574.507813,44895.097656,42839.75,42716.59375,43208.539063,42235.730469,41034.542969,41564.363281,43790.894531,48116.941406,47711.488281,48199.953125,49112.902344,51514.8125,55361.449219,53805.984375,53967.847656,54968.222656,54771.578125,57484.789063,56041.058594,57401.097656,57321.523438,61593.949219,60892.179688,61553.617188,62026.078125,64261.992188,65992.835938,62210.171875,60692.265625,61393.617188,60930.835938,63039.824219,60363.792969,58482.386719,60622.136719,62227.964844,61888.832031,61318.957031,61004.40625,63226.402344,62970.046875,61452.230469,61125.675781,61527.480469,63326.988281,67566.828125,66971.828125,64995.230469,64949.960938,64155.941406,64469.527344,65466.839844,63557.871094,60161.246094,60368.011719,56942.136719,58119.578125,59697.195313,58730.476563,56289.289063,57569.074219,56280.425781,57274.679688,53569.765625,54815.078125,57248.457031,57806.566406,57005.425781,57229.828125,56477.816406,53598.246094,49200.703125,49368.847656,50582.625,50700.085938,50504.796875,47672.121094,47243.304688,49362.507813,50098.335938,46737.480469,46612.632813,48896.722656,47665.425781,46202.144531,46848.777344,46707.015625,46880.277344,48936.613281,48628.511719,50784.539063,50822.195313,50429.859375,50809.515625,50640.417969,47588.855469,46444.710938,47178.125,46306.445313,47686.8125,47345.21875,46458.117188,45897.574219,43569.003906,43160.929688,41557.902344,41733.941406,41911.601563,41821.261719,42735.855469,43949.101563,42591.570313,43099.699219,43177.398438,43113.878906,42250.550781,42375.632813,41744.328125,40680.417969,36457.316406,35030.25,36276.804688,36654.328125,36954.003906,36852.121094,37138.234375,37784.332031,38138.179688,37917.601563,38483.125,38743.273438,36952.984375,37154.601563,41500.875,41441.164063,42412.433594,43840.285156,44118.445313,44338.796875,43565.113281,42407.9375,42244.46875,42197.515625,42586.917969,44575.203125,43961.859375,40538.011719,40030.976563,40122.15625,38431.378906,37075.28125,38286.027344,37296.570313,38332.609375,39214.21875,39105.148438,37709.785156,43193.234375,44354.636719,43924.117188,42451.789063,39137.605469,39400.585938,38419.984375,38062.039063,38737.269531,41982.925781,39437.460938,38794.972656,38904.011719,37849.664063,39666.753906,39338.785156,41143.929688,40951.378906,41801.15625,42190.652344,41247.824219,41077.996094,42358.808594,42892.957031,43960.933594,44348.730469,44500.828125,46820.492188,47128.003906,47465.730469,47062.664063,45538.675781,46281.644531,45868.949219,46453.566406,46622.675781,45555.992188,43206.738281,43503.847656,42287.664063,42782.136719,42207.671875,39521.902344,40127.183594,41166.730469,39935.515625,40553.464844,40424.484375,39716.953125,40826.214844,41502.75,41374.378906,40527.363281,39740.320313,39486.730469,39469.292969,40458.308594,38117.460938,39241.121094,39773.828125,38609.824219,37714.875,38469.09375,38529.328125,37750.453125,39698.371094,36575.140625,36040.921875,35501.953125,34059.265625,30296.953125,31022.90625,28936.355469,29047.751953,29283.103516,30101.265625,31305.113281,29862.917969,30425.857422,28720.271484,30314.333984,29200.740234,29432.226563,30323.722656,29098.910156,29655.585938,29562.361328,29267.224609,28627.574219,28814.900391,29445.957031,31726.390625,31792.310547,29799.080078,30467.488281,29704.390625,29832.914063,29906.662109,31370.671875,31155.478516,30214.355469,30111.998047],\"yaxis\":\"y\",\"type\":\"scattergl\"},{\"hovertemplate\":\"variable=High<br>Tanggal=%{x}<br>Harga=%{y}<extra></extra>\",\"legendgroup\":\"High\",\"line\":{\"color\":\"#00cc96\",\"dash\":\"solid\"},\"marker\":{\"symbol\":\"circle\"},\"mode\":\"lines\",\"name\":\"Harga High\",\"showlegend\":true,\"x\":[\"2021-06-12T00:00:00\",\"2021-06-13T00:00:00\",\"2021-06-14T00:00:00\",\"2021-06-15T00:00:00\",\"2021-06-16T00:00:00\",\"2021-06-17T00:00:00\",\"2021-06-18T00:00:00\",\"2021-06-19T00:00:00\",\"2021-06-20T00:00:00\",\"2021-06-21T00:00:00\",\"2021-06-22T00:00:00\",\"2021-06-23T00:00:00\",\"2021-06-24T00:00:00\",\"2021-06-25T00:00:00\",\"2021-06-26T00:00:00\",\"2021-06-27T00:00:00\",\"2021-06-28T00:00:00\",\"2021-06-29T00:00:00\",\"2021-06-30T00:00:00\",\"2021-07-01T00:00:00\",\"2021-07-02T00:00:00\",\"2021-07-03T00:00:00\",\"2021-07-04T00:00:00\",\"2021-07-05T00:00:00\",\"2021-07-06T00:00:00\",\"2021-07-07T00:00:00\",\"2021-07-08T00:00:00\",\"2021-07-09T00:00:00\",\"2021-07-10T00:00:00\",\"2021-07-11T00:00:00\",\"2021-07-12T00:00:00\",\"2021-07-13T00:00:00\",\"2021-07-14T00:00:00\",\"2021-07-15T00:00:00\",\"2021-07-16T00:00:00\",\"2021-07-17T00:00:00\",\"2021-07-18T00:00:00\",\"2021-07-19T00:00:00\",\"2021-07-20T00:00:00\",\"2021-07-21T00:00:00\",\"2021-07-22T00:00:00\",\"2021-07-23T00:00:00\",\"2021-07-24T00:00:00\",\"2021-07-25T00:00:00\",\"2021-07-26T00:00:00\",\"2021-07-27T00:00:00\",\"2021-07-28T00:00:00\",\"2021-07-29T00:00:00\",\"2021-07-30T00:00:00\",\"2021-07-31T00:00:00\",\"2021-08-01T00:00:00\",\"2021-08-02T00:00:00\",\"2021-08-03T00:00:00\",\"2021-08-04T00:00:00\",\"2021-08-05T00:00:00\",\"2021-08-06T00:00:00\",\"2021-08-07T00:00:00\",\"2021-08-08T00:00:00\",\"2021-08-09T00:00:00\",\"2021-08-10T00:00:00\",\"2021-08-11T00:00:00\",\"2021-08-12T00:00:00\",\"2021-08-13T00:00:00\",\"2021-08-14T00:00:00\",\"2021-08-15T00:00:00\",\"2021-08-16T00:00:00\",\"2021-08-17T00:00:00\",\"2021-08-18T00:00:00\",\"2021-08-19T00:00:00\",\"2021-08-20T00:00:00\",\"2021-08-21T00:00:00\",\"2021-08-22T00:00:00\",\"2021-08-23T00:00:00\",\"2021-08-24T00:00:00\",\"2021-08-25T00:00:00\",\"2021-08-26T00:00:00\",\"2021-08-27T00:00:00\",\"2021-08-28T00:00:00\",\"2021-08-29T00:00:00\",\"2021-08-30T00:00:00\",\"2021-08-31T00:00:00\",\"2021-09-01T00:00:00\",\"2021-09-02T00:00:00\",\"2021-09-03T00:00:00\",\"2021-09-04T00:00:00\",\"2021-09-05T00:00:00\",\"2021-09-06T00:00:00\",\"2021-09-07T00:00:00\",\"2021-09-08T00:00:00\",\"2021-09-09T00:00:00\",\"2021-09-10T00:00:00\",\"2021-09-11T00:00:00\",\"2021-09-12T00:00:00\",\"2021-09-13T00:00:00\",\"2021-09-14T00:00:00\",\"2021-09-15T00:00:00\",\"2021-09-16T00:00:00\",\"2021-09-17T00:00:00\",\"2021-09-18T00:00:00\",\"2021-09-19T00:00:00\",\"2021-09-20T00:00:00\",\"2021-09-21T00:00:00\",\"2021-09-22T00:00:00\",\"2021-09-23T00:00:00\",\"2021-09-24T00:00:00\",\"2021-09-25T00:00:00\",\"2021-09-26T00:00:00\",\"2021-09-27T00:00:00\",\"2021-09-28T00:00:00\",\"2021-09-29T00:00:00\",\"2021-09-30T00:00:00\",\"2021-10-01T00:00:00\",\"2021-10-02T00:00:00\",\"2021-10-03T00:00:00\",\"2021-10-04T00:00:00\",\"2021-10-05T00:00:00\",\"2021-10-06T00:00:00\",\"2021-10-07T00:00:00\",\"2021-10-08T00:00:00\",\"2021-10-09T00:00:00\",\"2021-10-10T00:00:00\",\"2021-10-11T00:00:00\",\"2021-10-12T00:00:00\",\"2021-10-13T00:00:00\",\"2021-10-14T00:00:00\",\"2021-10-15T00:00:00\",\"2021-10-16T00:00:00\",\"2021-10-17T00:00:00\",\"2021-10-18T00:00:00\",\"2021-10-19T00:00:00\",\"2021-10-20T00:00:00\",\"2021-10-21T00:00:00\",\"2021-10-22T00:00:00\",\"2021-10-23T00:00:00\",\"2021-10-24T00:00:00\",\"2021-10-25T00:00:00\",\"2021-10-26T00:00:00\",\"2021-10-27T00:00:00\",\"2021-10-28T00:00:00\",\"2021-10-29T00:00:00\",\"2021-10-30T00:00:00\",\"2021-10-31T00:00:00\",\"2021-11-01T00:00:00\",\"2021-11-02T00:00:00\",\"2021-11-03T00:00:00\",\"2021-11-04T00:00:00\",\"2021-11-05T00:00:00\",\"2021-11-06T00:00:00\",\"2021-11-07T00:00:00\",\"2021-11-08T00:00:00\",\"2021-11-09T00:00:00\",\"2021-11-10T00:00:00\",\"2021-11-11T00:00:00\",\"2021-11-12T00:00:00\",\"2021-11-13T00:00:00\",\"2021-11-14T00:00:00\",\"2021-11-15T00:00:00\",\"2021-11-16T00:00:00\",\"2021-11-17T00:00:00\",\"2021-11-18T00:00:00\",\"2021-11-19T00:00:00\",\"2021-11-20T00:00:00\",\"2021-11-21T00:00:00\",\"2021-11-22T00:00:00\",\"2021-11-23T00:00:00\",\"2021-11-24T00:00:00\",\"2021-11-25T00:00:00\",\"2021-11-26T00:00:00\",\"2021-11-27T00:00:00\",\"2021-11-28T00:00:00\",\"2021-11-29T00:00:00\",\"2021-11-30T00:00:00\",\"2021-12-01T00:00:00\",\"2021-12-02T00:00:00\",\"2021-12-03T00:00:00\",\"2021-12-04T00:00:00\",\"2021-12-05T00:00:00\",\"2021-12-06T00:00:00\",\"2021-12-07T00:00:00\",\"2021-12-08T00:00:00\",\"2021-12-09T00:00:00\",\"2021-12-10T00:00:00\",\"2021-12-11T00:00:00\",\"2021-12-12T00:00:00\",\"2021-12-13T00:00:00\",\"2021-12-14T00:00:00\",\"2021-12-15T00:00:00\",\"2021-12-16T00:00:00\",\"2021-12-17T00:00:00\",\"2021-12-18T00:00:00\",\"2021-12-19T00:00:00\",\"2021-12-20T00:00:00\",\"2021-12-21T00:00:00\",\"2021-12-22T00:00:00\",\"2021-12-23T00:00:00\",\"2021-12-24T00:00:00\",\"2021-12-25T00:00:00\",\"2021-12-26T00:00:00\",\"2021-12-27T00:00:00\",\"2021-12-28T00:00:00\",\"2021-12-29T00:00:00\",\"2021-12-30T00:00:00\",\"2021-12-31T00:00:00\",\"2022-01-01T00:00:00\",\"2022-01-02T00:00:00\",\"2022-01-03T00:00:00\",\"2022-01-04T00:00:00\",\"2022-01-05T00:00:00\",\"2022-01-06T00:00:00\",\"2022-01-07T00:00:00\",\"2022-01-08T00:00:00\",\"2022-01-09T00:00:00\",\"2022-01-10T00:00:00\",\"2022-01-11T00:00:00\",\"2022-01-12T00:00:00\",\"2022-01-13T00:00:00\",\"2022-01-14T00:00:00\",\"2022-01-15T00:00:00\",\"2022-01-16T00:00:00\",\"2022-01-17T00:00:00\",\"2022-01-18T00:00:00\",\"2022-01-19T00:00:00\",\"2022-01-20T00:00:00\",\"2022-01-21T00:00:00\",\"2022-01-22T00:00:00\",\"2022-01-23T00:00:00\",\"2022-01-24T00:00:00\",\"2022-01-25T00:00:00\",\"2022-01-26T00:00:00\",\"2022-01-27T00:00:00\",\"2022-01-28T00:00:00\",\"2022-01-29T00:00:00\",\"2022-01-30T00:00:00\",\"2022-01-31T00:00:00\",\"2022-02-01T00:00:00\",\"2022-02-02T00:00:00\",\"2022-02-03T00:00:00\",\"2022-02-04T00:00:00\",\"2022-02-05T00:00:00\",\"2022-02-06T00:00:00\",\"2022-02-07T00:00:00\",\"2022-02-08T00:00:00\",\"2022-02-09T00:00:00\",\"2022-02-10T00:00:00\",\"2022-02-11T00:00:00\",\"2022-02-12T00:00:00\",\"2022-02-13T00:00:00\",\"2022-02-14T00:00:00\",\"2022-02-15T00:00:00\",\"2022-02-16T00:00:00\",\"2022-02-17T00:00:00\",\"2022-02-18T00:00:00\",\"2022-02-19T00:00:00\",\"2022-02-20T00:00:00\",\"2022-02-21T00:00:00\",\"2022-02-22T00:00:00\",\"2022-02-23T00:00:00\",\"2022-02-24T00:00:00\",\"2022-02-25T00:00:00\",\"2022-02-26T00:00:00\",\"2022-02-27T00:00:00\",\"2022-02-28T00:00:00\",\"2022-03-01T00:00:00\",\"2022-03-02T00:00:00\",\"2022-03-03T00:00:00\",\"2022-03-04T00:00:00\",\"2022-03-05T00:00:00\",\"2022-03-06T00:00:00\",\"2022-03-07T00:00:00\",\"2022-03-08T00:00:00\",\"2022-03-09T00:00:00\",\"2022-03-10T00:00:00\",\"2022-03-11T00:00:00\",\"2022-03-12T00:00:00\",\"2022-03-13T00:00:00\",\"2022-03-14T00:00:00\",\"2022-03-15T00:00:00\",\"2022-03-16T00:00:00\",\"2022-03-17T00:00:00\",\"2022-03-18T00:00:00\",\"2022-03-19T00:00:00\",\"2022-03-20T00:00:00\",\"2022-03-21T00:00:00\",\"2022-03-22T00:00:00\",\"2022-03-23T00:00:00\",\"2022-03-24T00:00:00\",\"2022-03-25T00:00:00\",\"2022-03-26T00:00:00\",\"2022-03-27T00:00:00\",\"2022-03-28T00:00:00\",\"2022-03-29T00:00:00\",\"2022-03-30T00:00:00\",\"2022-03-31T00:00:00\",\"2022-04-01T00:00:00\",\"2022-04-02T00:00:00\",\"2022-04-03T00:00:00\",\"2022-04-04T00:00:00\",\"2022-04-05T00:00:00\",\"2022-04-06T00:00:00\",\"2022-04-07T00:00:00\",\"2022-04-08T00:00:00\",\"2022-04-09T00:00:00\",\"2022-04-10T00:00:00\",\"2022-04-11T00:00:00\",\"2022-04-12T00:00:00\",\"2022-04-13T00:00:00\",\"2022-04-14T00:00:00\",\"2022-04-15T00:00:00\",\"2022-04-16T00:00:00\",\"2022-04-17T00:00:00\",\"2022-04-18T00:00:00\",\"2022-04-19T00:00:00\",\"2022-04-20T00:00:00\",\"2022-04-21T00:00:00\",\"2022-04-22T00:00:00\",\"2022-04-23T00:00:00\",\"2022-04-24T00:00:00\",\"2022-04-25T00:00:00\",\"2022-04-26T00:00:00\",\"2022-04-27T00:00:00\",\"2022-04-28T00:00:00\",\"2022-04-29T00:00:00\",\"2022-04-30T00:00:00\",\"2022-05-01T00:00:00\",\"2022-05-02T00:00:00\",\"2022-05-03T00:00:00\",\"2022-05-04T00:00:00\",\"2022-05-05T00:00:00\",\"2022-05-06T00:00:00\",\"2022-05-07T00:00:00\",\"2022-05-08T00:00:00\",\"2022-05-09T00:00:00\",\"2022-05-10T00:00:00\",\"2022-05-11T00:00:00\",\"2022-05-12T00:00:00\",\"2022-05-13T00:00:00\",\"2022-05-14T00:00:00\",\"2022-05-15T00:00:00\",\"2022-05-16T00:00:00\",\"2022-05-17T00:00:00\",\"2022-05-18T00:00:00\",\"2022-05-19T00:00:00\",\"2022-05-20T00:00:00\",\"2022-05-21T00:00:00\",\"2022-05-22T00:00:00\",\"2022-05-23T00:00:00\",\"2022-05-24T00:00:00\",\"2022-05-25T00:00:00\",\"2022-05-26T00:00:00\",\"2022-05-27T00:00:00\",\"2022-05-28T00:00:00\",\"2022-05-29T00:00:00\",\"2022-05-30T00:00:00\",\"2022-05-31T00:00:00\",\"2022-06-01T00:00:00\",\"2022-06-02T00:00:00\",\"2022-06-03T00:00:00\",\"2022-06-04T00:00:00\",\"2022-06-05T00:00:00\",\"2022-06-06T00:00:00\",\"2022-06-07T00:00:00\",\"2022-06-08T00:00:00\",\"2022-06-09T00:00:00\"],\"xaxis\":\"x\",\"y\":[37408.925781,39322.78125,40978.363281,41295.269531,40516.777344,39513.671875,38187.261719,36457.796875,36059.484375,35721.640625,33292.453125,34753.410156,35228.851563,35487.246094,32637.587891,34656.128906,35219.890625,36542.109375,36074.757813,35035.984375,33939.589844,34909.261719,35937.566406,35284.34375,35038.535156,34997.664063,33907.90625,34042.292969,34209.070313,34584.703125,34592.15625,33327.101563,33061.398438,33159.640625,32218.40625,31935.945313,32398.996094,31885.859375,31006.1875,32752.326172,32576.400391,33581.550781,34490.390625,35364.925781,40499.675781,39406.941406,40816.070313,40593.070313,42235.546875,42231.449219,42541.679688,40419.179688,39750.03125,39952.296875,41341.933594,43271.660156,44689.859375,45282.351563,46456.832031,46637.988281,46735.632813,46228.910156,47831.976563,48098.683594,47357.105469,47998.097656,47139.570313,45952.0625,46970.761719,49342.152344,49717.019531,49471.609375,50482.078125,49878.769531,49202.878906,49347.582031,49112.785156,49283.503906,49644.113281,48925.605469,48189.550781,49111.089844,50343.421875,50982.273438,50545.582031,51868.679688,52700.941406,52853.765625,47334.054688,47261.949219,47031.742188,45969.292969,46364.878906,46598.679688,47218.125,48450.46875,48486.828125,48160.921875,48791.78125,48328.367188,47328.199219,43607.609375,43978.621094,44942.175781,45080.492188,42996.257813,43919.300781,44313.246094,42775.144531,42545.257813,44092.601563,48436.011719,48282.0625,49130.691406,49456.777344,51839.984375,55568.464844,55338.625,55922.980469,55397.945313,56401.304688,57793.039063,57627.878906,57688.660156,58478.734375,62757.128906,62274.476563,61645.523438,62614.660156,64434.535156,66930.390625,66600.546875,63715.023438,61743.878906,61505.804688,63729.324219,63229.027344,61435.183594,62128.632813,62927.609375,62330.144531,62406.171875,62419.003906,64242.792969,63516.9375,63123.289063,62541.46875,61590.683594,63326.988281,67673.742188,68530.335938,68789.625,65579.015625,65460.816406,64915.675781,65495.179688,66281.570313,63721.195313,60823.609375,60948.5,58351.113281,59859.878906,60004.425781,59266.359375,57875.515625,57803.066406,59367.96875,59183.480469,55329.257813,57393.84375,58872.878906,59113.402344,59041.683594,57349.234375,57482.167969,53904.679688,49768.148438,50929.519531,51934.78125,51171.375,50797.164063,50015.253906,49458.210938,50724.867188,50205.0,48431.398438,49473.957031,49425.574219,48004.894531,47313.828125,48089.664063,47401.71875,49300.917969,49544.796875,51332.339844,51814.027344,51176.597656,51196.378906,51956.328125,50679.859375,48119.742188,47879.964844,48472.527344,47827.3125,47881.40625,47510.726563,47406.546875,46929.046875,43748.71875,43153.570313,42228.941406,42663.949219,42199.484375,43001.15625,44135.367188,44278.421875,43346.6875,43724.671875,43436.808594,43179.390625,42534.402344,42478.304688,43413.023438,41060.527344,36688.8125,36433.3125,37247.519531,37444.570313,38825.410156,37148.324219,37952.878906,38576.261719,38266.339844,38647.261719,39115.132813,38834.617188,37154.601563,41527.785156,41847.164063,42500.785156,44401.863281,45293.867188,44727.800781,45661.171875,43810.832031,42992.550781,42693.054688,42775.777344,44667.21875,44578.277344,44132.972656,40929.152344,40418.878906,40119.890625,39394.4375,38359.855469,39122.394531,38968.839844,39630.324219,40005.347656,39778.941406,43760.457031,44793.601563,45077.578125,44021.578125,42479.613281,39566.335938,39640.175781,39430.226563,39304.441406,42465.671875,42004.726563,40081.679688,39308.597656,39209.351563,39742.5,39794.628906,41465.453125,41287.535156,42195.746094,42316.554688,42241.164063,41454.410156,43124.707031,42893.507813,44131.855469,44999.492188,44735.996094,46827.546875,48086.835938,48022.289063,47655.148438,47512.027344,46616.242188,47028.28125,47313.476563,46791.089844,47106.140625,45544.355469,43860.699219,43903.019531,42786.816406,43376.378906,42424.589844,40617.585938,41430.054688,41451.480469,40617.722656,40633.679688,40570.726563,40986.320313,41672.960938,42126.300781,42893.582031,40777.757813,39935.859375,39845.925781,40491.753906,40713.890625,39397.917969,40269.464844,39887.269531,38771.210938,38627.859375,39074.972656,38629.996094,39902.949219,39789.28125,36624.359375,36129.925781,35502.941406,34222.074219,32596.308594,32013.402344,30032.439453,30924.802734,30192.802734,31308.191406,31305.341797,30694.490234,30618.716797,30430.751953,30664.976563,29588.869141,30425.861328,30590.585938,29774.355469,30157.785156,29834.160156,29346.943359,28814.900391,29498.009766,31949.630859,32249.863281,31957.285156,30604.734375,30633.035156,29930.564453,30117.744141,31693.291016,31489.683594,31253.691406,30609.310547],\"yaxis\":\"y\",\"type\":\"scattergl\"},{\"hovertemplate\":\"variable=Low<br>Tanggal=%{x}<br>Harga=%{y}<extra></extra>\",\"legendgroup\":\"Low\",\"line\":{\"color\":\"#ab63fa\",\"dash\":\"solid\"},\"marker\":{\"symbol\":\"circle\"},\"mode\":\"lines\",\"name\":\"Harga Low \",\"showlegend\":true,\"x\":[\"2021-06-12T00:00:00\",\"2021-06-13T00:00:00\",\"2021-06-14T00:00:00\",\"2021-06-15T00:00:00\",\"2021-06-16T00:00:00\",\"2021-06-17T00:00:00\",\"2021-06-18T00:00:00\",\"2021-06-19T00:00:00\",\"2021-06-20T00:00:00\",\"2021-06-21T00:00:00\",\"2021-06-22T00:00:00\",\"2021-06-23T00:00:00\",\"2021-06-24T00:00:00\",\"2021-06-25T00:00:00\",\"2021-06-26T00:00:00\",\"2021-06-27T00:00:00\",\"2021-06-28T00:00:00\",\"2021-06-29T00:00:00\",\"2021-06-30T00:00:00\",\"2021-07-01T00:00:00\",\"2021-07-02T00:00:00\",\"2021-07-03T00:00:00\",\"2021-07-04T00:00:00\",\"2021-07-05T00:00:00\",\"2021-07-06T00:00:00\",\"2021-07-07T00:00:00\",\"2021-07-08T00:00:00\",\"2021-07-09T00:00:00\",\"2021-07-10T00:00:00\",\"2021-07-11T00:00:00\",\"2021-07-12T00:00:00\",\"2021-07-13T00:00:00\",\"2021-07-14T00:00:00\",\"2021-07-15T00:00:00\",\"2021-07-16T00:00:00\",\"2021-07-17T00:00:00\",\"2021-07-18T00:00:00\",\"2021-07-19T00:00:00\",\"2021-07-20T00:00:00\",\"2021-07-21T00:00:00\",\"2021-07-22T00:00:00\",\"2021-07-23T00:00:00\",\"2021-07-24T00:00:00\",\"2021-07-25T00:00:00\",\"2021-07-26T00:00:00\",\"2021-07-27T00:00:00\",\"2021-07-28T00:00:00\",\"2021-07-29T00:00:00\",\"2021-07-30T00:00:00\",\"2021-07-31T00:00:00\",\"2021-08-01T00:00:00\",\"2021-08-02T00:00:00\",\"2021-08-03T00:00:00\",\"2021-08-04T00:00:00\",\"2021-08-05T00:00:00\",\"2021-08-06T00:00:00\",\"2021-08-07T00:00:00\",\"2021-08-08T00:00:00\",\"2021-08-09T00:00:00\",\"2021-08-10T00:00:00\",\"2021-08-11T00:00:00\",\"2021-08-12T00:00:00\",\"2021-08-13T00:00:00\",\"2021-08-14T00:00:00\",\"2021-08-15T00:00:00\",\"2021-08-16T00:00:00\",\"2021-08-17T00:00:00\",\"2021-08-18T00:00:00\",\"2021-08-19T00:00:00\",\"2021-08-20T00:00:00\",\"2021-08-21T00:00:00\",\"2021-08-22T00:00:00\",\"2021-08-23T00:00:00\",\"2021-08-24T00:00:00\",\"2021-08-25T00:00:00\",\"2021-08-26T00:00:00\",\"2021-08-27T00:00:00\",\"2021-08-28T00:00:00\",\"2021-08-29T00:00:00\",\"2021-08-30T00:00:00\",\"2021-08-31T00:00:00\",\"2021-09-01T00:00:00\",\"2021-09-02T00:00:00\",\"2021-09-03T00:00:00\",\"2021-09-04T00:00:00\",\"2021-09-05T00:00:00\",\"2021-09-06T00:00:00\",\"2021-09-07T00:00:00\",\"2021-09-08T00:00:00\",\"2021-09-09T00:00:00\",\"2021-09-10T00:00:00\",\"2021-09-11T00:00:00\",\"2021-09-12T00:00:00\",\"2021-09-13T00:00:00\",\"2021-09-14T00:00:00\",\"2021-09-15T00:00:00\",\"2021-09-16T00:00:00\",\"2021-09-17T00:00:00\",\"2021-09-18T00:00:00\",\"2021-09-19T00:00:00\",\"2021-09-20T00:00:00\",\"2021-09-21T00:00:00\",\"2021-09-22T00:00:00\",\"2021-09-23T00:00:00\",\"2021-09-24T00:00:00\",\"2021-09-25T00:00:00\",\"2021-09-26T00:00:00\",\"2021-09-27T00:00:00\",\"2021-09-28T00:00:00\",\"2021-09-29T00:00:00\",\"2021-09-30T00:00:00\",\"2021-10-01T00:00:00\",\"2021-10-02T00:00:00\",\"2021-10-03T00:00:00\",\"2021-10-04T00:00:00\",\"2021-10-05T00:00:00\",\"2021-10-06T00:00:00\",\"2021-10-07T00:00:00\",\"2021-10-08T00:00:00\",\"2021-10-09T00:00:00\",\"2021-10-10T00:00:00\",\"2021-10-11T00:00:00\",\"2021-10-12T00:00:00\",\"2021-10-13T00:00:00\",\"2021-10-14T00:00:00\",\"2021-10-15T00:00:00\",\"2021-10-16T00:00:00\",\"2021-10-17T00:00:00\",\"2021-10-18T00:00:00\",\"2021-10-19T00:00:00\",\"2021-10-20T00:00:00\",\"2021-10-21T00:00:00\",\"2021-10-22T00:00:00\",\"2021-10-23T00:00:00\",\"2021-10-24T00:00:00\",\"2021-10-25T00:00:00\",\"2021-10-26T00:00:00\",\"2021-10-27T00:00:00\",\"2021-10-28T00:00:00\",\"2021-10-29T00:00:00\",\"2021-10-30T00:00:00\",\"2021-10-31T00:00:00\",\"2021-11-01T00:00:00\",\"2021-11-02T00:00:00\",\"2021-11-03T00:00:00\",\"2021-11-04T00:00:00\",\"2021-11-05T00:00:00\",\"2021-11-06T00:00:00\",\"2021-11-07T00:00:00\",\"2021-11-08T00:00:00\",\"2021-11-09T00:00:00\",\"2021-11-10T00:00:00\",\"2021-11-11T00:00:00\",\"2021-11-12T00:00:00\",\"2021-11-13T00:00:00\",\"2021-11-14T00:00:00\",\"2021-11-15T00:00:00\",\"2021-11-16T00:00:00\",\"2021-11-17T00:00:00\",\"2021-11-18T00:00:00\",\"2021-11-19T00:00:00\",\"2021-11-20T00:00:00\",\"2021-11-21T00:00:00\",\"2021-11-22T00:00:00\",\"2021-11-23T00:00:00\",\"2021-11-24T00:00:00\",\"2021-11-25T00:00:00\",\"2021-11-26T00:00:00\",\"2021-11-27T00:00:00\",\"2021-11-28T00:00:00\",\"2021-11-29T00:00:00\",\"2021-11-30T00:00:00\",\"2021-12-01T00:00:00\",\"2021-12-02T00:00:00\",\"2021-12-03T00:00:00\",\"2021-12-04T00:00:00\",\"2021-12-05T00:00:00\",\"2021-12-06T00:00:00\",\"2021-12-07T00:00:00\",\"2021-12-08T00:00:00\",\"2021-12-09T00:00:00\",\"2021-12-10T00:00:00\",\"2021-12-11T00:00:00\",\"2021-12-12T00:00:00\",\"2021-12-13T00:00:00\",\"2021-12-14T00:00:00\",\"2021-12-15T00:00:00\",\"2021-12-16T00:00:00\",\"2021-12-17T00:00:00\",\"2021-12-18T00:00:00\",\"2021-12-19T00:00:00\",\"2021-12-20T00:00:00\",\"2021-12-21T00:00:00\",\"2021-12-22T00:00:00\",\"2021-12-23T00:00:00\",\"2021-12-24T00:00:00\",\"2021-12-25T00:00:00\",\"2021-12-26T00:00:00\",\"2021-12-27T00:00:00\",\"2021-12-28T00:00:00\",\"2021-12-29T00:00:00\",\"2021-12-30T00:00:00\",\"2021-12-31T00:00:00\",\"2022-01-01T00:00:00\",\"2022-01-02T00:00:00\",\"2022-01-03T00:00:00\",\"2022-01-04T00:00:00\",\"2022-01-05T00:00:00\",\"2022-01-06T00:00:00\",\"2022-01-07T00:00:00\",\"2022-01-08T00:00:00\",\"2022-01-09T00:00:00\",\"2022-01-10T00:00:00\",\"2022-01-11T00:00:00\",\"2022-01-12T00:00:00\",\"2022-01-13T00:00:00\",\"2022-01-14T00:00:00\",\"2022-01-15T00:00:00\",\"2022-01-16T00:00:00\",\"2022-01-17T00:00:00\",\"2022-01-18T00:00:00\",\"2022-01-19T00:00:00\",\"2022-01-20T00:00:00\",\"2022-01-21T00:00:00\",\"2022-01-22T00:00:00\",\"2022-01-23T00:00:00\",\"2022-01-24T00:00:00\",\"2022-01-25T00:00:00\",\"2022-01-26T00:00:00\",\"2022-01-27T00:00:00\",\"2022-01-28T00:00:00\",\"2022-01-29T00:00:00\",\"2022-01-30T00:00:00\",\"2022-01-31T00:00:00\",\"2022-02-01T00:00:00\",\"2022-02-02T00:00:00\",\"2022-02-03T00:00:00\",\"2022-02-04T00:00:00\",\"2022-02-05T00:00:00\",\"2022-02-06T00:00:00\",\"2022-02-07T00:00:00\",\"2022-02-08T00:00:00\",\"2022-02-09T00:00:00\",\"2022-02-10T00:00:00\",\"2022-02-11T00:00:00\",\"2022-02-12T00:00:00\",\"2022-02-13T00:00:00\",\"2022-02-14T00:00:00\",\"2022-02-15T00:00:00\",\"2022-02-16T00:00:00\",\"2022-02-17T00:00:00\",\"2022-02-18T00:00:00\",\"2022-02-19T00:00:00\",\"2022-02-20T00:00:00\",\"2022-02-21T00:00:00\",\"2022-02-22T00:00:00\",\"2022-02-23T00:00:00\",\"2022-02-24T00:00:00\",\"2022-02-25T00:00:00\",\"2022-02-26T00:00:00\",\"2022-02-27T00:00:00\",\"2022-02-28T00:00:00\",\"2022-03-01T00:00:00\",\"2022-03-02T00:00:00\",\"2022-03-03T00:00:00\",\"2022-03-04T00:00:00\",\"2022-03-05T00:00:00\",\"2022-03-06T00:00:00\",\"2022-03-07T00:00:00\",\"2022-03-08T00:00:00\",\"2022-03-09T00:00:00\",\"2022-03-10T00:00:00\",\"2022-03-11T00:00:00\",\"2022-03-12T00:00:00\",\"2022-03-13T00:00:00\",\"2022-03-14T00:00:00\",\"2022-03-15T00:00:00\",\"2022-03-16T00:00:00\",\"2022-03-17T00:00:00\",\"2022-03-18T00:00:00\",\"2022-03-19T00:00:00\",\"2022-03-20T00:00:00\",\"2022-03-21T00:00:00\",\"2022-03-22T00:00:00\",\"2022-03-23T00:00:00\",\"2022-03-24T00:00:00\",\"2022-03-25T00:00:00\",\"2022-03-26T00:00:00\",\"2022-03-27T00:00:00\",\"2022-03-28T00:00:00\",\"2022-03-29T00:00:00\",\"2022-03-30T00:00:00\",\"2022-03-31T00:00:00\",\"2022-04-01T00:00:00\",\"2022-04-02T00:00:00\",\"2022-04-03T00:00:00\",\"2022-04-04T00:00:00\",\"2022-04-05T00:00:00\",\"2022-04-06T00:00:00\",\"2022-04-07T00:00:00\",\"2022-04-08T00:00:00\",\"2022-04-09T00:00:00\",\"2022-04-10T00:00:00\",\"2022-04-11T00:00:00\",\"2022-04-12T00:00:00\",\"2022-04-13T00:00:00\",\"2022-04-14T00:00:00\",\"2022-04-15T00:00:00\",\"2022-04-16T00:00:00\",\"2022-04-17T00:00:00\",\"2022-04-18T00:00:00\",\"2022-04-19T00:00:00\",\"2022-04-20T00:00:00\",\"2022-04-21T00:00:00\",\"2022-04-22T00:00:00\",\"2022-04-23T00:00:00\",\"2022-04-24T00:00:00\",\"2022-04-25T00:00:00\",\"2022-04-26T00:00:00\",\"2022-04-27T00:00:00\",\"2022-04-28T00:00:00\",\"2022-04-29T00:00:00\",\"2022-04-30T00:00:00\",\"2022-05-01T00:00:00\",\"2022-05-02T00:00:00\",\"2022-05-03T00:00:00\",\"2022-05-04T00:00:00\",\"2022-05-05T00:00:00\",\"2022-05-06T00:00:00\",\"2022-05-07T00:00:00\",\"2022-05-08T00:00:00\",\"2022-05-09T00:00:00\",\"2022-05-10T00:00:00\",\"2022-05-11T00:00:00\",\"2022-05-12T00:00:00\",\"2022-05-13T00:00:00\",\"2022-05-14T00:00:00\",\"2022-05-15T00:00:00\",\"2022-05-16T00:00:00\",\"2022-05-17T00:00:00\",\"2022-05-18T00:00:00\",\"2022-05-19T00:00:00\",\"2022-05-20T00:00:00\",\"2022-05-21T00:00:00\",\"2022-05-22T00:00:00\",\"2022-05-23T00:00:00\",\"2022-05-24T00:00:00\",\"2022-05-25T00:00:00\",\"2022-05-26T00:00:00\",\"2022-05-27T00:00:00\",\"2022-05-28T00:00:00\",\"2022-05-29T00:00:00\",\"2022-05-30T00:00:00\",\"2022-05-31T00:00:00\",\"2022-06-01T00:00:00\",\"2022-06-02T00:00:00\",\"2022-06-03T00:00:00\",\"2022-06-04T00:00:00\",\"2022-06-05T00:00:00\",\"2022-06-06T00:00:00\",\"2022-06-07T00:00:00\",\"2022-06-08T00:00:00\",\"2022-06-09T00:00:00\"],\"xaxis\":\"x\",\"y\":[34728.191406,34864.109375,38757.285156,39609.46875,38176.035156,37439.675781,35255.855469,34933.0625,33432.074219,31295.935547,28893.621094,31772.632813,32385.214844,31350.884766,30184.501953,32071.757813,33902.074219,34252.484375,34086.152344,32883.78125,32770.679688,33402.695313,34396.476563,33213.660156,33599.917969,33839.289063,32133.183594,32318.880859,33116.011719,33346.738281,32697.308594,32261.419922,31639.125,31175.708984,31100.673828,31223.990234,31215.492188,30563.734375,29360.955078,29526.183594,31745.298828,32057.892578,33424.859375,33881.835938,35287.3125,36441.726563,38862.4375,39352.058594,38397.355469,41110.832031,39540.941406,38746.347656,37782.050781,37589.164063,37458.003906,39932.179688,42618.566406,43331.910156,42848.6875,44705.554688,45351.710938,43861.445313,44282.417969,46177.632813,45579.589844,45700.320313,44512.417969,44364.027344,43998.316406,46650.707031,48312.199219,48199.941406,49074.605469,47687.117188,47163.613281,46405.78125,46394.28125,48499.238281,47925.855469,46950.273438,46750.09375,46562.4375,48652.320313,48386.085938,49548.78125,49538.597656,51053.679688,43285.207031,44561.394531,45669.738281,44344.484375,44818.265625,44790.460938,43591.320313,44752.332031,46773.328125,47079.558594,46832.523438,47087.285156,46919.804688,42598.914063,39787.609375,40625.632813,43109.339844,40936.558594,41759.921875,40848.460938,42190.632813,40931.664063,40829.667969,41444.582031,43320.023438,47465.496094,47157.289063,47045.003906,49072.839844,50488.191406,53525.46875,53688.054688,53735.144531,54264.257813,54519.765625,54477.972656,54370.972656,56957.074219,56868.144531,60206.121094,59164.46875,60012.757813,61622.933594,63610.675781,62117.410156,60122.796875,59826.523438,59643.34375,60691.800781,59991.160156,58208.1875,58206.917969,60329.964844,60918.386719,60074.328125,59695.183594,60673.054688,61184.238281,60799.664063,60844.609375,60163.78125,61432.488281,63344.066406,66382.0625,63208.113281,64180.488281,62333.914063,63303.734375,63647.808594,63548.144531,59016.335938,58515.410156,56550.792969,55705.179688,57469.726563,58618.929688,55679.839844,55632.761719,55964.222656,57146.683594,53569.765625,53668.355469,53576.734375,56792.527344,56057.28125,56553.082031,55895.132813,52496.585938,42874.617188,47857.496094,47281.035156,50175.808594,48765.988281,47358.351563,47023.699219,46942.347656,48725.851563,45894.847656,46424.496094,46671.964844,47529.878906,45618.214844,45598.441406,46502.953125,45579.808594,46698.773438,48450.941406,48065.835938,50514.496094,50236.707031,49623.105469,50499.46875,47414.210938,46201.496094,46060.3125,45819.953125,46288.484375,46856.9375,45835.964844,45752.464844,42798.222656,42645.539063,41077.445313,40672.277344,41338.160156,39796.570313,41407.753906,42528.988281,42447.042969,41982.617188,42669.035156,42691.023438,41680.320313,41392.214844,41242.914063,40672.824219,35791.425781,34349.25,34784.96875,33184.058594,35779.429688,36374.90625,35629.28125,36211.109375,37406.472656,37437.710938,36733.574219,38113.664063,36832.730469,36375.539063,37093.628906,41038.097656,41244.90625,41748.15625,42807.835938,43232.96875,43402.808594,42114.539063,41852.574219,41950.941406,41681.957031,42491.035156,43456.691406,40249.371094,39637.617188,39713.058594,38112.8125,36950.476563,36488.933594,37201.816406,34459.21875,38111.34375,38702.535156,37268.976563,37518.214844,42952.585938,43432.851563,41914.75,38805.847656,38777.035156,38211.648438,37260.203125,37957.386719,38706.09375,38832.941406,38347.433594,38772.535156,37728.144531,37680.734375,38310.210938,39022.347656,40662.871094,40302.398438,41602.667969,41004.757813,40668.042969,40948.28125,41877.507813,42726.164063,43706.285156,44166.273438,44437.292969,46690.203125,47100.4375,46746.210938,45390.539063,44403.140625,45782.511719,45634.105469,45235.816406,45544.808594,43193.953125,42899.90625,42183.289063,42183.253906,42021.207031,39373.058594,39388.328125,39712.746094,39695.746094,39866.832031,40078.425781,39620.894531,38696.191406,40618.632813,40961.097656,40063.828125,39315.417969,39352.203125,39233.539063,38338.378906,37884.984375,37997.3125,38941.421875,38235.535156,37697.941406,37585.789063,38156.5625,37585.621094,37732.058594,35856.515625,35482.132813,34940.824219,33878.964844,30296.953125,29944.802734,28170.414063,26350.490234,28782.330078,28702.910156,29527.740234,29251.884766,29570.302734,28720.271484,28708.955078,28793.605469,29027.394531,29275.183594,28975.560547,28786.589844,29384.949219,28261.90625,28326.613281,28554.566406,28841.107422,29303.572266,31286.154297,29501.587891,29652.705078,29375.689453,29500.005859,29574.449219,29894.1875,29311.683594,29944.404297,30020.265625],\"yaxis\":\"y\",\"type\":\"scattergl\"}],                        {\"template\":{\"data\":{\"bar\":[{\"error_x\":{\"color\":\"#2a3f5f\"},\"error_y\":{\"color\":\"#2a3f5f\"},\"marker\":{\"line\":{\"color\":\"#E5ECF6\",\"width\":0.5},\"pattern\":{\"fillmode\":\"overlay\",\"size\":10,\"solidity\":0.2}},\"type\":\"bar\"}],\"barpolar\":[{\"marker\":{\"line\":{\"color\":\"#E5ECF6\",\"width\":0.5},\"pattern\":{\"fillmode\":\"overlay\",\"size\":10,\"solidity\":0.2}},\"type\":\"barpolar\"}],\"carpet\":[{\"aaxis\":{\"endlinecolor\":\"#2a3f5f\",\"gridcolor\":\"white\",\"linecolor\":\"white\",\"minorgridcolor\":\"white\",\"startlinecolor\":\"#2a3f5f\"},\"baxis\":{\"endlinecolor\":\"#2a3f5f\",\"gridcolor\":\"white\",\"linecolor\":\"white\",\"minorgridcolor\":\"white\",\"startlinecolor\":\"#2a3f5f\"},\"type\":\"carpet\"}],\"choropleth\":[{\"colorbar\":{\"outlinewidth\":0,\"ticks\":\"\"},\"type\":\"choropleth\"}],\"contour\":[{\"colorbar\":{\"outlinewidth\":0,\"ticks\":\"\"},\"colorscale\":[[0.0,\"#0d0887\"],[0.1111111111111111,\"#46039f\"],[0.2222222222222222,\"#7201a8\"],[0.3333333333333333,\"#9c179e\"],[0.4444444444444444,\"#bd3786\"],[0.5555555555555556,\"#d8576b\"],[0.6666666666666666,\"#ed7953\"],[0.7777777777777778,\"#fb9f3a\"],[0.8888888888888888,\"#fdca26\"],[1.0,\"#f0f921\"]],\"type\":\"contour\"}],\"contourcarpet\":[{\"colorbar\":{\"outlinewidth\":0,\"ticks\":\"\"},\"type\":\"contourcarpet\"}],\"heatmap\":[{\"colorbar\":{\"outlinewidth\":0,\"ticks\":\"\"},\"colorscale\":[[0.0,\"#0d0887\"],[0.1111111111111111,\"#46039f\"],[0.2222222222222222,\"#7201a8\"],[0.3333333333333333,\"#9c179e\"],[0.4444444444444444,\"#bd3786\"],[0.5555555555555556,\"#d8576b\"],[0.6666666666666666,\"#ed7953\"],[0.7777777777777778,\"#fb9f3a\"],[0.8888888888888888,\"#fdca26\"],[1.0,\"#f0f921\"]],\"type\":\"heatmap\"}],\"heatmapgl\":[{\"colorbar\":{\"outlinewidth\":0,\"ticks\":\"\"},\"colorscale\":[[0.0,\"#0d0887\"],[0.1111111111111111,\"#46039f\"],[0.2222222222222222,\"#7201a8\"],[0.3333333333333333,\"#9c179e\"],[0.4444444444444444,\"#bd3786\"],[0.5555555555555556,\"#d8576b\"],[0.6666666666666666,\"#ed7953\"],[0.7777777777777778,\"#fb9f3a\"],[0.8888888888888888,\"#fdca26\"],[1.0,\"#f0f921\"]],\"type\":\"heatmapgl\"}],\"histogram\":[{\"marker\":{\"pattern\":{\"fillmode\":\"overlay\",\"size\":10,\"solidity\":0.2}},\"type\":\"histogram\"}],\"histogram2d\":[{\"colorbar\":{\"outlinewidth\":0,\"ticks\":\"\"},\"colorscale\":[[0.0,\"#0d0887\"],[0.1111111111111111,\"#46039f\"],[0.2222222222222222,\"#7201a8\"],[0.3333333333333333,\"#9c179e\"],[0.4444444444444444,\"#bd3786\"],[0.5555555555555556,\"#d8576b\"],[0.6666666666666666,\"#ed7953\"],[0.7777777777777778,\"#fb9f3a\"],[0.8888888888888888,\"#fdca26\"],[1.0,\"#f0f921\"]],\"type\":\"histogram2d\"}],\"histogram2dcontour\":[{\"colorbar\":{\"outlinewidth\":0,\"ticks\":\"\"},\"colorscale\":[[0.0,\"#0d0887\"],[0.1111111111111111,\"#46039f\"],[0.2222222222222222,\"#7201a8\"],[0.3333333333333333,\"#9c179e\"],[0.4444444444444444,\"#bd3786\"],[0.5555555555555556,\"#d8576b\"],[0.6666666666666666,\"#ed7953\"],[0.7777777777777778,\"#fb9f3a\"],[0.8888888888888888,\"#fdca26\"],[1.0,\"#f0f921\"]],\"type\":\"histogram2dcontour\"}],\"mesh3d\":[{\"colorbar\":{\"outlinewidth\":0,\"ticks\":\"\"},\"type\":\"mesh3d\"}],\"parcoords\":[{\"line\":{\"colorbar\":{\"outlinewidth\":0,\"ticks\":\"\"}},\"type\":\"parcoords\"}],\"pie\":[{\"automargin\":true,\"type\":\"pie\"}],\"scatter\":[{\"marker\":{\"colorbar\":{\"outlinewidth\":0,\"ticks\":\"\"}},\"type\":\"scatter\"}],\"scatter3d\":[{\"line\":{\"colorbar\":{\"outlinewidth\":0,\"ticks\":\"\"}},\"marker\":{\"colorbar\":{\"outlinewidth\":0,\"ticks\":\"\"}},\"type\":\"scatter3d\"}],\"scattercarpet\":[{\"marker\":{\"colorbar\":{\"outlinewidth\":0,\"ticks\":\"\"}},\"type\":\"scattercarpet\"}],\"scattergeo\":[{\"marker\":{\"colorbar\":{\"outlinewidth\":0,\"ticks\":\"\"}},\"type\":\"scattergeo\"}],\"scattergl\":[{\"marker\":{\"colorbar\":{\"outlinewidth\":0,\"ticks\":\"\"}},\"type\":\"scattergl\"}],\"scattermapbox\":[{\"marker\":{\"colorbar\":{\"outlinewidth\":0,\"ticks\":\"\"}},\"type\":\"scattermapbox\"}],\"scatterpolar\":[{\"marker\":{\"colorbar\":{\"outlinewidth\":0,\"ticks\":\"\"}},\"type\":\"scatterpolar\"}],\"scatterpolargl\":[{\"marker\":{\"colorbar\":{\"outlinewidth\":0,\"ticks\":\"\"}},\"type\":\"scatterpolargl\"}],\"scatterternary\":[{\"marker\":{\"colorbar\":{\"outlinewidth\":0,\"ticks\":\"\"}},\"type\":\"scatterternary\"}],\"surface\":[{\"colorbar\":{\"outlinewidth\":0,\"ticks\":\"\"},\"colorscale\":[[0.0,\"#0d0887\"],[0.1111111111111111,\"#46039f\"],[0.2222222222222222,\"#7201a8\"],[0.3333333333333333,\"#9c179e\"],[0.4444444444444444,\"#bd3786\"],[0.5555555555555556,\"#d8576b\"],[0.6666666666666666,\"#ed7953\"],[0.7777777777777778,\"#fb9f3a\"],[0.8888888888888888,\"#fdca26\"],[1.0,\"#f0f921\"]],\"type\":\"surface\"}],\"table\":[{\"cells\":{\"fill\":{\"color\":\"#EBF0F8\"},\"line\":{\"color\":\"white\"}},\"header\":{\"fill\":{\"color\":\"#C8D4E3\"},\"line\":{\"color\":\"white\"}},\"type\":\"table\"}]},\"layout\":{\"annotationdefaults\":{\"arrowcolor\":\"#2a3f5f\",\"arrowhead\":0,\"arrowwidth\":1},\"autotypenumbers\":\"strict\",\"coloraxis\":{\"colorbar\":{\"outlinewidth\":0,\"ticks\":\"\"}},\"colorscale\":{\"diverging\":[[0,\"#8e0152\"],[0.1,\"#c51b7d\"],[0.2,\"#de77ae\"],[0.3,\"#f1b6da\"],[0.4,\"#fde0ef\"],[0.5,\"#f7f7f7\"],[0.6,\"#e6f5d0\"],[0.7,\"#b8e186\"],[0.8,\"#7fbc41\"],[0.9,\"#4d9221\"],[1,\"#276419\"]],\"sequential\":[[0.0,\"#0d0887\"],[0.1111111111111111,\"#46039f\"],[0.2222222222222222,\"#7201a8\"],[0.3333333333333333,\"#9c179e\"],[0.4444444444444444,\"#bd3786\"],[0.5555555555555556,\"#d8576b\"],[0.6666666666666666,\"#ed7953\"],[0.7777777777777778,\"#fb9f3a\"],[0.8888888888888888,\"#fdca26\"],[1.0,\"#f0f921\"]],\"sequentialminus\":[[0.0,\"#0d0887\"],[0.1111111111111111,\"#46039f\"],[0.2222222222222222,\"#7201a8\"],[0.3333333333333333,\"#9c179e\"],[0.4444444444444444,\"#bd3786\"],[0.5555555555555556,\"#d8576b\"],[0.6666666666666666,\"#ed7953\"],[0.7777777777777778,\"#fb9f3a\"],[0.8888888888888888,\"#fdca26\"],[1.0,\"#f0f921\"]]},\"colorway\":[\"#636efa\",\"#EF553B\",\"#00cc96\",\"#ab63fa\",\"#FFA15A\",\"#19d3f3\",\"#FF6692\",\"#B6E880\",\"#FF97FF\",\"#FECB52\"],\"font\":{\"color\":\"#2a3f5f\"},\"geo\":{\"bgcolor\":\"white\",\"lakecolor\":\"white\",\"landcolor\":\"#E5ECF6\",\"showlakes\":true,\"showland\":true,\"subunitcolor\":\"white\"},\"hoverlabel\":{\"align\":\"left\"},\"hovermode\":\"closest\",\"mapbox\":{\"style\":\"light\"},\"paper_bgcolor\":\"white\",\"plot_bgcolor\":\"#E5ECF6\",\"polar\":{\"angularaxis\":{\"gridcolor\":\"white\",\"linecolor\":\"white\",\"ticks\":\"\"},\"bgcolor\":\"#E5ECF6\",\"radialaxis\":{\"gridcolor\":\"white\",\"linecolor\":\"white\",\"ticks\":\"\"}},\"scene\":{\"xaxis\":{\"backgroundcolor\":\"#E5ECF6\",\"gridcolor\":\"white\",\"gridwidth\":2,\"linecolor\":\"white\",\"showbackground\":true,\"ticks\":\"\",\"zerolinecolor\":\"white\"},\"yaxis\":{\"backgroundcolor\":\"#E5ECF6\",\"gridcolor\":\"white\",\"gridwidth\":2,\"linecolor\":\"white\",\"showbackground\":true,\"ticks\":\"\",\"zerolinecolor\":\"white\"},\"zaxis\":{\"backgroundcolor\":\"#E5ECF6\",\"gridcolor\":\"white\",\"gridwidth\":2,\"linecolor\":\"white\",\"showbackground\":true,\"ticks\":\"\",\"zerolinecolor\":\"white\"}},\"shapedefaults\":{\"line\":{\"color\":\"#2a3f5f\"}},\"ternary\":{\"aaxis\":{\"gridcolor\":\"white\",\"linecolor\":\"white\",\"ticks\":\"\"},\"baxis\":{\"gridcolor\":\"white\",\"linecolor\":\"white\",\"ticks\":\"\"},\"bgcolor\":\"#E5ECF6\",\"caxis\":{\"gridcolor\":\"white\",\"linecolor\":\"white\",\"ticks\":\"\"}},\"title\":{\"x\":0.05},\"xaxis\":{\"automargin\":true,\"gridcolor\":\"white\",\"linecolor\":\"white\",\"ticks\":\"\",\"title\":{\"standoff\":15},\"zerolinecolor\":\"white\",\"zerolinewidth\":2},\"yaxis\":{\"automargin\":true,\"gridcolor\":\"white\",\"linecolor\":\"white\",\"ticks\":\"\",\"title\":{\"standoff\":15},\"zerolinecolor\":\"white\",\"zerolinewidth\":2}}},\"xaxis\":{\"anchor\":\"y\",\"domain\":[0.0,1.0],\"title\":{\"text\":\"Tanggal\"},\"showgrid\":false},\"yaxis\":{\"anchor\":\"x\",\"domain\":[0.0,1.0],\"title\":{\"text\":\"Harga\"},\"showgrid\":false},\"legend\":{\"title\":{\"text\":\" Parameters\"},\"tracegroupgap\":0},\"margin\":{\"t\":60},\"title\":{\"text\":\"Chart analisis harga\"},\"font\":{\"size\":15,\"color\":\"black\"}},                        {\"responsive\": true}                    ).then(function(){\n",
              "                            \n",
              "var gd = document.getElementById('31545303-2e77-4063-b2db-5324287d9b06');\n",
              "var x = new MutationObserver(function (mutations, observer) {{\n",
              "        var display = window.getComputedStyle(gd).display;\n",
              "        if (!display || display === 'none') {{\n",
              "            console.log([gd, 'removed!']);\n",
              "            Plotly.purge(gd);\n",
              "            observer.disconnect();\n",
              "        }}\n",
              "}});\n",
              "\n",
              "// Listen for the removal of the full notebook cells\n",
              "var notebookContainer = gd.closest('#notebook-container');\n",
              "if (notebookContainer) {{\n",
              "    x.observe(notebookContainer, {childList: true});\n",
              "}}\n",
              "\n",
              "// Listen for the clearing of the current output cell\n",
              "var outputEl = gd.closest('.output');\n",
              "if (outputEl) {{\n",
              "    x.observe(outputEl, {childList: true});\n",
              "}}\n",
              "\n",
              "                        })                };                            </script>        </div>\n",
              "</body>\n",
              "</html>"
            ]
          },
          "metadata": {}
        }
      ]
    },
    {
      "cell_type": "code",
      "source": [
        "#mencoba untuk predict harga close\n",
        "\n",
        "closedf = maindf[['Date','Close']]\n",
        "print(\"Shape of close dataframe:\", closedf.shape)"
      ],
      "metadata": {
        "colab": {
          "base_uri": "https://localhost:8080/"
        },
        "id": "SZBQU4X5Nb_-",
        "outputId": "314f4101-9d48-4267-f579-2c51d11b4f95"
      },
      "execution_count": 18,
      "outputs": [
        {
          "output_type": "stream",
          "name": "stdout",
          "text": [
            "Shape of close dataframe: (365, 2)\n"
          ]
        }
      ]
    },
    {
      "cell_type": "code",
      "source": [
        "#tampilkan chart harga close dalam satu tahun terakhir\n",
        "fig = px.line(closedf, x=closedf.Date, y=closedf.Close,labels={'date':'Tanggal','close':'Harga Close'})\n",
        "fig.update_traces(marker_line_width=2, opacity=0.8, marker_line_color='orange')\n",
        "fig.update_layout(title_text='Harga close Bitcoin selama 1 tahun terakhir ', plot_bgcolor='white', \n",
        "                  font_size=15, font_color='black')\n",
        "fig.update_xaxes(showgrid=False)\n",
        "fig.update_yaxes(showgrid=False)\n",
        "fig.show()"
      ],
      "metadata": {
        "colab": {
          "base_uri": "https://localhost:8080/",
          "height": 542
        },
        "id": "es7EtCcwNcDB",
        "outputId": "b8d2e823-5519-45cf-b39f-008bb1896009"
      },
      "execution_count": 19,
      "outputs": [
        {
          "output_type": "display_data",
          "data": {
            "text/html": [
              "<html>\n",
              "<head><meta charset=\"utf-8\" /></head>\n",
              "<body>\n",
              "    <div>            <script src=\"https://cdnjs.cloudflare.com/ajax/libs/mathjax/2.7.5/MathJax.js?config=TeX-AMS-MML_SVG\"></script><script type=\"text/javascript\">if (window.MathJax) {MathJax.Hub.Config({SVG: {font: \"STIX-Web\"}});}</script>                <script type=\"text/javascript\">window.PlotlyConfig = {MathJaxConfig: 'local'};</script>\n",
              "        <script src=\"https://cdn.plot.ly/plotly-2.8.3.min.js\"></script>                <div id=\"2874764a-5e0c-4f30-a873-2b16b616455a\" class=\"plotly-graph-div\" style=\"height:525px; width:100%;\"></div>            <script type=\"text/javascript\">                                    window.PLOTLYENV=window.PLOTLYENV || {};                                    if (document.getElementById(\"2874764a-5e0c-4f30-a873-2b16b616455a\")) {                    Plotly.newPlot(                        \"2874764a-5e0c-4f30-a873-2b16b616455a\",                        [{\"hovertemplate\":\"Date=%{x}<br>Close=%{y}<extra></extra>\",\"legendgroup\":\"\",\"line\":{\"color\":\"#636efa\",\"dash\":\"solid\"},\"marker\":{\"symbol\":\"circle\",\"line\":{\"color\":\"orange\",\"width\":2}},\"mode\":\"lines\",\"name\":\"\",\"orientation\":\"v\",\"showlegend\":false,\"x\":[\"2021-06-11T00:00:00\",\"2021-06-12T00:00:00\",\"2021-06-13T00:00:00\",\"2021-06-14T00:00:00\",\"2021-06-15T00:00:00\",\"2021-06-16T00:00:00\",\"2021-06-17T00:00:00\",\"2021-06-18T00:00:00\",\"2021-06-19T00:00:00\",\"2021-06-20T00:00:00\",\"2021-06-21T00:00:00\",\"2021-06-22T00:00:00\",\"2021-06-23T00:00:00\",\"2021-06-24T00:00:00\",\"2021-06-25T00:00:00\",\"2021-06-26T00:00:00\",\"2021-06-27T00:00:00\",\"2021-06-28T00:00:00\",\"2021-06-29T00:00:00\",\"2021-06-30T00:00:00\",\"2021-07-01T00:00:00\",\"2021-07-02T00:00:00\",\"2021-07-03T00:00:00\",\"2021-07-04T00:00:00\",\"2021-07-05T00:00:00\",\"2021-07-06T00:00:00\",\"2021-07-07T00:00:00\",\"2021-07-08T00:00:00\",\"2021-07-09T00:00:00\",\"2021-07-10T00:00:00\",\"2021-07-11T00:00:00\",\"2021-07-12T00:00:00\",\"2021-07-13T00:00:00\",\"2021-07-14T00:00:00\",\"2021-07-15T00:00:00\",\"2021-07-16T00:00:00\",\"2021-07-17T00:00:00\",\"2021-07-18T00:00:00\",\"2021-07-19T00:00:00\",\"2021-07-20T00:00:00\",\"2021-07-21T00:00:00\",\"2021-07-22T00:00:00\",\"2021-07-23T00:00:00\",\"2021-07-24T00:00:00\",\"2021-07-25T00:00:00\",\"2021-07-26T00:00:00\",\"2021-07-27T00:00:00\",\"2021-07-28T00:00:00\",\"2021-07-29T00:00:00\",\"2021-07-30T00:00:00\",\"2021-07-31T00:00:00\",\"2021-08-01T00:00:00\",\"2021-08-02T00:00:00\",\"2021-08-03T00:00:00\",\"2021-08-04T00:00:00\",\"2021-08-05T00:00:00\",\"2021-08-06T00:00:00\",\"2021-08-07T00:00:00\",\"2021-08-08T00:00:00\",\"2021-08-09T00:00:00\",\"2021-08-10T00:00:00\",\"2021-08-11T00:00:00\",\"2021-08-12T00:00:00\",\"2021-08-13T00:00:00\",\"2021-08-14T00:00:00\",\"2021-08-15T00:00:00\",\"2021-08-16T00:00:00\",\"2021-08-17T00:00:00\",\"2021-08-18T00:00:00\",\"2021-08-19T00:00:00\",\"2021-08-20T00:00:00\",\"2021-08-21T00:00:00\",\"2021-08-22T00:00:00\",\"2021-08-23T00:00:00\",\"2021-08-24T00:00:00\",\"2021-08-25T00:00:00\",\"2021-08-26T00:00:00\",\"2021-08-27T00:00:00\",\"2021-08-28T00:00:00\",\"2021-08-29T00:00:00\",\"2021-08-30T00:00:00\",\"2021-08-31T00:00:00\",\"2021-09-01T00:00:00\",\"2021-09-02T00:00:00\",\"2021-09-03T00:00:00\",\"2021-09-04T00:00:00\",\"2021-09-05T00:00:00\",\"2021-09-06T00:00:00\",\"2021-09-07T00:00:00\",\"2021-09-08T00:00:00\",\"2021-09-09T00:00:00\",\"2021-09-10T00:00:00\",\"2021-09-11T00:00:00\",\"2021-09-12T00:00:00\",\"2021-09-13T00:00:00\",\"2021-09-14T00:00:00\",\"2021-09-15T00:00:00\",\"2021-09-16T00:00:00\",\"2021-09-17T00:00:00\",\"2021-09-18T00:00:00\",\"2021-09-19T00:00:00\",\"2021-09-20T00:00:00\",\"2021-09-21T00:00:00\",\"2021-09-22T00:00:00\",\"2021-09-23T00:00:00\",\"2021-09-24T00:00:00\",\"2021-09-25T00:00:00\",\"2021-09-26T00:00:00\",\"2021-09-27T00:00:00\",\"2021-09-28T00:00:00\",\"2021-09-29T00:00:00\",\"2021-09-30T00:00:00\",\"2021-10-01T00:00:00\",\"2021-10-02T00:00:00\",\"2021-10-03T00:00:00\",\"2021-10-04T00:00:00\",\"2021-10-05T00:00:00\",\"2021-10-06T00:00:00\",\"2021-10-07T00:00:00\",\"2021-10-08T00:00:00\",\"2021-10-09T00:00:00\",\"2021-10-10T00:00:00\",\"2021-10-11T00:00:00\",\"2021-10-12T00:00:00\",\"2021-10-13T00:00:00\",\"2021-10-14T00:00:00\",\"2021-10-15T00:00:00\",\"2021-10-16T00:00:00\",\"2021-10-17T00:00:00\",\"2021-10-18T00:00:00\",\"2021-10-19T00:00:00\",\"2021-10-20T00:00:00\",\"2021-10-21T00:00:00\",\"2021-10-22T00:00:00\",\"2021-10-23T00:00:00\",\"2021-10-24T00:00:00\",\"2021-10-25T00:00:00\",\"2021-10-26T00:00:00\",\"2021-10-27T00:00:00\",\"2021-10-28T00:00:00\",\"2021-10-29T00:00:00\",\"2021-10-30T00:00:00\",\"2021-10-31T00:00:00\",\"2021-11-01T00:00:00\",\"2021-11-02T00:00:00\",\"2021-11-03T00:00:00\",\"2021-11-04T00:00:00\",\"2021-11-05T00:00:00\",\"2021-11-06T00:00:00\",\"2021-11-07T00:00:00\",\"2021-11-08T00:00:00\",\"2021-11-09T00:00:00\",\"2021-11-10T00:00:00\",\"2021-11-11T00:00:00\",\"2021-11-12T00:00:00\",\"2021-11-13T00:00:00\",\"2021-11-14T00:00:00\",\"2021-11-15T00:00:00\",\"2021-11-16T00:00:00\",\"2021-11-17T00:00:00\",\"2021-11-18T00:00:00\",\"2021-11-19T00:00:00\",\"2021-11-20T00:00:00\",\"2021-11-21T00:00:00\",\"2021-11-22T00:00:00\",\"2021-11-23T00:00:00\",\"2021-11-24T00:00:00\",\"2021-11-25T00:00:00\",\"2021-11-26T00:00:00\",\"2021-11-27T00:00:00\",\"2021-11-28T00:00:00\",\"2021-11-29T00:00:00\",\"2021-11-30T00:00:00\",\"2021-12-01T00:00:00\",\"2021-12-02T00:00:00\",\"2021-12-03T00:00:00\",\"2021-12-04T00:00:00\",\"2021-12-05T00:00:00\",\"2021-12-06T00:00:00\",\"2021-12-07T00:00:00\",\"2021-12-08T00:00:00\",\"2021-12-09T00:00:00\",\"2021-12-10T00:00:00\",\"2021-12-11T00:00:00\",\"2021-12-12T00:00:00\",\"2021-12-13T00:00:00\",\"2021-12-14T00:00:00\",\"2021-12-15T00:00:00\",\"2021-12-16T00:00:00\",\"2021-12-17T00:00:00\",\"2021-12-18T00:00:00\",\"2021-12-19T00:00:00\",\"2021-12-20T00:00:00\",\"2021-12-21T00:00:00\",\"2021-12-22T00:00:00\",\"2021-12-23T00:00:00\",\"2021-12-24T00:00:00\",\"2021-12-25T00:00:00\",\"2021-12-26T00:00:00\",\"2021-12-27T00:00:00\",\"2021-12-28T00:00:00\",\"2021-12-29T00:00:00\",\"2021-12-30T00:00:00\",\"2021-12-31T00:00:00\",\"2022-01-01T00:00:00\",\"2022-01-02T00:00:00\",\"2022-01-03T00:00:00\",\"2022-01-04T00:00:00\",\"2022-01-05T00:00:00\",\"2022-01-06T00:00:00\",\"2022-01-07T00:00:00\",\"2022-01-08T00:00:00\",\"2022-01-09T00:00:00\",\"2022-01-10T00:00:00\",\"2022-01-11T00:00:00\",\"2022-01-12T00:00:00\",\"2022-01-13T00:00:00\",\"2022-01-14T00:00:00\",\"2022-01-15T00:00:00\",\"2022-01-16T00:00:00\",\"2022-01-17T00:00:00\",\"2022-01-18T00:00:00\",\"2022-01-19T00:00:00\",\"2022-01-20T00:00:00\",\"2022-01-21T00:00:00\",\"2022-01-22T00:00:00\",\"2022-01-23T00:00:00\",\"2022-01-24T00:00:00\",\"2022-01-25T00:00:00\",\"2022-01-26T00:00:00\",\"2022-01-27T00:00:00\",\"2022-01-28T00:00:00\",\"2022-01-29T00:00:00\",\"2022-01-30T00:00:00\",\"2022-01-31T00:00:00\",\"2022-02-01T00:00:00\",\"2022-02-02T00:00:00\",\"2022-02-03T00:00:00\",\"2022-02-04T00:00:00\",\"2022-02-05T00:00:00\",\"2022-02-06T00:00:00\",\"2022-02-07T00:00:00\",\"2022-02-08T00:00:00\",\"2022-02-09T00:00:00\",\"2022-02-10T00:00:00\",\"2022-02-11T00:00:00\",\"2022-02-12T00:00:00\",\"2022-02-13T00:00:00\",\"2022-02-14T00:00:00\",\"2022-02-15T00:00:00\",\"2022-02-16T00:00:00\",\"2022-02-17T00:00:00\",\"2022-02-18T00:00:00\",\"2022-02-19T00:00:00\",\"2022-02-20T00:00:00\",\"2022-02-21T00:00:00\",\"2022-02-22T00:00:00\",\"2022-02-23T00:00:00\",\"2022-02-24T00:00:00\",\"2022-02-25T00:00:00\",\"2022-02-26T00:00:00\",\"2022-02-27T00:00:00\",\"2022-02-28T00:00:00\",\"2022-03-01T00:00:00\",\"2022-03-02T00:00:00\",\"2022-03-03T00:00:00\",\"2022-03-04T00:00:00\",\"2022-03-05T00:00:00\",\"2022-03-06T00:00:00\",\"2022-03-07T00:00:00\",\"2022-03-08T00:00:00\",\"2022-03-09T00:00:00\",\"2022-03-10T00:00:00\",\"2022-03-11T00:00:00\",\"2022-03-12T00:00:00\",\"2022-03-13T00:00:00\",\"2022-03-14T00:00:00\",\"2022-03-15T00:00:00\",\"2022-03-16T00:00:00\",\"2022-03-17T00:00:00\",\"2022-03-18T00:00:00\",\"2022-03-19T00:00:00\",\"2022-03-20T00:00:00\",\"2022-03-21T00:00:00\",\"2022-03-22T00:00:00\",\"2022-03-23T00:00:00\",\"2022-03-24T00:00:00\",\"2022-03-25T00:00:00\",\"2022-03-26T00:00:00\",\"2022-03-27T00:00:00\",\"2022-03-28T00:00:00\",\"2022-03-29T00:00:00\",\"2022-03-30T00:00:00\",\"2022-03-31T00:00:00\",\"2022-04-01T00:00:00\",\"2022-04-02T00:00:00\",\"2022-04-03T00:00:00\",\"2022-04-04T00:00:00\",\"2022-04-05T00:00:00\",\"2022-04-06T00:00:00\",\"2022-04-07T00:00:00\",\"2022-04-08T00:00:00\",\"2022-04-09T00:00:00\",\"2022-04-10T00:00:00\",\"2022-04-11T00:00:00\",\"2022-04-12T00:00:00\",\"2022-04-13T00:00:00\",\"2022-04-14T00:00:00\",\"2022-04-15T00:00:00\",\"2022-04-16T00:00:00\",\"2022-04-17T00:00:00\",\"2022-04-18T00:00:00\",\"2022-04-19T00:00:00\",\"2022-04-20T00:00:00\",\"2022-04-21T00:00:00\",\"2022-04-22T00:00:00\",\"2022-04-23T00:00:00\",\"2022-04-24T00:00:00\",\"2022-04-25T00:00:00\",\"2022-04-26T00:00:00\",\"2022-04-27T00:00:00\",\"2022-04-28T00:00:00\",\"2022-04-29T00:00:00\",\"2022-04-30T00:00:00\",\"2022-05-01T00:00:00\",\"2022-05-02T00:00:00\",\"2022-05-03T00:00:00\",\"2022-05-04T00:00:00\",\"2022-05-05T00:00:00\",\"2022-05-06T00:00:00\",\"2022-05-07T00:00:00\",\"2022-05-08T00:00:00\",\"2022-05-09T00:00:00\",\"2022-05-10T00:00:00\",\"2022-05-11T00:00:00\",\"2022-05-12T00:00:00\",\"2022-05-13T00:00:00\",\"2022-05-14T00:00:00\",\"2022-05-15T00:00:00\",\"2022-05-16T00:00:00\",\"2022-05-17T00:00:00\",\"2022-05-18T00:00:00\",\"2022-05-19T00:00:00\",\"2022-05-20T00:00:00\",\"2022-05-21T00:00:00\",\"2022-05-22T00:00:00\",\"2022-05-23T00:00:00\",\"2022-05-24T00:00:00\",\"2022-05-25T00:00:00\",\"2022-05-26T00:00:00\",\"2022-05-27T00:00:00\",\"2022-05-28T00:00:00\",\"2022-05-29T00:00:00\",\"2022-05-30T00:00:00\",\"2022-05-31T00:00:00\",\"2022-06-01T00:00:00\",\"2022-06-02T00:00:00\",\"2022-06-03T00:00:00\",\"2022-06-04T00:00:00\",\"2022-06-05T00:00:00\",\"2022-06-06T00:00:00\",\"2022-06-07T00:00:00\",\"2022-06-08T00:00:00\",\"2022-06-09T00:00:00\",\"2022-06-11T00:00:00\"],\"xaxis\":\"x\",\"y\":[37334.398438,35552.515625,39097.859375,40218.476563,40406.269531,38347.0625,38053.503906,35787.246094,35615.871094,35698.296875,31676.693359,32505.660156,33723.027344,34662.4375,31637.779297,32186.277344,34649.644531,34434.335938,35867.777344,35040.835938,33572.117188,33897.046875,34668.546875,35287.78125,33746.003906,34235.195313,33855.328125,32877.371094,33798.011719,33520.519531,34240.1875,33155.847656,32702.025391,32822.347656,31780.730469,31421.539063,31533.068359,31796.810547,30817.832031,29807.347656,32110.693359,32313.105469,33581.550781,34292.445313,35350.1875,37337.535156,39406.941406,39995.90625,40008.421875,42235.546875,41626.195313,39974.894531,39201.945313,38152.980469,39747.503906,40869.554688,42816.5,44555.800781,43798.117188,46365.402344,45585.03125,45593.636719,44428.289063,47793.320313,47096.945313,47047.003906,46004.484375,44695.359375,44801.1875,46717.578125,49339.175781,48905.492188,49321.652344,49546.148438,47706.117188,48960.789063,46942.21875,49058.667969,48902.402344,48829.832031,47054.984375,47166.6875,48847.027344,49327.722656,50025.375,49944.625,51753.410156,52633.535156,46811.128906,46091.390625,46391.421875,44883.910156,45201.457031,46063.269531,44963.074219,47092.492188,48176.347656,47783.359375,47267.519531,48278.363281,47260.21875,42843.800781,40693.675781,43574.507813,44895.097656,42839.75,42716.59375,43208.539063,42235.730469,41034.542969,41564.363281,43790.894531,48116.941406,47711.488281,48199.953125,49112.902344,51514.8125,55361.449219,53805.984375,53967.847656,54968.222656,54771.578125,57484.789063,56041.058594,57401.097656,57321.523438,61593.949219,60892.179688,61553.617188,62026.078125,64261.992188,65992.835938,62210.171875,60692.265625,61393.617188,60930.835938,63039.824219,60363.792969,58482.386719,60622.136719,62227.964844,61888.832031,61318.957031,61004.40625,63226.402344,62970.046875,61452.230469,61125.675781,61527.480469,63326.988281,67566.828125,66971.828125,64995.230469,64949.960938,64155.941406,64469.527344,65466.839844,63557.871094,60161.246094,60368.011719,56942.136719,58119.578125,59697.195313,58730.476563,56289.289063,57569.074219,56280.425781,57274.679688,53569.765625,54815.078125,57248.457031,57806.566406,57005.425781,57229.828125,56477.816406,53598.246094,49200.703125,49368.847656,50582.625,50700.085938,50504.796875,47672.121094,47243.304688,49362.507813,50098.335938,46737.480469,46612.632813,48896.722656,47665.425781,46202.144531,46848.777344,46707.015625,46880.277344,48936.613281,48628.511719,50784.539063,50822.195313,50429.859375,50809.515625,50640.417969,47588.855469,46444.710938,47178.125,46306.445313,47686.8125,47345.21875,46458.117188,45897.574219,43569.003906,43160.929688,41557.902344,41733.941406,41911.601563,41821.261719,42735.855469,43949.101563,42591.570313,43099.699219,43177.398438,43113.878906,42250.550781,42375.632813,41744.328125,40680.417969,36457.316406,35030.25,36276.804688,36654.328125,36954.003906,36852.121094,37138.234375,37784.332031,38138.179688,37917.601563,38483.125,38743.273438,36952.984375,37154.601563,41500.875,41441.164063,42412.433594,43840.285156,44118.445313,44338.796875,43565.113281,42407.9375,42244.46875,42197.515625,42586.917969,44575.203125,43961.859375,40538.011719,40030.976563,40122.15625,38431.378906,37075.28125,38286.027344,37296.570313,38332.609375,39214.21875,39105.148438,37709.785156,43193.234375,44354.636719,43924.117188,42451.789063,39137.605469,39400.585938,38419.984375,38062.039063,38737.269531,41982.925781,39437.460938,38794.972656,38904.011719,37849.664063,39666.753906,39338.785156,41143.929688,40951.378906,41801.15625,42190.652344,41247.824219,41077.996094,42358.808594,42892.957031,43960.933594,44348.730469,44500.828125,46820.492188,47128.003906,47465.730469,47062.664063,45538.675781,46281.644531,45868.949219,46453.566406,46622.675781,45555.992188,43206.738281,43503.847656,42287.664063,42782.136719,42207.671875,39521.902344,40127.183594,41166.730469,39935.515625,40553.464844,40424.484375,39716.953125,40826.214844,41502.75,41374.378906,40527.363281,39740.320313,39486.730469,39469.292969,40458.308594,38117.460938,39241.121094,39773.828125,38609.824219,37714.875,38469.09375,38529.328125,37750.453125,39698.371094,36575.140625,36040.921875,35501.953125,34059.265625,30296.953125,31022.90625,28936.355469,29047.751953,29283.103516,30101.265625,31305.113281,29862.917969,30425.857422,28720.271484,30314.333984,29200.740234,29432.226563,30323.722656,29098.910156,29655.585938,29562.361328,29267.224609,28627.574219,28814.900391,29445.957031,31726.390625,31792.310547,29799.080078,30467.488281,29704.390625,29832.914063,29906.662109,31370.671875,31155.478516,30214.355469,30111.998047,29197.939453],\"yaxis\":\"y\",\"type\":\"scatter\",\"opacity\":0.8}],                        {\"template\":{\"data\":{\"bar\":[{\"error_x\":{\"color\":\"#2a3f5f\"},\"error_y\":{\"color\":\"#2a3f5f\"},\"marker\":{\"line\":{\"color\":\"#E5ECF6\",\"width\":0.5},\"pattern\":{\"fillmode\":\"overlay\",\"size\":10,\"solidity\":0.2}},\"type\":\"bar\"}],\"barpolar\":[{\"marker\":{\"line\":{\"color\":\"#E5ECF6\",\"width\":0.5},\"pattern\":{\"fillmode\":\"overlay\",\"size\":10,\"solidity\":0.2}},\"type\":\"barpolar\"}],\"carpet\":[{\"aaxis\":{\"endlinecolor\":\"#2a3f5f\",\"gridcolor\":\"white\",\"linecolor\":\"white\",\"minorgridcolor\":\"white\",\"startlinecolor\":\"#2a3f5f\"},\"baxis\":{\"endlinecolor\":\"#2a3f5f\",\"gridcolor\":\"white\",\"linecolor\":\"white\",\"minorgridcolor\":\"white\",\"startlinecolor\":\"#2a3f5f\"},\"type\":\"carpet\"}],\"choropleth\":[{\"colorbar\":{\"outlinewidth\":0,\"ticks\":\"\"},\"type\":\"choropleth\"}],\"contour\":[{\"colorbar\":{\"outlinewidth\":0,\"ticks\":\"\"},\"colorscale\":[[0.0,\"#0d0887\"],[0.1111111111111111,\"#46039f\"],[0.2222222222222222,\"#7201a8\"],[0.3333333333333333,\"#9c179e\"],[0.4444444444444444,\"#bd3786\"],[0.5555555555555556,\"#d8576b\"],[0.6666666666666666,\"#ed7953\"],[0.7777777777777778,\"#fb9f3a\"],[0.8888888888888888,\"#fdca26\"],[1.0,\"#f0f921\"]],\"type\":\"contour\"}],\"contourcarpet\":[{\"colorbar\":{\"outlinewidth\":0,\"ticks\":\"\"},\"type\":\"contourcarpet\"}],\"heatmap\":[{\"colorbar\":{\"outlinewidth\":0,\"ticks\":\"\"},\"colorscale\":[[0.0,\"#0d0887\"],[0.1111111111111111,\"#46039f\"],[0.2222222222222222,\"#7201a8\"],[0.3333333333333333,\"#9c179e\"],[0.4444444444444444,\"#bd3786\"],[0.5555555555555556,\"#d8576b\"],[0.6666666666666666,\"#ed7953\"],[0.7777777777777778,\"#fb9f3a\"],[0.8888888888888888,\"#fdca26\"],[1.0,\"#f0f921\"]],\"type\":\"heatmap\"}],\"heatmapgl\":[{\"colorbar\":{\"outlinewidth\":0,\"ticks\":\"\"},\"colorscale\":[[0.0,\"#0d0887\"],[0.1111111111111111,\"#46039f\"],[0.2222222222222222,\"#7201a8\"],[0.3333333333333333,\"#9c179e\"],[0.4444444444444444,\"#bd3786\"],[0.5555555555555556,\"#d8576b\"],[0.6666666666666666,\"#ed7953\"],[0.7777777777777778,\"#fb9f3a\"],[0.8888888888888888,\"#fdca26\"],[1.0,\"#f0f921\"]],\"type\":\"heatmapgl\"}],\"histogram\":[{\"marker\":{\"pattern\":{\"fillmode\":\"overlay\",\"size\":10,\"solidity\":0.2}},\"type\":\"histogram\"}],\"histogram2d\":[{\"colorbar\":{\"outlinewidth\":0,\"ticks\":\"\"},\"colorscale\":[[0.0,\"#0d0887\"],[0.1111111111111111,\"#46039f\"],[0.2222222222222222,\"#7201a8\"],[0.3333333333333333,\"#9c179e\"],[0.4444444444444444,\"#bd3786\"],[0.5555555555555556,\"#d8576b\"],[0.6666666666666666,\"#ed7953\"],[0.7777777777777778,\"#fb9f3a\"],[0.8888888888888888,\"#fdca26\"],[1.0,\"#f0f921\"]],\"type\":\"histogram2d\"}],\"histogram2dcontour\":[{\"colorbar\":{\"outlinewidth\":0,\"ticks\":\"\"},\"colorscale\":[[0.0,\"#0d0887\"],[0.1111111111111111,\"#46039f\"],[0.2222222222222222,\"#7201a8\"],[0.3333333333333333,\"#9c179e\"],[0.4444444444444444,\"#bd3786\"],[0.5555555555555556,\"#d8576b\"],[0.6666666666666666,\"#ed7953\"],[0.7777777777777778,\"#fb9f3a\"],[0.8888888888888888,\"#fdca26\"],[1.0,\"#f0f921\"]],\"type\":\"histogram2dcontour\"}],\"mesh3d\":[{\"colorbar\":{\"outlinewidth\":0,\"ticks\":\"\"},\"type\":\"mesh3d\"}],\"parcoords\":[{\"line\":{\"colorbar\":{\"outlinewidth\":0,\"ticks\":\"\"}},\"type\":\"parcoords\"}],\"pie\":[{\"automargin\":true,\"type\":\"pie\"}],\"scatter\":[{\"marker\":{\"colorbar\":{\"outlinewidth\":0,\"ticks\":\"\"}},\"type\":\"scatter\"}],\"scatter3d\":[{\"line\":{\"colorbar\":{\"outlinewidth\":0,\"ticks\":\"\"}},\"marker\":{\"colorbar\":{\"outlinewidth\":0,\"ticks\":\"\"}},\"type\":\"scatter3d\"}],\"scattercarpet\":[{\"marker\":{\"colorbar\":{\"outlinewidth\":0,\"ticks\":\"\"}},\"type\":\"scattercarpet\"}],\"scattergeo\":[{\"marker\":{\"colorbar\":{\"outlinewidth\":0,\"ticks\":\"\"}},\"type\":\"scattergeo\"}],\"scattergl\":[{\"marker\":{\"colorbar\":{\"outlinewidth\":0,\"ticks\":\"\"}},\"type\":\"scattergl\"}],\"scattermapbox\":[{\"marker\":{\"colorbar\":{\"outlinewidth\":0,\"ticks\":\"\"}},\"type\":\"scattermapbox\"}],\"scatterpolar\":[{\"marker\":{\"colorbar\":{\"outlinewidth\":0,\"ticks\":\"\"}},\"type\":\"scatterpolar\"}],\"scatterpolargl\":[{\"marker\":{\"colorbar\":{\"outlinewidth\":0,\"ticks\":\"\"}},\"type\":\"scatterpolargl\"}],\"scatterternary\":[{\"marker\":{\"colorbar\":{\"outlinewidth\":0,\"ticks\":\"\"}},\"type\":\"scatterternary\"}],\"surface\":[{\"colorbar\":{\"outlinewidth\":0,\"ticks\":\"\"},\"colorscale\":[[0.0,\"#0d0887\"],[0.1111111111111111,\"#46039f\"],[0.2222222222222222,\"#7201a8\"],[0.3333333333333333,\"#9c179e\"],[0.4444444444444444,\"#bd3786\"],[0.5555555555555556,\"#d8576b\"],[0.6666666666666666,\"#ed7953\"],[0.7777777777777778,\"#fb9f3a\"],[0.8888888888888888,\"#fdca26\"],[1.0,\"#f0f921\"]],\"type\":\"surface\"}],\"table\":[{\"cells\":{\"fill\":{\"color\":\"#EBF0F8\"},\"line\":{\"color\":\"white\"}},\"header\":{\"fill\":{\"color\":\"#C8D4E3\"},\"line\":{\"color\":\"white\"}},\"type\":\"table\"}]},\"layout\":{\"annotationdefaults\":{\"arrowcolor\":\"#2a3f5f\",\"arrowhead\":0,\"arrowwidth\":1},\"autotypenumbers\":\"strict\",\"coloraxis\":{\"colorbar\":{\"outlinewidth\":0,\"ticks\":\"\"}},\"colorscale\":{\"diverging\":[[0,\"#8e0152\"],[0.1,\"#c51b7d\"],[0.2,\"#de77ae\"],[0.3,\"#f1b6da\"],[0.4,\"#fde0ef\"],[0.5,\"#f7f7f7\"],[0.6,\"#e6f5d0\"],[0.7,\"#b8e186\"],[0.8,\"#7fbc41\"],[0.9,\"#4d9221\"],[1,\"#276419\"]],\"sequential\":[[0.0,\"#0d0887\"],[0.1111111111111111,\"#46039f\"],[0.2222222222222222,\"#7201a8\"],[0.3333333333333333,\"#9c179e\"],[0.4444444444444444,\"#bd3786\"],[0.5555555555555556,\"#d8576b\"],[0.6666666666666666,\"#ed7953\"],[0.7777777777777778,\"#fb9f3a\"],[0.8888888888888888,\"#fdca26\"],[1.0,\"#f0f921\"]],\"sequentialminus\":[[0.0,\"#0d0887\"],[0.1111111111111111,\"#46039f\"],[0.2222222222222222,\"#7201a8\"],[0.3333333333333333,\"#9c179e\"],[0.4444444444444444,\"#bd3786\"],[0.5555555555555556,\"#d8576b\"],[0.6666666666666666,\"#ed7953\"],[0.7777777777777778,\"#fb9f3a\"],[0.8888888888888888,\"#fdca26\"],[1.0,\"#f0f921\"]]},\"colorway\":[\"#636efa\",\"#EF553B\",\"#00cc96\",\"#ab63fa\",\"#FFA15A\",\"#19d3f3\",\"#FF6692\",\"#B6E880\",\"#FF97FF\",\"#FECB52\"],\"font\":{\"color\":\"#2a3f5f\"},\"geo\":{\"bgcolor\":\"white\",\"lakecolor\":\"white\",\"landcolor\":\"#E5ECF6\",\"showlakes\":true,\"showland\":true,\"subunitcolor\":\"white\"},\"hoverlabel\":{\"align\":\"left\"},\"hovermode\":\"closest\",\"mapbox\":{\"style\":\"light\"},\"paper_bgcolor\":\"white\",\"plot_bgcolor\":\"#E5ECF6\",\"polar\":{\"angularaxis\":{\"gridcolor\":\"white\",\"linecolor\":\"white\",\"ticks\":\"\"},\"bgcolor\":\"#E5ECF6\",\"radialaxis\":{\"gridcolor\":\"white\",\"linecolor\":\"white\",\"ticks\":\"\"}},\"scene\":{\"xaxis\":{\"backgroundcolor\":\"#E5ECF6\",\"gridcolor\":\"white\",\"gridwidth\":2,\"linecolor\":\"white\",\"showbackground\":true,\"ticks\":\"\",\"zerolinecolor\":\"white\"},\"yaxis\":{\"backgroundcolor\":\"#E5ECF6\",\"gridcolor\":\"white\",\"gridwidth\":2,\"linecolor\":\"white\",\"showbackground\":true,\"ticks\":\"\",\"zerolinecolor\":\"white\"},\"zaxis\":{\"backgroundcolor\":\"#E5ECF6\",\"gridcolor\":\"white\",\"gridwidth\":2,\"linecolor\":\"white\",\"showbackground\":true,\"ticks\":\"\",\"zerolinecolor\":\"white\"}},\"shapedefaults\":{\"line\":{\"color\":\"#2a3f5f\"}},\"ternary\":{\"aaxis\":{\"gridcolor\":\"white\",\"linecolor\":\"white\",\"ticks\":\"\"},\"baxis\":{\"gridcolor\":\"white\",\"linecolor\":\"white\",\"ticks\":\"\"},\"bgcolor\":\"#E5ECF6\",\"caxis\":{\"gridcolor\":\"white\",\"linecolor\":\"white\",\"ticks\":\"\"}},\"title\":{\"x\":0.05},\"xaxis\":{\"automargin\":true,\"gridcolor\":\"white\",\"linecolor\":\"white\",\"ticks\":\"\",\"title\":{\"standoff\":15},\"zerolinecolor\":\"white\",\"zerolinewidth\":2},\"yaxis\":{\"automargin\":true,\"gridcolor\":\"white\",\"linecolor\":\"white\",\"ticks\":\"\",\"title\":{\"standoff\":15},\"zerolinecolor\":\"white\",\"zerolinewidth\":2}}},\"xaxis\":{\"anchor\":\"y\",\"domain\":[0.0,1.0],\"title\":{\"text\":\"Date\"},\"showgrid\":false},\"yaxis\":{\"anchor\":\"x\",\"domain\":[0.0,1.0],\"title\":{\"text\":\"Close\"},\"showgrid\":false},\"legend\":{\"tracegroupgap\":0},\"margin\":{\"t\":60},\"title\":{\"text\":\"Harga close Bitcoin selama 1 tahun terakhir \"},\"font\":{\"size\":15,\"color\":\"black\"},\"plot_bgcolor\":\"white\"},                        {\"responsive\": true}                    ).then(function(){\n",
              "                            \n",
              "var gd = document.getElementById('2874764a-5e0c-4f30-a873-2b16b616455a');\n",
              "var x = new MutationObserver(function (mutations, observer) {{\n",
              "        var display = window.getComputedStyle(gd).display;\n",
              "        if (!display || display === 'none') {{\n",
              "            console.log([gd, 'removed!']);\n",
              "            Plotly.purge(gd);\n",
              "            observer.disconnect();\n",
              "        }}\n",
              "}});\n",
              "\n",
              "// Listen for the removal of the full notebook cells\n",
              "var notebookContainer = gd.closest('#notebook-container');\n",
              "if (notebookContainer) {{\n",
              "    x.observe(notebookContainer, {childList: true});\n",
              "}}\n",
              "\n",
              "// Listen for the clearing of the current output cell\n",
              "var outputEl = gd.closest('.output');\n",
              "if (outputEl) {{\n",
              "    x.observe(outputEl, {childList: true});\n",
              "}}\n",
              "\n",
              "                        })                };                            </script>        </div>\n",
              "</body>\n",
              "</html>"
            ]
          },
          "metadata": {}
        }
      ]
    },
    {
      "cell_type": "code",
      "source": [
        "closedf #\n",
        "close_stock = closedf.copy() #close_stock dipakai untuk menyimpan value asli, karena closedf akan di proses datanya"
      ],
      "metadata": {
        "id": "V4R2pDKUNcG4"
      },
      "execution_count": 20,
      "outputs": []
    },
    {
      "cell_type": "code",
      "source": [
        "# Hapus columm date pada closedf dan \n",
        "# persiapan pre-processing dengan menyederhanakan data dalam skala 0-1\n",
        "\n",
        "del closedf['Date']\n",
        "scaler=MinMaxScaler(feature_range=(0,1))\n",
        "closedf=scaler.fit_transform(np.array(closedf).reshape(-1,1))\n",
        "print(closedf.shape)\n",
        "#print(closedf) gunakan ini untuk melihat data closedf yang telah di pre-processing menggunakan minmaxscaler"
      ],
      "metadata": {
        "colab": {
          "base_uri": "https://localhost:8080/"
        },
        "id": "14qK_5qaNcL9",
        "outputId": "d1a45b5f-decc-411e-aaa5-e7c18629ae1c"
      },
      "execution_count": 21,
      "outputs": [
        {
          "output_type": "stream",
          "name": "stdout",
          "text": [
            "(365, 1)\n"
          ]
        }
      ]
    },
    {
      "cell_type": "code",
      "source": [
        "# split data training menjadi 80% dan data testing menjadi 20%\n",
        "training_size=int(len(closedf)*0.80) #variable training_size akan diisi berdasarkan panjang dari dataframe closedf dikali 0.80\n",
        "test_size=len(closedf)-training_size # variable test_size akan diisi berdasarkan panjang dataframe closedf dikurangi nilai dari training-size\n",
        "train_data,test_data=closedf[0:training_size,:],closedf[training_size:len(closedf),:1] #train_data akan diisi b\n",
        "print(\"train_data: \", train_data.shape)\n",
        "print(\"test_data: \", test_data.shape)\n",
        "#print(\"train_data: \", train_data) pakai ini untuk lihat train_data yang telah mengambil data dari closedf sebanyak 80%\n",
        "#print(\"test_data: \", test_data) pakai ini untuk lihat test_data yang telah mengambil data dari closedf sebanyak 20%"
      ],
      "metadata": {
        "colab": {
          "base_uri": "https://localhost:8080/"
        },
        "id": "FHWojbspOjqh",
        "outputId": "76bde773-86fd-4224-92c9-e23382274e0e"
      },
      "execution_count": 22,
      "outputs": [
        {
          "output_type": "stream",
          "name": "stdout",
          "text": [
            "train_data:  (292, 1)\n",
            "test_data:  (73, 1)\n"
          ]
        }
      ]
    },
    {
      "cell_type": "code",
      "source": [
        "# method create_data set dipakai untuk konversi array menjadi matrix, agar dapat dimengerti oleh LSTM\n",
        "def create_dataset(dataset, time_step=1):\n",
        "    dataX, dataY = [], []\n",
        "    for i in range(len(dataset)-time_step-1):\n",
        "        a = dataset[i:(i+time_step), 0]   ###i=0, 0,1,2,3-----99   100 \n",
        "        dataX.append(a)\n",
        "        dataY.append(dataset[i + time_step, 0])\n",
        "    return np.array(dataX), np.array(dataY)"
      ],
      "metadata": {
        "id": "Nk1ZrZhBOjuv"
      },
      "execution_count": 23,
      "outputs": []
    },
    {
      "cell_type": "code",
      "source": [
        "time_step = 15\n",
        "X_train, y_train = create_dataset(train_data, time_step) # X_train dan y_train\n",
        "X_test, y_test = create_dataset(test_data, time_step)\n",
        "\n",
        "print(\"X_train: \", X_train.shape)\n",
        "print(\"y_train: \", y_train.shape)\n",
        "print(\"X_test: \", X_test.shape)\n",
        "print(\"y_test\", y_test.shape)\n",
        "#print(\"X_train: \", X_train) print ini untuk melihat matrix\n",
        "#print(\"y_train: \", y_train)print ini untuk melihat matrix\n",
        "#print(\"X_test: \", X_test)print ini untuk melihat matrix\n",
        "#print(\"y_test\", y_test)print ini untuk melihat matrix"
      ],
      "metadata": {
        "colab": {
          "base_uri": "https://localhost:8080/"
        },
        "id": "DcpbpcsmOjzQ",
        "outputId": "a5259894-c467-4c3f-f78b-37ecd17b9b0a"
      },
      "execution_count": 24,
      "outputs": [
        {
          "output_type": "stream",
          "name": "stdout",
          "text": [
            "X_train:  (276, 15)\n",
            "y_train:  (276,)\n",
            "X_test:  (57, 15)\n",
            "y_test (57,)\n"
          ]
        }
      ]
    },
    {
      "cell_type": "code",
      "source": [
        "# penyesuaian input yang akand dipakai berdasarkan format LSTM\n",
        "X_train =X_train.reshape(X_train.shape[0],X_train.shape[1] , 1)\n",
        "X_test = X_test.reshape(X_test.shape[0],X_test.shape[1] , 1)\n",
        "\n",
        "print(\"X_train: \", X_train.shape)\n",
        "print(\"X_test: \", X_test.shape)\n",
        "\n",
        "# print(\"X_train: \", X_train) print ini untuk lihat data yang sudah dikonversi menyesuaikan format data yang sesuai dengan LSTM\n",
        "#print(\"X_test: \", X_test.shape)\n",
        "\n"
      ],
      "metadata": {
        "colab": {
          "base_uri": "https://localhost:8080/"
        },
        "id": "joKPhx6xOj22",
        "outputId": "921ef9c7-4aca-45d7-fbc1-0613d84c4123"
      },
      "execution_count": 25,
      "outputs": [
        {
          "output_type": "stream",
          "name": "stdout",
          "text": [
            "X_train:  (276, 15, 1)\n",
            "X_test:  (57, 15, 1)\n"
          ]
        }
      ]
    },
    {
      "cell_type": "code",
      "source": [
        "# Pembuatan Model LSTM\n",
        "model=Sequential()\n",
        "model.add(Bidirectional(LSTM(100, activation='relu', input_shape=(100,1)))) #elu\n",
        "model.add(Dense(1))\n",
        "model.compile(loss=\"mean_squared_error\",optimizer=\"adam\")\n",
        "# use early stop to avoid over-fiting \n",
        "from tensorflow.keras.callbacks import EarlyStopping\n",
        "\n",
        "#monitor = EarlyStopping(monitor='val_loss', min_delta=1e-3, patience=30, \n",
        " #       verbose=1, mode='auto', restore_best_weights=True)"
      ],
      "metadata": {
        "id": "2-B_YlrAOj6l"
      },
      "execution_count": 26,
      "outputs": []
    },
    {
      "cell_type": "code",
      "source": [
        "#from keras.utils.vis_utils import plot_model\n",
        "#model.summary() \n",
        "#plot_model(model, to_file='lstm_model.png', show_shapes=True, \n",
        " #          show_layer_names=True)"
      ],
      "metadata": {
        "id": "O_SR0ac5oCUl"
      },
      "execution_count": 27,
      "outputs": []
    },
    {
      "cell_type": "code",
      "source": [
        "history = model.fit(X_train,y_train,validation_data=(X_test,y_test),epochs=200,batch_size=32,verbose=1)\n",
        "#train model sebanyak 200 kali"
      ],
      "metadata": {
        "colab": {
          "base_uri": "https://localhost:8080/"
        },
        "id": "OJ-D-z5qO-dt",
        "outputId": "676fa59e-50f1-4dd9-b527-22c9805547c2"
      },
      "execution_count": 28,
      "outputs": [
        {
          "output_type": "stream",
          "name": "stdout",
          "text": [
            "Epoch 1/200\n",
            "9/9 [==============================] - 3s 78ms/step - loss: 0.2018 - val_loss: 0.0105\n",
            "Epoch 2/200\n",
            "9/9 [==============================] - 0s 24ms/step - loss: 0.0718 - val_loss: 0.0158\n",
            "Epoch 3/200\n",
            "9/9 [==============================] - 0s 24ms/step - loss: 0.0171 - val_loss: 0.0363\n",
            "Epoch 4/200\n",
            "9/9 [==============================] - 0s 27ms/step - loss: 0.0102 - val_loss: 0.0119\n",
            "Epoch 5/200\n",
            "9/9 [==============================] - 0s 27ms/step - loss: 0.0103 - val_loss: 0.0188\n",
            "Epoch 6/200\n",
            "9/9 [==============================] - 0s 24ms/step - loss: 0.0085 - val_loss: 0.0136\n",
            "Epoch 7/200\n",
            "9/9 [==============================] - 0s 23ms/step - loss: 0.0076 - val_loss: 0.0101\n",
            "Epoch 8/200\n",
            "9/9 [==============================] - 0s 25ms/step - loss: 0.0070 - val_loss: 0.0065\n",
            "Epoch 9/200\n",
            "9/9 [==============================] - 0s 26ms/step - loss: 0.0067 - val_loss: 0.0063\n",
            "Epoch 10/200\n",
            "9/9 [==============================] - 0s 25ms/step - loss: 0.0066 - val_loss: 0.0049\n",
            "Epoch 11/200\n",
            "9/9 [==============================] - 0s 24ms/step - loss: 0.0062 - val_loss: 0.0072\n",
            "Epoch 12/200\n",
            "9/9 [==============================] - 0s 23ms/step - loss: 0.0059 - val_loss: 0.0053\n",
            "Epoch 13/200\n",
            "9/9 [==============================] - 0s 24ms/step - loss: 0.0056 - val_loss: 0.0050\n",
            "Epoch 14/200\n",
            "9/9 [==============================] - 0s 25ms/step - loss: 0.0052 - val_loss: 0.0041\n",
            "Epoch 15/200\n",
            "9/9 [==============================] - 0s 24ms/step - loss: 0.0049 - val_loss: 0.0054\n",
            "Epoch 16/200\n",
            "9/9 [==============================] - 0s 23ms/step - loss: 0.0049 - val_loss: 0.0077\n",
            "Epoch 17/200\n",
            "9/9 [==============================] - 0s 23ms/step - loss: 0.0044 - val_loss: 0.0048\n",
            "Epoch 18/200\n",
            "9/9 [==============================] - 0s 23ms/step - loss: 0.0043 - val_loss: 0.0063\n",
            "Epoch 19/200\n",
            "9/9 [==============================] - 0s 26ms/step - loss: 0.0044 - val_loss: 0.0054\n",
            "Epoch 20/200\n",
            "9/9 [==============================] - 0s 24ms/step - loss: 0.0039 - val_loss: 0.0040\n",
            "Epoch 21/200\n",
            "9/9 [==============================] - 0s 23ms/step - loss: 0.0040 - val_loss: 0.0055\n",
            "Epoch 22/200\n",
            "9/9 [==============================] - 0s 23ms/step - loss: 0.0042 - val_loss: 0.0058\n",
            "Epoch 23/200\n",
            "9/9 [==============================] - 0s 25ms/step - loss: 0.0040 - val_loss: 0.0049\n",
            "Epoch 24/200\n",
            "9/9 [==============================] - 0s 24ms/step - loss: 0.0043 - val_loss: 0.0047\n",
            "Epoch 25/200\n",
            "9/9 [==============================] - 0s 23ms/step - loss: 0.0037 - val_loss: 0.0041\n",
            "Epoch 26/200\n",
            "9/9 [==============================] - 0s 25ms/step - loss: 0.0036 - val_loss: 0.0051\n",
            "Epoch 27/200\n",
            "9/9 [==============================] - 0s 23ms/step - loss: 0.0038 - val_loss: 0.0034\n",
            "Epoch 28/200\n",
            "9/9 [==============================] - 0s 25ms/step - loss: 0.0035 - val_loss: 0.0041\n",
            "Epoch 29/200\n",
            "9/9 [==============================] - 0s 25ms/step - loss: 0.0035 - val_loss: 0.0038\n",
            "Epoch 30/200\n",
            "9/9 [==============================] - 0s 23ms/step - loss: 0.0035 - val_loss: 0.0039\n",
            "Epoch 31/200\n",
            "9/9 [==============================] - 0s 23ms/step - loss: 0.0038 - val_loss: 0.0042\n",
            "Epoch 32/200\n",
            "9/9 [==============================] - 0s 23ms/step - loss: 0.0043 - val_loss: 0.0034\n",
            "Epoch 33/200\n",
            "9/9 [==============================] - 0s 25ms/step - loss: 0.0037 - val_loss: 0.0020\n",
            "Epoch 34/200\n",
            "9/9 [==============================] - 0s 23ms/step - loss: 0.0042 - val_loss: 0.0043\n",
            "Epoch 35/200\n",
            "9/9 [==============================] - 0s 24ms/step - loss: 0.0039 - val_loss: 0.0047\n",
            "Epoch 36/200\n",
            "9/9 [==============================] - 0s 23ms/step - loss: 0.0037 - val_loss: 0.0052\n",
            "Epoch 37/200\n",
            "9/9 [==============================] - 0s 49ms/step - loss: 0.0039 - val_loss: 0.0035\n",
            "Epoch 38/200\n",
            "9/9 [==============================] - 0s 39ms/step - loss: 0.0037 - val_loss: 0.0022\n",
            "Epoch 39/200\n",
            "9/9 [==============================] - 0s 40ms/step - loss: 0.0034 - val_loss: 0.0029\n",
            "Epoch 40/200\n",
            "9/9 [==============================] - 0s 43ms/step - loss: 0.0034 - val_loss: 0.0048\n",
            "Epoch 41/200\n",
            "9/9 [==============================] - 0s 49ms/step - loss: 0.0035 - val_loss: 0.0034\n",
            "Epoch 42/200\n",
            "9/9 [==============================] - 0s 48ms/step - loss: 0.0034 - val_loss: 0.0021\n",
            "Epoch 43/200\n",
            "9/9 [==============================] - 0s 45ms/step - loss: 0.0034 - val_loss: 0.0030\n",
            "Epoch 44/200\n",
            "9/9 [==============================] - 0s 53ms/step - loss: 0.0031 - val_loss: 0.0026\n",
            "Epoch 45/200\n",
            "9/9 [==============================] - 0s 44ms/step - loss: 0.0031 - val_loss: 0.0021\n",
            "Epoch 46/200\n",
            "9/9 [==============================] - 1s 63ms/step - loss: 0.0032 - val_loss: 0.0036\n",
            "Epoch 47/200\n",
            "9/9 [==============================] - 0s 49ms/step - loss: 0.0032 - val_loss: 0.0038\n",
            "Epoch 48/200\n",
            "9/9 [==============================] - 0s 43ms/step - loss: 0.0032 - val_loss: 0.0036\n",
            "Epoch 49/200\n",
            "9/9 [==============================] - 0s 42ms/step - loss: 0.0030 - val_loss: 0.0024\n",
            "Epoch 50/200\n",
            "9/9 [==============================] - 0s 54ms/step - loss: 0.0029 - val_loss: 0.0020\n",
            "Epoch 51/200\n",
            "9/9 [==============================] - 0s 45ms/step - loss: 0.0032 - val_loss: 0.0021\n",
            "Epoch 52/200\n",
            "9/9 [==============================] - 1s 59ms/step - loss: 0.0030 - val_loss: 0.0027\n",
            "Epoch 53/200\n",
            "9/9 [==============================] - 1s 64ms/step - loss: 0.0028 - val_loss: 0.0026\n",
            "Epoch 54/200\n",
            "9/9 [==============================] - 0s 44ms/step - loss: 0.0028 - val_loss: 0.0025\n",
            "Epoch 55/200\n",
            "9/9 [==============================] - 0s 42ms/step - loss: 0.0029 - val_loss: 0.0019\n",
            "Epoch 56/200\n",
            "9/9 [==============================] - 0s 43ms/step - loss: 0.0027 - val_loss: 0.0013\n",
            "Epoch 57/200\n",
            "9/9 [==============================] - 0s 42ms/step - loss: 0.0029 - val_loss: 0.0018\n",
            "Epoch 58/200\n",
            "9/9 [==============================] - 0s 44ms/step - loss: 0.0027 - val_loss: 0.0014\n",
            "Epoch 59/200\n",
            "9/9 [==============================] - 0s 46ms/step - loss: 0.0034 - val_loss: 0.0019\n",
            "Epoch 60/200\n",
            "9/9 [==============================] - 0s 47ms/step - loss: 0.0039 - val_loss: 0.0050\n",
            "Epoch 61/200\n",
            "9/9 [==============================] - 0s 46ms/step - loss: 0.0030 - val_loss: 0.0031\n",
            "Epoch 62/200\n",
            "9/9 [==============================] - 0s 44ms/step - loss: 0.0028 - val_loss: 0.0019\n",
            "Epoch 63/200\n",
            "9/9 [==============================] - 1s 56ms/step - loss: 0.0028 - val_loss: 0.0014\n",
            "Epoch 64/200\n",
            "9/9 [==============================] - 0s 49ms/step - loss: 0.0030 - val_loss: 0.0022\n",
            "Epoch 65/200\n",
            "9/9 [==============================] - 0s 53ms/step - loss: 0.0026 - val_loss: 0.0029\n",
            "Epoch 66/200\n",
            "9/9 [==============================] - 0s 46ms/step - loss: 0.0028 - val_loss: 0.0023\n",
            "Epoch 67/200\n",
            "9/9 [==============================] - 1s 59ms/step - loss: 0.0026 - val_loss: 0.0016\n",
            "Epoch 68/200\n",
            "9/9 [==============================] - 0s 53ms/step - loss: 0.0028 - val_loss: 0.0013\n",
            "Epoch 69/200\n",
            "9/9 [==============================] - 0s 51ms/step - loss: 0.0027 - val_loss: 0.0013\n",
            "Epoch 70/200\n",
            "9/9 [==============================] - 0s 50ms/step - loss: 0.0030 - val_loss: 0.0019\n",
            "Epoch 71/200\n",
            "9/9 [==============================] - 0s 53ms/step - loss: 0.0028 - val_loss: 0.0037\n",
            "Epoch 72/200\n",
            "9/9 [==============================] - 0s 54ms/step - loss: 0.0027 - val_loss: 0.0025\n",
            "Epoch 73/200\n",
            "9/9 [==============================] - 0s 57ms/step - loss: 0.0029 - val_loss: 0.0022\n",
            "Epoch 74/200\n",
            "9/9 [==============================] - 1s 59ms/step - loss: 0.0028 - val_loss: 0.0013\n",
            "Epoch 75/200\n",
            "9/9 [==============================] - 1s 66ms/step - loss: 0.0027 - val_loss: 0.0012\n",
            "Epoch 76/200\n",
            "9/9 [==============================] - 0s 55ms/step - loss: 0.0024 - val_loss: 0.0021\n",
            "Epoch 77/200\n",
            "9/9 [==============================] - 1s 61ms/step - loss: 0.0024 - val_loss: 0.0025\n",
            "Epoch 78/200\n",
            "9/9 [==============================] - 1s 63ms/step - loss: 0.0026 - val_loss: 0.0025\n",
            "Epoch 79/200\n",
            "9/9 [==============================] - 1s 59ms/step - loss: 0.0026 - val_loss: 0.0014\n",
            "Epoch 80/200\n",
            "9/9 [==============================] - 1s 58ms/step - loss: 0.0024 - val_loss: 0.0020\n",
            "Epoch 81/200\n",
            "9/9 [==============================] - 1s 81ms/step - loss: 0.0023 - val_loss: 0.0010\n",
            "Epoch 82/200\n",
            "9/9 [==============================] - 1s 73ms/step - loss: 0.0026 - val_loss: 0.0011\n",
            "Epoch 83/200\n",
            "9/9 [==============================] - 1s 70ms/step - loss: 0.0022 - val_loss: 0.0031\n",
            "Epoch 84/200\n",
            "9/9 [==============================] - 0s 48ms/step - loss: 0.0025 - val_loss: 0.0019\n",
            "Epoch 85/200\n",
            "9/9 [==============================] - 0s 54ms/step - loss: 0.0024 - val_loss: 0.0021\n",
            "Epoch 86/200\n",
            "9/9 [==============================] - 1s 65ms/step - loss: 0.0023 - val_loss: 0.0020\n",
            "Epoch 87/200\n",
            "9/9 [==============================] - 0s 43ms/step - loss: 0.0023 - val_loss: 0.0017\n",
            "Epoch 88/200\n",
            "9/9 [==============================] - 0s 45ms/step - loss: 0.0022 - val_loss: 0.0014\n",
            "Epoch 89/200\n",
            "9/9 [==============================] - 0s 44ms/step - loss: 0.0022 - val_loss: 0.0012\n",
            "Epoch 90/200\n",
            "9/9 [==============================] - 0s 49ms/step - loss: 0.0022 - val_loss: 0.0012\n",
            "Epoch 91/200\n",
            "9/9 [==============================] - 1s 58ms/step - loss: 0.0022 - val_loss: 0.0015\n",
            "Epoch 92/200\n",
            "9/9 [==============================] - 1s 62ms/step - loss: 0.0021 - val_loss: 0.0016\n",
            "Epoch 93/200\n",
            "9/9 [==============================] - 0s 52ms/step - loss: 0.0021 - val_loss: 0.0011\n",
            "Epoch 94/200\n",
            "9/9 [==============================] - 0s 54ms/step - loss: 0.0022 - val_loss: 0.0010\n",
            "Epoch 95/200\n",
            "9/9 [==============================] - 0s 45ms/step - loss: 0.0022 - val_loss: 0.0012\n",
            "Epoch 96/200\n",
            "9/9 [==============================] - 0s 49ms/step - loss: 0.0022 - val_loss: 0.0017\n",
            "Epoch 97/200\n",
            "9/9 [==============================] - 0s 49ms/step - loss: 0.0023 - val_loss: 0.0018\n",
            "Epoch 98/200\n",
            "9/9 [==============================] - 0s 42ms/step - loss: 0.0021 - val_loss: 0.0015\n",
            "Epoch 99/200\n",
            "9/9 [==============================] - 0s 42ms/step - loss: 0.0020 - val_loss: 9.3258e-04\n",
            "Epoch 100/200\n",
            "9/9 [==============================] - 0s 47ms/step - loss: 0.0022 - val_loss: 0.0012\n",
            "Epoch 101/200\n",
            "9/9 [==============================] - 0s 45ms/step - loss: 0.0021 - val_loss: 0.0011\n",
            "Epoch 102/200\n",
            "9/9 [==============================] - 0s 45ms/step - loss: 0.0021 - val_loss: 0.0023\n",
            "Epoch 103/200\n",
            "9/9 [==============================] - 0s 43ms/step - loss: 0.0023 - val_loss: 0.0015\n",
            "Epoch 104/200\n",
            "9/9 [==============================] - 0s 48ms/step - loss: 0.0021 - val_loss: 0.0011\n",
            "Epoch 105/200\n",
            "9/9 [==============================] - 0s 45ms/step - loss: 0.0021 - val_loss: 0.0012\n",
            "Epoch 106/200\n",
            "9/9 [==============================] - 0s 48ms/step - loss: 0.0020 - val_loss: 0.0024\n",
            "Epoch 107/200\n",
            "9/9 [==============================] - 0s 52ms/step - loss: 0.0020 - val_loss: 0.0024\n",
            "Epoch 108/200\n",
            "9/9 [==============================] - 0s 56ms/step - loss: 0.0022 - val_loss: 0.0019\n",
            "Epoch 109/200\n",
            "9/9 [==============================] - 0s 52ms/step - loss: 0.0021 - val_loss: 0.0018\n",
            "Epoch 110/200\n",
            "9/9 [==============================] - 0s 45ms/step - loss: 0.0022 - val_loss: 0.0021\n",
            "Epoch 111/200\n",
            "9/9 [==============================] - 0s 51ms/step - loss: 0.0020 - val_loss: 0.0016\n",
            "Epoch 112/200\n",
            "9/9 [==============================] - 0s 46ms/step - loss: 0.0020 - val_loss: 0.0012\n",
            "Epoch 113/200\n",
            "9/9 [==============================] - 0s 48ms/step - loss: 0.0020 - val_loss: 0.0013\n",
            "Epoch 114/200\n",
            "9/9 [==============================] - 0s 50ms/step - loss: 0.0019 - val_loss: 0.0016\n",
            "Epoch 115/200\n",
            "9/9 [==============================] - 0s 43ms/step - loss: 0.0023 - val_loss: 9.1133e-04\n",
            "Epoch 116/200\n",
            "9/9 [==============================] - 0s 39ms/step - loss: 0.0021 - val_loss: 9.4952e-04\n",
            "Epoch 117/200\n",
            "9/9 [==============================] - 0s 38ms/step - loss: 0.0020 - val_loss: 0.0012\n",
            "Epoch 118/200\n",
            "9/9 [==============================] - 0s 47ms/step - loss: 0.0020 - val_loss: 0.0014\n",
            "Epoch 119/200\n",
            "9/9 [==============================] - 0s 40ms/step - loss: 0.0019 - val_loss: 0.0017\n",
            "Epoch 120/200\n",
            "9/9 [==============================] - 0s 41ms/step - loss: 0.0020 - val_loss: 0.0013\n",
            "Epoch 121/200\n",
            "9/9 [==============================] - 0s 47ms/step - loss: 0.0019 - val_loss: 0.0012\n",
            "Epoch 122/200\n",
            "9/9 [==============================] - 0s 54ms/step - loss: 0.0020 - val_loss: 0.0012\n",
            "Epoch 123/200\n",
            "9/9 [==============================] - 0s 44ms/step - loss: 0.0019 - val_loss: 8.7572e-04\n",
            "Epoch 124/200\n",
            "9/9 [==============================] - 0s 43ms/step - loss: 0.0025 - val_loss: 8.8655e-04\n",
            "Epoch 125/200\n",
            "9/9 [==============================] - 0s 40ms/step - loss: 0.0024 - val_loss: 8.8136e-04\n",
            "Epoch 126/200\n",
            "9/9 [==============================] - 0s 32ms/step - loss: 0.0022 - val_loss: 9.4926e-04\n",
            "Epoch 127/200\n",
            "9/9 [==============================] - 0s 24ms/step - loss: 0.0024 - val_loss: 0.0017\n",
            "Epoch 128/200\n",
            "9/9 [==============================] - 0s 26ms/step - loss: 0.0021 - val_loss: 0.0024\n",
            "Epoch 129/200\n",
            "9/9 [==============================] - 0s 24ms/step - loss: 0.0020 - val_loss: 0.0017\n",
            "Epoch 130/200\n",
            "9/9 [==============================] - 0s 24ms/step - loss: 0.0020 - val_loss: 9.8543e-04\n",
            "Epoch 131/200\n",
            "9/9 [==============================] - 0s 25ms/step - loss: 0.0021 - val_loss: 8.5943e-04\n",
            "Epoch 132/200\n",
            "9/9 [==============================] - 0s 24ms/step - loss: 0.0022 - val_loss: 8.9385e-04\n",
            "Epoch 133/200\n",
            "9/9 [==============================] - 0s 23ms/step - loss: 0.0020 - val_loss: 8.7104e-04\n",
            "Epoch 134/200\n",
            "9/9 [==============================] - 0s 24ms/step - loss: 0.0020 - val_loss: 0.0011\n",
            "Epoch 135/200\n",
            "9/9 [==============================] - 0s 26ms/step - loss: 0.0019 - val_loss: 0.0013\n",
            "Epoch 136/200\n",
            "9/9 [==============================] - 0s 24ms/step - loss: 0.0019 - val_loss: 0.0016\n",
            "Epoch 137/200\n",
            "9/9 [==============================] - 0s 24ms/step - loss: 0.0018 - val_loss: 0.0014\n",
            "Epoch 138/200\n",
            "9/9 [==============================] - 0s 26ms/step - loss: 0.0018 - val_loss: 9.7367e-04\n",
            "Epoch 139/200\n",
            "9/9 [==============================] - 0s 25ms/step - loss: 0.0020 - val_loss: 0.0011\n",
            "Epoch 140/200\n",
            "9/9 [==============================] - 0s 27ms/step - loss: 0.0018 - val_loss: 0.0014\n",
            "Epoch 141/200\n",
            "9/9 [==============================] - 0s 25ms/step - loss: 0.0018 - val_loss: 0.0019\n",
            "Epoch 142/200\n",
            "9/9 [==============================] - 0s 23ms/step - loss: 0.0018 - val_loss: 0.0021\n",
            "Epoch 143/200\n",
            "9/9 [==============================] - 0s 25ms/step - loss: 0.0018 - val_loss: 0.0035\n",
            "Epoch 144/200\n",
            "9/9 [==============================] - 0s 28ms/step - loss: 0.0022 - val_loss: 0.0027\n",
            "Epoch 145/200\n",
            "9/9 [==============================] - 0s 24ms/step - loss: 0.0020 - val_loss: 0.0019\n",
            "Epoch 146/200\n",
            "9/9 [==============================] - 0s 24ms/step - loss: 0.0019 - val_loss: 0.0018\n",
            "Epoch 147/200\n",
            "9/9 [==============================] - 0s 24ms/step - loss: 0.0018 - val_loss: 0.0020\n",
            "Epoch 148/200\n",
            "9/9 [==============================] - 0s 24ms/step - loss: 0.0018 - val_loss: 0.0016\n",
            "Epoch 149/200\n",
            "9/9 [==============================] - 0s 27ms/step - loss: 0.0018 - val_loss: 9.3031e-04\n",
            "Epoch 150/200\n",
            "9/9 [==============================] - 0s 24ms/step - loss: 0.0023 - val_loss: 9.0710e-04\n",
            "Epoch 151/200\n",
            "9/9 [==============================] - 0s 27ms/step - loss: 0.0019 - val_loss: 8.9697e-04\n",
            "Epoch 152/200\n",
            "9/9 [==============================] - 0s 25ms/step - loss: 0.0020 - val_loss: 9.7447e-04\n",
            "Epoch 153/200\n",
            "9/9 [==============================] - 0s 25ms/step - loss: 0.0020 - val_loss: 0.0010\n",
            "Epoch 154/200\n",
            "9/9 [==============================] - 0s 24ms/step - loss: 0.0021 - val_loss: 0.0011\n",
            "Epoch 155/200\n",
            "9/9 [==============================] - 0s 23ms/step - loss: 0.0019 - val_loss: 0.0014\n",
            "Epoch 156/200\n",
            "9/9 [==============================] - 0s 26ms/step - loss: 0.0018 - val_loss: 0.0018\n",
            "Epoch 157/200\n",
            "9/9 [==============================] - 0s 25ms/step - loss: 0.0018 - val_loss: 0.0022\n",
            "Epoch 158/200\n",
            "9/9 [==============================] - 0s 25ms/step - loss: 0.0018 - val_loss: 0.0020\n",
            "Epoch 159/200\n",
            "9/9 [==============================] - 0s 23ms/step - loss: 0.0018 - val_loss: 0.0012\n",
            "Epoch 160/200\n",
            "9/9 [==============================] - 0s 24ms/step - loss: 0.0018 - val_loss: 0.0020\n",
            "Epoch 161/200\n",
            "9/9 [==============================] - 0s 27ms/step - loss: 0.0018 - val_loss: 0.0027\n",
            "Epoch 162/200\n",
            "9/9 [==============================] - 0s 28ms/step - loss: 0.0018 - val_loss: 0.0022\n",
            "Epoch 163/200\n",
            "9/9 [==============================] - 0s 24ms/step - loss: 0.0018 - val_loss: 0.0016\n",
            "Epoch 164/200\n",
            "9/9 [==============================] - 0s 26ms/step - loss: 0.0017 - val_loss: 0.0020\n",
            "Epoch 165/200\n",
            "9/9 [==============================] - 0s 25ms/step - loss: 0.0018 - val_loss: 0.0034\n",
            "Epoch 166/200\n",
            "9/9 [==============================] - 0s 24ms/step - loss: 0.0019 - val_loss: 0.0024\n",
            "Epoch 167/200\n",
            "9/9 [==============================] - 0s 24ms/step - loss: 0.0017 - val_loss: 0.0018\n",
            "Epoch 168/200\n",
            "9/9 [==============================] - 0s 24ms/step - loss: 0.0019 - val_loss: 0.0032\n",
            "Epoch 169/200\n",
            "9/9 [==============================] - 0s 24ms/step - loss: 0.0022 - val_loss: 0.0033\n",
            "Epoch 170/200\n",
            "9/9 [==============================] - 0s 23ms/step - loss: 0.0020 - val_loss: 0.0012\n",
            "Epoch 171/200\n",
            "9/9 [==============================] - 0s 26ms/step - loss: 0.0017 - val_loss: 0.0011\n",
            "Epoch 172/200\n",
            "9/9 [==============================] - 0s 24ms/step - loss: 0.0017 - val_loss: 0.0015\n",
            "Epoch 173/200\n",
            "9/9 [==============================] - 0s 23ms/step - loss: 0.0018 - val_loss: 0.0012\n",
            "Epoch 174/200\n",
            "9/9 [==============================] - 0s 26ms/step - loss: 0.0017 - val_loss: 0.0022\n",
            "Epoch 175/200\n",
            "9/9 [==============================] - 0s 23ms/step - loss: 0.0019 - val_loss: 8.9444e-04\n",
            "Epoch 176/200\n",
            "9/9 [==============================] - 0s 26ms/step - loss: 0.0018 - val_loss: 0.0014\n",
            "Epoch 177/200\n",
            "9/9 [==============================] - 0s 24ms/step - loss: 0.0018 - val_loss: 0.0029\n",
            "Epoch 178/200\n",
            "9/9 [==============================] - 0s 25ms/step - loss: 0.0018 - val_loss: 0.0038\n",
            "Epoch 179/200\n",
            "9/9 [==============================] - 0s 24ms/step - loss: 0.0019 - val_loss: 0.0011\n",
            "Epoch 180/200\n",
            "9/9 [==============================] - 0s 28ms/step - loss: 0.0017 - val_loss: 0.0015\n",
            "Epoch 181/200\n",
            "9/9 [==============================] - 0s 24ms/step - loss: 0.0019 - val_loss: 0.0012\n",
            "Epoch 182/200\n",
            "9/9 [==============================] - 0s 25ms/step - loss: 0.0017 - val_loss: 0.0013\n",
            "Epoch 183/200\n",
            "9/9 [==============================] - 0s 25ms/step - loss: 0.0017 - val_loss: 0.0014\n",
            "Epoch 184/200\n",
            "9/9 [==============================] - 0s 23ms/step - loss: 0.0017 - val_loss: 0.0033\n",
            "Epoch 185/200\n",
            "9/9 [==============================] - 0s 26ms/step - loss: 0.0018 - val_loss: 0.0016\n",
            "Epoch 186/200\n",
            "9/9 [==============================] - 0s 23ms/step - loss: 0.0017 - val_loss: 0.0018\n",
            "Epoch 187/200\n",
            "9/9 [==============================] - 0s 25ms/step - loss: 0.0017 - val_loss: 9.8808e-04\n",
            "Epoch 188/200\n",
            "9/9 [==============================] - 0s 24ms/step - loss: 0.0020 - val_loss: 9.0361e-04\n",
            "Epoch 189/200\n",
            "9/9 [==============================] - 0s 26ms/step - loss: 0.0019 - val_loss: 8.7992e-04\n",
            "Epoch 190/200\n",
            "9/9 [==============================] - 0s 24ms/step - loss: 0.0018 - val_loss: 0.0014\n",
            "Epoch 191/200\n",
            "9/9 [==============================] - 0s 25ms/step - loss: 0.0017 - val_loss: 0.0015\n",
            "Epoch 192/200\n",
            "9/9 [==============================] - 0s 24ms/step - loss: 0.0017 - val_loss: 0.0012\n",
            "Epoch 193/200\n",
            "9/9 [==============================] - 0s 23ms/step - loss: 0.0018 - val_loss: 9.0741e-04\n",
            "Epoch 194/200\n",
            "9/9 [==============================] - 0s 28ms/step - loss: 0.0021 - val_loss: 9.5581e-04\n",
            "Epoch 195/200\n",
            "9/9 [==============================] - 0s 24ms/step - loss: 0.0021 - val_loss: 8.7377e-04\n",
            "Epoch 196/200\n",
            "9/9 [==============================] - 0s 26ms/step - loss: 0.0021 - val_loss: 8.8197e-04\n",
            "Epoch 197/200\n",
            "9/9 [==============================] - 0s 24ms/step - loss: 0.0020 - val_loss: 0.0012\n",
            "Epoch 198/200\n",
            "9/9 [==============================] - 0s 27ms/step - loss: 0.0019 - val_loss: 0.0019\n",
            "Epoch 199/200\n",
            "9/9 [==============================] - 0s 24ms/step - loss: 0.0018 - val_loss: 0.0017\n",
            "Epoch 200/200\n",
            "9/9 [==============================] - 0s 25ms/step - loss: 0.0019 - val_loss: 0.0022\n"
          ]
        }
      ]
    },
    {
      "cell_type": "code",
      "source": [
        "# output loss dan val_loss dari model LSTM, chart ini digunakan untuk mencari nilai epoch untuk mengoptimasi dan mencari nilai epoch yang tepat\n",
        "# nilai epoch yang tepat adalah nilai yang didapatkan dari lamanya waktu training dan akurasi yang didapatkan\n",
        "# jadi, nilai epoch yang tepat adalah nilai epoch yang terkecil, namun tetap menghasilkan akurasi yang tinggi\n",
        "import matplotlib.pyplot as plt\n",
        "\n",
        "loss = history.history['loss']\n",
        "val_loss = history.history['val_loss']\n",
        "\n",
        "epochs = range(len(loss))\n",
        "\n",
        "plt.plot(epochs, loss, 'r', label='Training loss')\n",
        "plt.plot(epochs, val_loss, 'b', label='Validation loss')\n",
        "plt.title('Training and validation loss')\n",
        "plt.legend(loc=0)\n",
        "plt.figure()\n",
        "\n",
        "\n",
        "plt.show()"
      ],
      "metadata": {
        "colab": {
          "base_uri": "https://localhost:8080/",
          "height": 299
        },
        "id": "O1bFXHk8PJNH",
        "outputId": "acf559ef-f4dc-4615-8623-99c781a64de2"
      },
      "execution_count": 29,
      "outputs": [
        {
          "output_type": "display_data",
          "data": {
            "text/plain": [
              "<Figure size 432x288 with 1 Axes>"
            ],
            "image/png": "[encoded data removed]"
          },
          "metadata": {
            "needs_background": "light"
          }
        },
        {
          "output_type": "display_data",
          "data": {
            "text/plain": [
              "<Figure size 432x288 with 0 Axes>"
            ]
          },
          "metadata": {}
        }
      ]
    },
    {
      "cell_type": "code",
      "source": [
        "### lakukan predict menggunakan x_train dan X_test\n",
        "train_predict=model.predict(X_train)\n",
        "test_predict=model.predict(X_test)\n",
        "train_predict.shape, test_predict.shape"
      ],
      "metadata": {
        "colab": {
          "base_uri": "https://localhost:8080/"
        },
        "id": "26LMfFhCPO26",
        "outputId": "bc6bbee2-534f-421d-d4dc-a2f4bc778d6c"
      },
      "execution_count": 30,
      "outputs": [
        {
          "output_type": "execute_result",
          "data": {
            "text/plain": [
              "((276, 1), (57, 1))"
            ]
          },
          "metadata": {},
          "execution_count": 30
        }
      ]
    },
    {
      "cell_type": "code",
      "source": [
        "# ubah nilai hasil predict ke value sebelumyna dengan menggunakan inverse, agar dapat diukur tingkat akurasi dan perfomance\n",
        "\n",
        "train_predict = scaler.inverse_transform(train_predict)\n",
        "test_predict = scaler.inverse_transform(test_predict)\n",
        "original_ytrain = scaler.inverse_transform(y_train.reshape(-1,1)) \n",
        "original_ytest = scaler.inverse_transform(y_test.reshape(-1,1)) "
      ],
      "metadata": {
        "id": "sETgKyuNPSvw"
      },
      "execution_count": 31,
      "outputs": []
    },
    {
      "cell_type": "code",
      "source": [
        "# Evaluation metrices RMSE and MAE\n",
        "print(\"Train data RMSE: \", math.sqrt(mean_squared_error(original_ytrain,train_predict)))\n",
        "print(\"Train data MSE: \", mean_squared_error(original_ytrain,train_predict))\n",
        "print(\"Train data MAE: \", mean_absolute_error(original_ytrain,train_predict))\n",
        "print(\"-------------------------------------------------------------------------------------\")\n",
        "print(\"Test data RMSE: \", math.sqrt(mean_squared_error(original_ytest,test_predict)))\n",
        "print(\"Test data MSE: \", mean_squared_error(original_ytest,test_predict))\n",
        "print(\"Test data MAE: \", mean_absolute_error(original_ytest,test_predict))\n",
        "\n",
        "#https://stephenallwright.com/good-rmse-score/ referensi untuk melihat nilai rmse yang bagus itu seperti apa\n",
        "#artikel pada link diatas mengatakan bahwa apabila nilai rmse 1000, tapi data yang dianalisis adalah data expekstasi tingkat kehidupan seseorang,\n",
        "#maka nilai RMSE itu sangat tidak akurat, sedangkan apabila nilai rmse 1000, tapi data yang dianalisis adalah harga rumah dengan nominal $100.000, \n",
        "# maka nilai RMSE itu cukup akurat\n",
        "#nilai rmse cukup kecil yang berarti akurasi lumayan bagus"
      ],
      "metadata": {
        "colab": {
          "base_uri": "https://localhost:8080/"
        },
        "id": "RcBsrVgrPVcQ",
        "outputId": "ec51a676-3fd2-40a6-f464-3e5490d00090"
      },
      "execution_count": 32,
      "outputs": [
        {
          "output_type": "stream",
          "name": "stdout",
          "text": [
            "Train data RMSE:  1635.286597602602\n",
            "Train data MSE:  2674162.256298694\n",
            "Train data MAE:  1233.0931555181164\n",
            "-------------------------------------------------------------------------------------\n",
            "Test data RMSE:  1809.2162132372703\n",
            "Test data MSE:  3273263.306240608\n",
            "Test data MAE:  1468.9065583574563\n"
          ]
        }
      ]
    },
    {
      "cell_type": "code",
      "source": [
        "#Variance Regression Score\n",
        "print(\"Train data explained variance regression score:\", \n",
        "      explained_variance_score(original_ytrain, train_predict))\n",
        "print(\"Test data explained variance regression score:\", \n",
        "      explained_variance_score(original_ytest, test_predict))\n",
        "#variance adalah alat ukur untuk mengetahui perbedaan value yang dianalisis dengan value yang diprediksi\n",
        "# semakin mendekati nilai 1.0, maka semakin akurat model yang dibuat"
      ],
      "metadata": {
        "colab": {
          "base_uri": "https://localhost:8080/"
        },
        "id": "LJUB641OPadE",
        "outputId": "c41fcec2-65b3-4a27-dfe7-a5b54da3ba82"
      },
      "execution_count": 33,
      "outputs": [
        {
          "output_type": "stream",
          "name": "stdout",
          "text": [
            "Train data explained variance regression score: 0.967398947570115\n",
            "Test data explained variance regression score: 0.936152904676813\n"
          ]
        }
      ]
    },
    {
      "cell_type": "code",
      "source": [
        "# R square score for regression\n",
        "print(\"Train data R2 score:\", r2_score(original_ytrain, train_predict))\n",
        "print(\"Test data R2 score:\", r2_score(original_ytest, test_predict))\n",
        "\n",
        "#r2_square akan mencari tingkat akurasi dari model LSTM\n",
        "#misal \n",
        "# y adalah actual value\n",
        "# f adalah predicted value\n",
        "#y = [10, 20, 30]\n",
        "#f = [30, 10, 20]\n",
        "# kalau ini dihitung dengan r2_score, nilainya akan -2, karena hasil prediksi tidak ada yang menebak dengan benar"
      ],
      "metadata": {
        "colab": {
          "base_uri": "https://localhost:8080/"
        },
        "id": "zM5HpNYePemK",
        "outputId": "ad18f8e6-0cfa-4296-fb31-b865ac566076"
      },
      "execution_count": 34,
      "outputs": [
        {
          "output_type": "stream",
          "name": "stdout",
          "text": [
            "Train data R2 score: 0.9649493587446107\n",
            "Test data R2 score: 0.8500208845489406\n"
          ]
        }
      ]
    },
    {
      "cell_type": "code",
      "source": [
        "# Regression Loss Mean Gamma deviance regression loss (MGD) and Mean Poisson deviance regression loss (MPD)\n",
        "print(\"Train data MGD: \", mean_gamma_deviance(original_ytrain, train_predict))\n",
        "print(\"Test data MGD: \", mean_gamma_deviance(original_ytest, test_predict))\n",
        "print(\"----------------------------------------------------------------------\")\n",
        "print(\"Train data MPD: \", mean_poisson_deviance(original_ytrain, train_predict))\n",
        "print(\"Test data MPD: \", mean_poisson_deviance(original_ytest, test_predict))\n",
        "\n",
        "# Mean Gamma deviance regression menghitung jumlah error\n",
        "# Mean Poisson deviance regression menghitung korelasi antara original_ytrain dan train_predict"
      ],
      "metadata": {
        "colab": {
          "base_uri": "https://localhost:8080/"
        },
        "id": "V1ZZ-IZYPkWA",
        "outputId": "4f922176-5993-403d-a793-ff6cc73f3bc4"
      },
      "execution_count": 35,
      "outputs": [
        {
          "output_type": "stream",
          "name": "stdout",
          "text": [
            "Train data MGD:  0.0012770141804838515\n",
            "Test data MGD:  0.0029802797350995582\n",
            "----------------------------------------------------------------------\n",
            "Train data MPD:  57.52802724418257\n",
            "Test data MPD:  98.30723787832783\n"
          ]
        }
      ]
    },
    {
      "cell_type": "code",
      "source": [
        "#chart yang menampilkan hasil prediksi dengan data original\n",
        "\n",
        "# shift train predictions for plotting\n",
        "\n",
        "look_back=time_step\n",
        "trainPredictPlot = np.empty_like(closedf)\n",
        "trainPredictPlot[:, :] = np.nan\n",
        "trainPredictPlot[look_back:len(train_predict)+look_back, :] = train_predict\n",
        "print(\"Train predicted data: \", trainPredictPlot.shape)\n",
        "\n",
        "# shift test predictions for plotting\n",
        "testPredictPlot = np.empty_like(closedf)\n",
        "testPredictPlot[:, :] = np.nan\n",
        "testPredictPlot[len(train_predict)+(look_back*2)+1:len(closedf)-1, :] = test_predict\n",
        "print(\"Test predicted data: \", testPredictPlot.shape)\n",
        "\n",
        "names = cycle(['Harga Original close','Train predicted close price','Test predicted close price'])\n",
        "\n",
        "plotdf = pd.DataFrame({'date': maindf['Date'],\n",
        "                       'original_close': maindf['Close'],\n",
        "                      'train_predicted_close': trainPredictPlot.reshape(1,-1)[0].tolist(),\n",
        "                      'test_predicted_close': testPredictPlot.reshape(1,-1)[0].tolist()})\n",
        "fig = px.line(plotdf,x=plotdf['date'], y=[plotdf['original_close'],plotdf['train_predicted_close'],\n",
        "                                          plotdf['test_predicted_close']],\n",
        "              labels={'value':'Harga','date': 'Tanggal'})\n",
        "fig.update_layout(title_text='Perbandingan antara Harga close original  vs Harga Close Prediksi',\n",
        "                  plot_bgcolor='white', font_size=15, font_color='black', legend_title_text='Harga Close')\n",
        "fig.for_each_trace(lambda t:  t.update(name = next(names)))\n",
        "\n",
        "fig.update_xaxes(showgrid=False)\n",
        "fig.update_yaxes(showgrid=False)\n",
        "fig.show()"
      ],
      "metadata": {
        "colab": {
          "base_uri": "https://localhost:8080/",
          "height": 579
        },
        "id": "5Ay4aqIbPruO",
        "outputId": "d963dce1-3422-40a4-f193-3e2bcb322f98"
      },
      "execution_count": 36,
      "outputs": [
        {
          "output_type": "stream",
          "name": "stdout",
          "text": [
            "Train predicted data:  (365, 1)\n",
            "Test predicted data:  (365, 1)\n"
          ]
        },
        {
          "output_type": "display_data",
          "data": {
            "text/html": [
              "<html>\n",
              "<head><meta charset=\"utf-8\" /></head>\n",
              "<body>\n",
              "    <div>            <script src=\"https://cdnjs.cloudflare.com/ajax/libs/mathjax/2.7.5/MathJax.js?config=TeX-AMS-MML_SVG\"></script><script type=\"text/javascript\">if (window.MathJax) {MathJax.Hub.Config({SVG: {font: \"STIX-Web\"}});}</script>                <script type=\"text/javascript\">window.PlotlyConfig = {MathJaxConfig: 'local'};</script>\n",
              "        <script src=\"https://cdn.plot.ly/plotly-2.8.3.min.js\"></script>                <div id=\"0aa3449d-b1a9-4701-b18d-9a3b320267d5\" class=\"plotly-graph-div\" style=\"height:525px; width:100%;\"></div>            <script type=\"text/javascript\">                                    window.PLOTLYENV=window.PLOTLYENV || {};                                    if (document.getElementById(\"0aa3449d-b1a9-4701-b18d-9a3b320267d5\")) {                    Plotly.newPlot(                        \"0aa3449d-b1a9-4701-b18d-9a3b320267d5\",                        [{\"hovertemplate\":\"variable=original_close<br>Tanggal=%{x}<br>Harga=%{y}<extra></extra>\",\"legendgroup\":\"original_close\",\"line\":{\"color\":\"#636efa\",\"dash\":\"solid\"},\"marker\":{\"symbol\":\"circle\"},\"mode\":\"lines\",\"name\":\"Harga Original close\",\"showlegend\":true,\"x\":[\"2021-06-11T00:00:00\",\"2021-06-12T00:00:00\",\"2021-06-13T00:00:00\",\"2021-06-14T00:00:00\",\"2021-06-15T00:00:00\",\"2021-06-16T00:00:00\",\"2021-06-17T00:00:00\",\"2021-06-18T00:00:00\",\"2021-06-19T00:00:00\",\"2021-06-20T00:00:00\",\"2021-06-21T00:00:00\",\"2021-06-22T00:00:00\",\"2021-06-23T00:00:00\",\"2021-06-24T00:00:00\",\"2021-06-25T00:00:00\",\"2021-06-26T00:00:00\",\"2021-06-27T00:00:00\",\"2021-06-28T00:00:00\",\"2021-06-29T00:00:00\",\"2021-06-30T00:00:00\",\"2021-07-01T00:00:00\",\"2021-07-02T00:00:00\",\"2021-07-03T00:00:00\",\"2021-07-04T00:00:00\",\"2021-07-05T00:00:00\",\"2021-07-06T00:00:00\",\"2021-07-07T00:00:00\",\"2021-07-08T00:00:00\",\"2021-07-09T00:00:00\",\"2021-07-10T00:00:00\",\"2021-07-11T00:00:00\",\"2021-07-12T00:00:00\",\"2021-07-13T00:00:00\",\"2021-07-14T00:00:00\",\"2021-07-15T00:00:00\",\"2021-07-16T00:00:00\",\"2021-07-17T00:00:00\",\"2021-07-18T00:00:00\",\"2021-07-19T00:00:00\",\"2021-07-20T00:00:00\",\"2021-07-21T00:00:00\",\"2021-07-22T00:00:00\",\"2021-07-23T00:00:00\",\"2021-07-24T00:00:00\",\"2021-07-25T00:00:00\",\"2021-07-26T00:00:00\",\"2021-07-27T00:00:00\",\"2021-07-28T00:00:00\",\"2021-07-29T00:00:00\",\"2021-07-30T00:00:00\",\"2021-07-31T00:00:00\",\"2021-08-01T00:00:00\",\"2021-08-02T00:00:00\",\"2021-08-03T00:00:00\",\"2021-08-04T00:00:00\",\"2021-08-05T00:00:00\",\"2021-08-06T00:00:00\",\"2021-08-07T00:00:00\",\"2021-08-08T00:00:00\",\"2021-08-09T00:00:00\",\"2021-08-10T00:00:00\",\"2021-08-11T00:00:00\",\"2021-08-12T00:00:00\",\"2021-08-13T00:00:00\",\"2021-08-14T00:00:00\",\"2021-08-15T00:00:00\",\"2021-08-16T00:00:00\",\"2021-08-17T00:00:00\",\"2021-08-18T00:00:00\",\"2021-08-19T00:00:00\",\"2021-08-20T00:00:00\",\"2021-08-21T00:00:00\",\"2021-08-22T00:00:00\",\"2021-08-23T00:00:00\",\"2021-08-24T00:00:00\",\"2021-08-25T00:00:00\",\"2021-08-26T00:00:00\",\"2021-08-27T00:00:00\",\"2021-08-28T00:00:00\",\"2021-08-29T00:00:00\",\"2021-08-30T00:00:00\",\"2021-08-31T00:00:00\",\"2021-09-01T00:00:00\",\"2021-09-02T00:00:00\",\"2021-09-03T00:00:00\",\"2021-09-04T00:00:00\",\"2021-09-05T00:00:00\",\"2021-09-06T00:00:00\",\"2021-09-07T00:00:00\",\"2021-09-08T00:00:00\",\"2021-09-09T00:00:00\",\"2021-09-10T00:00:00\",\"2021-09-11T00:00:00\",\"2021-09-12T00:00:00\",\"2021-09-13T00:00:00\",\"2021-09-14T00:00:00\",\"2021-09-15T00:00:00\",\"2021-09-16T00:00:00\",\"2021-09-17T00:00:00\",\"2021-09-18T00:00:00\",\"2021-09-19T00:00:00\",\"2021-09-20T00:00:00\",\"2021-09-21T00:00:00\",\"2021-09-22T00:00:00\",\"2021-09-23T00:00:00\",\"2021-09-24T00:00:00\",\"2021-09-25T00:00:00\",\"2021-09-26T00:00:00\",\"2021-09-27T00:00:00\",\"2021-09-28T00:00:00\",\"2021-09-29T00:00:00\",\"2021-09-30T00:00:00\",\"2021-10-01T00:00:00\",\"2021-10-02T00:00:00\",\"2021-10-03T00:00:00\",\"2021-10-04T00:00:00\",\"2021-10-05T00:00:00\",\"2021-10-06T00:00:00\",\"2021-10-07T00:00:00\",\"2021-10-08T00:00:00\",\"2021-10-09T00:00:00\",\"2021-10-10T00:00:00\",\"2021-10-11T00:00:00\",\"2021-10-12T00:00:00\",\"2021-10-13T00:00:00\",\"2021-10-14T00:00:00\",\"2021-10-15T00:00:00\",\"2021-10-16T00:00:00\",\"2021-10-17T00:00:00\",\"2021-10-18T00:00:00\",\"2021-10-19T00:00:00\",\"2021-10-20T00:00:00\",\"2021-10-21T00:00:00\",\"2021-10-22T00:00:00\",\"2021-10-23T00:00:00\",\"2021-10-24T00:00:00\",\"2021-10-25T00:00:00\",\"2021-10-26T00:00:00\",\"2021-10-27T00:00:00\",\"2021-10-28T00:00:00\",\"2021-10-29T00:00:00\",\"2021-10-30T00:00:00\",\"2021-10-31T00:00:00\",\"2021-11-01T00:00:00\",\"2021-11-02T00:00:00\",\"2021-11-03T00:00:00\",\"2021-11-04T00:00:00\",\"2021-11-05T00:00:00\",\"2021-11-06T00:00:00\",\"2021-11-07T00:00:00\",\"2021-11-08T00:00:00\",\"2021-11-09T00:00:00\",\"2021-11-10T00:00:00\",\"2021-11-11T00:00:00\",\"2021-11-12T00:00:00\",\"2021-11-13T00:00:00\",\"2021-11-14T00:00:00\",\"2021-11-15T00:00:00\",\"2021-11-16T00:00:00\",\"2021-11-17T00:00:00\",\"2021-11-18T00:00:00\",\"2021-11-19T00:00:00\",\"2021-11-20T00:00:00\",\"2021-11-21T00:00:00\",\"2021-11-22T00:00:00\",\"2021-11-23T00:00:00\",\"2021-11-24T00:00:00\",\"2021-11-25T00:00:00\",\"2021-11-26T00:00:00\",\"2021-11-27T00:00:00\",\"2021-11-28T00:00:00\",\"2021-11-29T00:00:00\",\"2021-11-30T00:00:00\",\"2021-12-01T00:00:00\",\"2021-12-02T00:00:00\",\"2021-12-03T00:00:00\",\"2021-12-04T00:00:00\",\"2021-12-05T00:00:00\",\"2021-12-06T00:00:00\",\"2021-12-07T00:00:00\",\"2021-12-08T00:00:00\",\"2021-12-09T00:00:00\",\"2021-12-10T00:00:00\",\"2021-12-11T00:00:00\",\"2021-12-12T00:00:00\",\"2021-12-13T00:00:00\",\"2021-12-14T00:00:00\",\"2021-12-15T00:00:00\",\"2021-12-16T00:00:00\",\"2021-12-17T00:00:00\",\"2021-12-18T00:00:00\",\"2021-12-19T00:00:00\",\"2021-12-20T00:00:00\",\"2021-12-21T00:00:00\",\"2021-12-22T00:00:00\",\"2021-12-23T00:00:00\",\"2021-12-24T00:00:00\",\"2021-12-25T00:00:00\",\"2021-12-26T00:00:00\",\"2021-12-27T00:00:00\",\"2021-12-28T00:00:00\",\"2021-12-29T00:00:00\",\"2021-12-30T00:00:00\",\"2021-12-31T00:00:00\",\"2022-01-01T00:00:00\",\"2022-01-02T00:00:00\",\"2022-01-03T00:00:00\",\"2022-01-04T00:00:00\",\"2022-01-05T00:00:00\",\"2022-01-06T00:00:00\",\"2022-01-07T00:00:00\",\"2022-01-08T00:00:00\",\"2022-01-09T00:00:00\",\"2022-01-10T00:00:00\",\"2022-01-11T00:00:00\",\"2022-01-12T00:00:00\",\"2022-01-13T00:00:00\",\"2022-01-14T00:00:00\",\"2022-01-15T00:00:00\",\"2022-01-16T00:00:00\",\"2022-01-17T00:00:00\",\"2022-01-18T00:00:00\",\"2022-01-19T00:00:00\",\"2022-01-20T00:00:00\",\"2022-01-21T00:00:00\",\"2022-01-22T00:00:00\",\"2022-01-23T00:00:00\",\"2022-01-24T00:00:00\",\"2022-01-25T00:00:00\",\"2022-01-26T00:00:00\",\"2022-01-27T00:00:00\",\"2022-01-28T00:00:00\",\"2022-01-29T00:00:00\",\"2022-01-30T00:00:00\",\"2022-01-31T00:00:00\",\"2022-02-01T00:00:00\",\"2022-02-02T00:00:00\",\"2022-02-03T00:00:00\",\"2022-02-04T00:00:00\",\"2022-02-05T00:00:00\",\"2022-02-06T00:00:00\",\"2022-02-07T00:00:00\",\"2022-02-08T00:00:00\",\"2022-02-09T00:00:00\",\"2022-02-10T00:00:00\",\"2022-02-11T00:00:00\",\"2022-02-12T00:00:00\",\"2022-02-13T00:00:00\",\"2022-02-14T00:00:00\",\"2022-02-15T00:00:00\",\"2022-02-16T00:00:00\",\"2022-02-17T00:00:00\",\"2022-02-18T00:00:00\",\"2022-02-19T00:00:00\",\"2022-02-20T00:00:00\",\"2022-02-21T00:00:00\",\"2022-02-22T00:00:00\",\"2022-02-23T00:00:00\",\"2022-02-24T00:00:00\",\"2022-02-25T00:00:00\",\"2022-02-26T00:00:00\",\"2022-02-27T00:00:00\",\"2022-02-28T00:00:00\",\"2022-03-01T00:00:00\",\"2022-03-02T00:00:00\",\"2022-03-03T00:00:00\",\"2022-03-04T00:00:00\",\"2022-03-05T00:00:00\",\"2022-03-06T00:00:00\",\"2022-03-07T00:00:00\",\"2022-03-08T00:00:00\",\"2022-03-09T00:00:00\",\"2022-03-10T00:00:00\",\"2022-03-11T00:00:00\",\"2022-03-12T00:00:00\",\"2022-03-13T00:00:00\",\"2022-03-14T00:00:00\",\"2022-03-15T00:00:00\",\"2022-03-16T00:00:00\",\"2022-03-17T00:00:00\",\"2022-03-18T00:00:00\",\"2022-03-19T00:00:00\",\"2022-03-20T00:00:00\",\"2022-03-21T00:00:00\",\"2022-03-22T00:00:00\",\"2022-03-23T00:00:00\",\"2022-03-24T00:00:00\",\"2022-03-25T00:00:00\",\"2022-03-26T00:00:00\",\"2022-03-27T00:00:00\",\"2022-03-28T00:00:00\",\"2022-03-29T00:00:00\",\"2022-03-30T00:00:00\",\"2022-03-31T00:00:00\",\"2022-04-01T00:00:00\",\"2022-04-02T00:00:00\",\"2022-04-03T00:00:00\",\"2022-04-04T00:00:00\",\"2022-04-05T00:00:00\",\"2022-04-06T00:00:00\",\"2022-04-07T00:00:00\",\"2022-04-08T00:00:00\",\"2022-04-09T00:00:00\",\"2022-04-10T00:00:00\",\"2022-04-11T00:00:00\",\"2022-04-12T00:00:00\",\"2022-04-13T00:00:00\",\"2022-04-14T00:00:00\",\"2022-04-15T00:00:00\",\"2022-04-16T00:00:00\",\"2022-04-17T00:00:00\",\"2022-04-18T00:00:00\",\"2022-04-19T00:00:00\",\"2022-04-20T00:00:00\",\"2022-04-21T00:00:00\",\"2022-04-22T00:00:00\",\"2022-04-23T00:00:00\",\"2022-04-24T00:00:00\",\"2022-04-25T00:00:00\",\"2022-04-26T00:00:00\",\"2022-04-27T00:00:00\",\"2022-04-28T00:00:00\",\"2022-04-29T00:00:00\",\"2022-04-30T00:00:00\",\"2022-05-01T00:00:00\",\"2022-05-02T00:00:00\",\"2022-05-03T00:00:00\",\"2022-05-04T00:00:00\",\"2022-05-05T00:00:00\",\"2022-05-06T00:00:00\",\"2022-05-07T00:00:00\",\"2022-05-08T00:00:00\",\"2022-05-09T00:00:00\",\"2022-05-10T00:00:00\",\"2022-05-11T00:00:00\",\"2022-05-12T00:00:00\",\"2022-05-13T00:00:00\",\"2022-05-14T00:00:00\",\"2022-05-15T00:00:00\",\"2022-05-16T00:00:00\",\"2022-05-17T00:00:00\",\"2022-05-18T00:00:00\",\"2022-05-19T00:00:00\",\"2022-05-20T00:00:00\",\"2022-05-21T00:00:00\",\"2022-05-22T00:00:00\",\"2022-05-23T00:00:00\",\"2022-05-24T00:00:00\",\"2022-05-25T00:00:00\",\"2022-05-26T00:00:00\",\"2022-05-27T00:00:00\",\"2022-05-28T00:00:00\",\"2022-05-29T00:00:00\",\"2022-05-30T00:00:00\",\"2022-05-31T00:00:00\",\"2022-06-01T00:00:00\",\"2022-06-02T00:00:00\",\"2022-06-03T00:00:00\",\"2022-06-04T00:00:00\",\"2022-06-05T00:00:00\",\"2022-06-06T00:00:00\",\"2022-06-07T00:00:00\",\"2022-06-08T00:00:00\",\"2022-06-09T00:00:00\",\"2022-06-11T00:00:00\"],\"xaxis\":\"x\",\"y\":[37334.398438,35552.515625,39097.859375,40218.476563,40406.269531,38347.0625,38053.503906,35787.246094,35615.871094,35698.296875,31676.693359,32505.660156,33723.027344,34662.4375,31637.779297,32186.277344,34649.644531,34434.335938,35867.777344,35040.835938,33572.117188,33897.046875,34668.546875,35287.78125,33746.003906,34235.195313,33855.328125,32877.371094,33798.011719,33520.519531,34240.1875,33155.847656,32702.025391,32822.347656,31780.730469,31421.539063,31533.068359,31796.810547,30817.832031,29807.347656,32110.693359,32313.105469,33581.550781,34292.445313,35350.1875,37337.535156,39406.941406,39995.90625,40008.421875,42235.546875,41626.195313,39974.894531,39201.945313,38152.980469,39747.503906,40869.554688,42816.5,44555.800781,43798.117188,46365.402344,45585.03125,45593.636719,44428.289063,47793.320313,47096.945313,47047.003906,46004.484375,44695.359375,44801.1875,46717.578125,49339.175781,48905.492188,49321.652344,49546.148438,47706.117188,48960.789063,46942.21875,49058.667969,48902.402344,48829.832031,47054.984375,47166.6875,48847.027344,49327.722656,50025.375,49944.625,51753.410156,52633.535156,46811.128906,46091.390625,46391.421875,44883.910156,45201.457031,46063.269531,44963.074219,47092.492188,48176.347656,47783.359375,47267.519531,48278.363281,47260.21875,42843.800781,40693.675781,43574.507813,44895.097656,42839.75,42716.59375,43208.539063,42235.730469,41034.542969,41564.363281,43790.894531,48116.941406,47711.488281,48199.953125,49112.902344,51514.8125,55361.449219,53805.984375,53967.847656,54968.222656,54771.578125,57484.789063,56041.058594,57401.097656,57321.523438,61593.949219,60892.179688,61553.617188,62026.078125,64261.992188,65992.835938,62210.171875,60692.265625,61393.617188,60930.835938,63039.824219,60363.792969,58482.386719,60622.136719,62227.964844,61888.832031,61318.957031,61004.40625,63226.402344,62970.046875,61452.230469,61125.675781,61527.480469,63326.988281,67566.828125,66971.828125,64995.230469,64949.960938,64155.941406,64469.527344,65466.839844,63557.871094,60161.246094,60368.011719,56942.136719,58119.578125,59697.195313,58730.476563,56289.289063,57569.074219,56280.425781,57274.679688,53569.765625,54815.078125,57248.457031,57806.566406,57005.425781,57229.828125,56477.816406,53598.246094,49200.703125,49368.847656,50582.625,50700.085938,50504.796875,47672.121094,47243.304688,49362.507813,50098.335938,46737.480469,46612.632813,48896.722656,47665.425781,46202.144531,46848.777344,46707.015625,46880.277344,48936.613281,48628.511719,50784.539063,50822.195313,50429.859375,50809.515625,50640.417969,47588.855469,46444.710938,47178.125,46306.445313,47686.8125,47345.21875,46458.117188,45897.574219,43569.003906,43160.929688,41557.902344,41733.941406,41911.601563,41821.261719,42735.855469,43949.101563,42591.570313,43099.699219,43177.398438,43113.878906,42250.550781,42375.632813,41744.328125,40680.417969,36457.316406,35030.25,36276.804688,36654.328125,36954.003906,36852.121094,37138.234375,37784.332031,38138.179688,37917.601563,38483.125,38743.273438,36952.984375,37154.601563,41500.875,41441.164063,42412.433594,43840.285156,44118.445313,44338.796875,43565.113281,42407.9375,42244.46875,42197.515625,42586.917969,44575.203125,43961.859375,40538.011719,40030.976563,40122.15625,38431.378906,37075.28125,38286.027344,37296.570313,38332.609375,39214.21875,39105.148438,37709.785156,43193.234375,44354.636719,43924.117188,42451.789063,39137.605469,39400.585938,38419.984375,38062.039063,38737.269531,41982.925781,39437.460938,38794.972656,38904.011719,37849.664063,39666.753906,39338.785156,41143.929688,40951.378906,41801.15625,42190.652344,41247.824219,41077.996094,42358.808594,42892.957031,43960.933594,44348.730469,44500.828125,46820.492188,47128.003906,47465.730469,47062.664063,45538.675781,46281.644531,45868.949219,46453.566406,46622.675781,45555.992188,43206.738281,43503.847656,42287.664063,42782.136719,42207.671875,39521.902344,40127.183594,41166.730469,39935.515625,40553.464844,40424.484375,39716.953125,40826.214844,41502.75,41374.378906,40527.363281,39740.320313,39486.730469,39469.292969,40458.308594,38117.460938,39241.121094,39773.828125,38609.824219,37714.875,38469.09375,38529.328125,37750.453125,39698.371094,36575.140625,36040.921875,35501.953125,34059.265625,30296.953125,31022.90625,28936.355469,29047.751953,29283.103516,30101.265625,31305.113281,29862.917969,30425.857422,28720.271484,30314.333984,29200.740234,29432.226563,30323.722656,29098.910156,29655.585938,29562.361328,29267.224609,28627.574219,28814.900391,29445.957031,31726.390625,31792.310547,29799.080078,30467.488281,29704.390625,29832.914063,29906.662109,31370.671875,31155.478516,30214.355469,30111.998047,29197.939453],\"yaxis\":\"y\",\"type\":\"scattergl\"},{\"hovertemplate\":\"variable=train_predicted_close<br>Tanggal=%{x}<br>Harga=%{y}<extra></extra>\",\"legendgroup\":\"train_predicted_close\",\"line\":{\"color\":\"#EF553B\",\"dash\":\"solid\"},\"marker\":{\"symbol\":\"circle\"},\"mode\":\"lines\",\"name\":\"Train predicted close price\",\"showlegend\":true,\"x\":[\"2021-06-11T00:00:00\",\"2021-06-12T00:00:00\",\"2021-06-13T00:00:00\",\"2021-06-14T00:00:00\",\"2021-06-15T00:00:00\",\"2021-06-16T00:00:00\",\"2021-06-17T00:00:00\",\"2021-06-18T00:00:00\",\"2021-06-19T00:00:00\",\"2021-06-20T00:00:00\",\"2021-06-21T00:00:00\",\"2021-06-22T00:00:00\",\"2021-06-23T00:00:00\",\"2021-06-24T00:00:00\",\"2021-06-25T00:00:00\",\"2021-06-26T00:00:00\",\"2021-06-27T00:00:00\",\"2021-06-28T00:00:00\",\"2021-06-29T00:00:00\",\"2021-06-30T00:00:00\",\"2021-07-01T00:00:00\",\"2021-07-02T00:00:00\",\"2021-07-03T00:00:00\",\"2021-07-04T00:00:00\",\"2021-07-05T00:00:00\",\"2021-07-06T00:00:00\",\"2021-07-07T00:00:00\",\"2021-07-08T00:00:00\",\"2021-07-09T00:00:00\",\"2021-07-10T00:00:00\",\"2021-07-11T00:00:00\",\"2021-07-12T00:00:00\",\"2021-07-13T00:00:00\",\"2021-07-14T00:00:00\",\"2021-07-15T00:00:00\",\"2021-07-16T00:00:00\",\"2021-07-17T00:00:00\",\"2021-07-18T00:00:00\",\"2021-07-19T00:00:00\",\"2021-07-20T00:00:00\",\"2021-07-21T00:00:00\",\"2021-07-22T00:00:00\",\"2021-07-23T00:00:00\",\"2021-07-24T00:00:00\",\"2021-07-25T00:00:00\",\"2021-07-26T00:00:00\",\"2021-07-27T00:00:00\",\"2021-07-28T00:00:00\",\"2021-07-29T00:00:00\",\"2021-07-30T00:00:00\",\"2021-07-31T00:00:00\",\"2021-08-01T00:00:00\",\"2021-08-02T00:00:00\",\"2021-08-03T00:00:00\",\"2021-08-04T00:00:00\",\"2021-08-05T00:00:00\",\"2021-08-06T00:00:00\",\"2021-08-07T00:00:00\",\"2021-08-08T00:00:00\",\"2021-08-09T00:00:00\",\"2021-08-10T00:00:00\",\"2021-08-11T00:00:00\",\"2021-08-12T00:00:00\",\"2021-08-13T00:00:00\",\"2021-08-14T00:00:00\",\"2021-08-15T00:00:00\",\"2021-08-16T00:00:00\",\"2021-08-17T00:00:00\",\"2021-08-18T00:00:00\",\"2021-08-19T00:00:00\",\"2021-08-20T00:00:00\",\"2021-08-21T00:00:00\",\"2021-08-22T00:00:00\",\"2021-08-23T00:00:00\",\"2021-08-24T00:00:00\",\"2021-08-25T00:00:00\",\"2021-08-26T00:00:00\",\"2021-08-27T00:00:00\",\"2021-08-28T00:00:00\",\"2021-08-29T00:00:00\",\"2021-08-30T00:00:00\",\"2021-08-31T00:00:00\",\"2021-09-01T00:00:00\",\"2021-09-02T00:00:00\",\"2021-09-03T00:00:00\",\"2021-09-04T00:00:00\",\"2021-09-05T00:00:00\",\"2021-09-06T00:00:00\",\"2021-09-07T00:00:00\",\"2021-09-08T00:00:00\",\"2021-09-09T00:00:00\",\"2021-09-10T00:00:00\",\"2021-09-11T00:00:00\",\"2021-09-12T00:00:00\",\"2021-09-13T00:00:00\",\"2021-09-14T00:00:00\",\"2021-09-15T00:00:00\",\"2021-09-16T00:00:00\",\"2021-09-17T00:00:00\",\"2021-09-18T00:00:00\",\"2021-09-19T00:00:00\",\"2021-09-20T00:00:00\",\"2021-09-21T00:00:00\",\"2021-09-22T00:00:00\",\"2021-09-23T00:00:00\",\"2021-09-24T00:00:00\",\"2021-09-25T00:00:00\",\"2021-09-26T00:00:00\",\"2021-09-27T00:00:00\",\"2021-09-28T00:00:00\",\"2021-09-29T00:00:00\",\"2021-09-30T00:00:00\",\"2021-10-01T00:00:00\",\"2021-10-02T00:00:00\",\"2021-10-03T00:00:00\",\"2021-10-04T00:00:00\",\"2021-10-05T00:00:00\",\"2021-10-06T00:00:00\",\"2021-10-07T00:00:00\",\"2021-10-08T00:00:00\",\"2021-10-09T00:00:00\",\"2021-10-10T00:00:00\",\"2021-10-11T00:00:00\",\"2021-10-12T00:00:00\",\"2021-10-13T00:00:00\",\"2021-10-14T00:00:00\",\"2021-10-15T00:00:00\",\"2021-10-16T00:00:00\",\"2021-10-17T00:00:00\",\"2021-10-18T00:00:00\",\"2021-10-19T00:00:00\",\"2021-10-20T00:00:00\",\"2021-10-21T00:00:00\",\"2021-10-22T00:00:00\",\"2021-10-23T00:00:00\",\"2021-10-24T00:00:00\",\"2021-10-25T00:00:00\",\"2021-10-26T00:00:00\",\"2021-10-27T00:00:00\",\"2021-10-28T00:00:00\",\"2021-10-29T00:00:00\",\"2021-10-30T00:00:00\",\"2021-10-31T00:00:00\",\"2021-11-01T00:00:00\",\"2021-11-02T00:00:00\",\"2021-11-03T00:00:00\",\"2021-11-04T00:00:00\",\"2021-11-05T00:00:00\",\"2021-11-06T00:00:00\",\"2021-11-07T00:00:00\",\"2021-11-08T00:00:00\",\"2021-11-09T00:00:00\",\"2021-11-10T00:00:00\",\"2021-11-11T00:00:00\",\"2021-11-12T00:00:00\",\"2021-11-13T00:00:00\",\"2021-11-14T00:00:00\",\"2021-11-15T00:00:00\",\"2021-11-16T00:00:00\",\"2021-11-17T00:00:00\",\"2021-11-18T00:00:00\",\"2021-11-19T00:00:00\",\"2021-11-20T00:00:00\",\"2021-11-21T00:00:00\",\"2021-11-22T00:00:00\",\"2021-11-23T00:00:00\",\"2021-11-24T00:00:00\",\"2021-11-25T00:00:00\",\"2021-11-26T00:00:00\",\"2021-11-27T00:00:00\",\"2021-11-28T00:00:00\",\"2021-11-29T00:00:00\",\"2021-11-30T00:00:00\",\"2021-12-01T00:00:00\",\"2021-12-02T00:00:00\",\"2021-12-03T00:00:00\",\"2021-12-04T00:00:00\",\"2021-12-05T00:00:00\",\"2021-12-06T00:00:00\",\"2021-12-07T00:00:00\",\"2021-12-08T00:00:00\",\"2021-12-09T00:00:00\",\"2021-12-10T00:00:00\",\"2021-12-11T00:00:00\",\"2021-12-12T00:00:00\",\"2021-12-13T00:00:00\",\"2021-12-14T00:00:00\",\"2021-12-15T00:00:00\",\"2021-12-16T00:00:00\",\"2021-12-17T00:00:00\",\"2021-12-18T00:00:00\",\"2021-12-19T00:00:00\",\"2021-12-20T00:00:00\",\"2021-12-21T00:00:00\",\"2021-12-22T00:00:00\",\"2021-12-23T00:00:00\",\"2021-12-24T00:00:00\",\"2021-12-25T00:00:00\",\"2021-12-26T00:00:00\",\"2021-12-27T00:00:00\",\"2021-12-28T00:00:00\",\"2021-12-29T00:00:00\",\"2021-12-30T00:00:00\",\"2021-12-31T00:00:00\",\"2022-01-01T00:00:00\",\"2022-01-02T00:00:00\",\"2022-01-03T00:00:00\",\"2022-01-04T00:00:00\",\"2022-01-05T00:00:00\",\"2022-01-06T00:00:00\",\"2022-01-07T00:00:00\",\"2022-01-08T00:00:00\",\"2022-01-09T00:00:00\",\"2022-01-10T00:00:00\",\"2022-01-11T00:00:00\",\"2022-01-12T00:00:00\",\"2022-01-13T00:00:00\",\"2022-01-14T00:00:00\",\"2022-01-15T00:00:00\",\"2022-01-16T00:00:00\",\"2022-01-17T00:00:00\",\"2022-01-18T00:00:00\",\"2022-01-19T00:00:00\",\"2022-01-20T00:00:00\",\"2022-01-21T00:00:00\",\"2022-01-22T00:00:00\",\"2022-01-23T00:00:00\",\"2022-01-24T00:00:00\",\"2022-01-25T00:00:00\",\"2022-01-26T00:00:00\",\"2022-01-27T00:00:00\",\"2022-01-28T00:00:00\",\"2022-01-29T00:00:00\",\"2022-01-30T00:00:00\",\"2022-01-31T00:00:00\",\"2022-02-01T00:00:00\",\"2022-02-02T00:00:00\",\"2022-02-03T00:00:00\",\"2022-02-04T00:00:00\",\"2022-02-05T00:00:00\",\"2022-02-06T00:00:00\",\"2022-02-07T00:00:00\",\"2022-02-08T00:00:00\",\"2022-02-09T00:00:00\",\"2022-02-10T00:00:00\",\"2022-02-11T00:00:00\",\"2022-02-12T00:00:00\",\"2022-02-13T00:00:00\",\"2022-02-14T00:00:00\",\"2022-02-15T00:00:00\",\"2022-02-16T00:00:00\",\"2022-02-17T00:00:00\",\"2022-02-18T00:00:00\",\"2022-02-19T00:00:00\",\"2022-02-20T00:00:00\",\"2022-02-21T00:00:00\",\"2022-02-22T00:00:00\",\"2022-02-23T00:00:00\",\"2022-02-24T00:00:00\",\"2022-02-25T00:00:00\",\"2022-02-26T00:00:00\",\"2022-02-27T00:00:00\",\"2022-02-28T00:00:00\",\"2022-03-01T00:00:00\",\"2022-03-02T00:00:00\",\"2022-03-03T00:00:00\",\"2022-03-04T00:00:00\",\"2022-03-05T00:00:00\",\"2022-03-06T00:00:00\",\"2022-03-07T00:00:00\",\"2022-03-08T00:00:00\",\"2022-03-09T00:00:00\",\"2022-03-10T00:00:00\",\"2022-03-11T00:00:00\",\"2022-03-12T00:00:00\",\"2022-03-13T00:00:00\",\"2022-03-14T00:00:00\",\"2022-03-15T00:00:00\",\"2022-03-16T00:00:00\",\"2022-03-17T00:00:00\",\"2022-03-18T00:00:00\",\"2022-03-19T00:00:00\",\"2022-03-20T00:00:00\",\"2022-03-21T00:00:00\",\"2022-03-22T00:00:00\",\"2022-03-23T00:00:00\",\"2022-03-24T00:00:00\",\"2022-03-25T00:00:00\",\"2022-03-26T00:00:00\",\"2022-03-27T00:00:00\",\"2022-03-28T00:00:00\",\"2022-03-29T00:00:00\",\"2022-03-30T00:00:00\",\"2022-03-31T00:00:00\",\"2022-04-01T00:00:00\",\"2022-04-02T00:00:00\",\"2022-04-03T00:00:00\",\"2022-04-04T00:00:00\",\"2022-04-05T00:00:00\",\"2022-04-06T00:00:00\",\"2022-04-07T00:00:00\",\"2022-04-08T00:00:00\",\"2022-04-09T00:00:00\",\"2022-04-10T00:00:00\",\"2022-04-11T00:00:00\",\"2022-04-12T00:00:00\",\"2022-04-13T00:00:00\",\"2022-04-14T00:00:00\",\"2022-04-15T00:00:00\",\"2022-04-16T00:00:00\",\"2022-04-17T00:00:00\",\"2022-04-18T00:00:00\",\"2022-04-19T00:00:00\",\"2022-04-20T00:00:00\",\"2022-04-21T00:00:00\",\"2022-04-22T00:00:00\",\"2022-04-23T00:00:00\",\"2022-04-24T00:00:00\",\"2022-04-25T00:00:00\",\"2022-04-26T00:00:00\",\"2022-04-27T00:00:00\",\"2022-04-28T00:00:00\",\"2022-04-29T00:00:00\",\"2022-04-30T00:00:00\",\"2022-05-01T00:00:00\",\"2022-05-02T00:00:00\",\"2022-05-03T00:00:00\",\"2022-05-04T00:00:00\",\"2022-05-05T00:00:00\",\"2022-05-06T00:00:00\",\"2022-05-07T00:00:00\",\"2022-05-08T00:00:00\",\"2022-05-09T00:00:00\",\"2022-05-10T00:00:00\",\"2022-05-11T00:00:00\",\"2022-05-12T00:00:00\",\"2022-05-13T00:00:00\",\"2022-05-14T00:00:00\",\"2022-05-15T00:00:00\",\"2022-05-16T00:00:00\",\"2022-05-17T00:00:00\",\"2022-05-18T00:00:00\",\"2022-05-19T00:00:00\",\"2022-05-20T00:00:00\",\"2022-05-21T00:00:00\",\"2022-05-22T00:00:00\",\"2022-05-23T00:00:00\",\"2022-05-24T00:00:00\",\"2022-05-25T00:00:00\",\"2022-05-26T00:00:00\",\"2022-05-27T00:00:00\",\"2022-05-28T00:00:00\",\"2022-05-29T00:00:00\",\"2022-05-30T00:00:00\",\"2022-05-31T00:00:00\",\"2022-06-01T00:00:00\",\"2022-06-02T00:00:00\",\"2022-06-03T00:00:00\",\"2022-06-04T00:00:00\",\"2022-06-05T00:00:00\",\"2022-06-06T00:00:00\",\"2022-06-07T00:00:00\",\"2022-06-08T00:00:00\",\"2022-06-09T00:00:00\",\"2022-06-11T00:00:00\"],\"xaxis\":\"x\",\"y\":[null,null,null,null,null,null,null,null,null,null,null,null,null,null,null,33095.765625,33251.21484375,35423.27734375,35461.49609375,36752.21484375,36020.41796875,34553.94140625,34647.83984375,35323.72265625,35978.33203125,34721.88671875,35024.63671875,34694.1953125,33816.0859375,34563.94140625,34420.45703125,35069.16015625,34165.21875,33657.32421875,33694.265625,32785.8828125,32391.12890625,32484.80078125,32792.2890625,31971.5234375,30992.109375,33070.58203125,33482.33203125,34754.87890625,35459.671875,36403.734375,38192.53515625,40089.1171875,40591.66796875,40508.1796875,42358.09375,41962.55859375,40611.84765625,39865.34375,39025.8203125,40198.20703125,41328.9375,43117.796875,44770.38671875,44415.85546875,46294.4765625,46007.63671875,46016.55078125,45159.5625,47511.66015625,47464.12890625,47505.52734375,46771.3359375,45650.296875,45457.8828125,46835.76953125,49046.55859375,49083.84765625,49388.1484375,49564.2890625,48283.06640625,49074.0625,47619.8515625,48972.34765625,49086.6953125,49121.7578125,47756.6015625,47641.73046875,48872.0625,49376.28515625,49967.2265625,49928.59375,51343.72265625,52265.94921875,48055.62890625,46945.59375,47002.12109375,45717.40625,45764.1640625,46401.23046875,45605.4375,47231.21484375,48269.65234375,48051.19921875,47543.83203125,48207.1875,47473.2109375,43940.3671875,41765.5625,43687.75,45089.44921875,43787.25390625,43432.9765625,43682.515625,42897.28125,41769.90234375,42058.33984375,43907.8359375,47671.98828125,47871.98828125,48315.390625,49124.66015625,51088.8515625,54004.7734375,54094.1328125,54711.6640625,55518.390625,55626.3046875,57240.81640625,57221.4296875,58140.453125,58242.390625,60607.01953125,61176.703125,61936.59765625,62519.1640625,63895.4453125,65289.28515625,63510.22265625,62159.875,62332.36328125,61528.29296875,62966.65625,60667.3359375,58991.3671875,60784.453125,62197.546875,61853.078125,61255.17578125,61016.9296875,63055.49609375,62908.84765625,61681.796875,61422.2109375,61800.8203125,63275.74609375,66591.078125,66602.765625,65391.15234375,65454.3203125,64748.82421875,64867.5234375,65534.20703125,63881.71484375,60857.55859375,60926.07421875,57746.3203125,58774.74609375,60120.375,59179.56640625,56850.97265625,57853.54296875,56645.03515625,57582.4453125,54200.609375,55186.9453125,57263.79296875,57868.453125,57085.71875,57096.75390625,56574.109375,54157.7578125,50336.80859375,50128.55859375,51146.8359375,51314.2265625,51096.46875,48531.64453125,47878.31640625,49628.13671875,50410.8515625,47583.734375,47181.0078125,48910.17578125,48051.63671875,46797.40234375,47081.43359375,46955.0859375,47104.0625,48778.49609375,48742.5390625,50451.67578125,50666.94140625,50415.953125,50783.30078125,50849.3984375,48504.359375,47231.70703125,47620.03125,47008.59765625,47973.484375,47775.42578125,46980.84375,46334.546875,44318.77734375,43715.01953125,42290.5625,42294.04296875,42447.36328125,42417.51171875,43168.41796875,44261.05859375,43240.55859375,43480.703125,43493.45703125,43451.3125,42780.3125,42789.23046875,42320.171875,41427.15234375,37970.5625,36181.734375,36875.1953125,37387.421875,37788.70703125,37765.59375,37989.88671875,38508.05859375,38805.58984375,38585.59375,39017.03515625,39258.80078125,37811.60546875,37834.50390625,41443.4375,41981.83203125,42886.234375,44124.29296875,44509.62890625,44722.0234375,44178.7109375,43236.30859375,42960.1796875,42861.98046875,43138.06640625,44716.72265625,44548.12890625,41849.55078125,40828.265625,40728.765625,39355.06640625,38033.9921875,38812.91015625,38104.6875,38936.0078125,39806.3359375,39844.96875,38636.3046875,43070.48828125,44512.74609375,44362.93359375,43213.859375,40404.5,40122.34375,39323.36328125,38945.46484375,39419.02734375,42138.67578125,40533.07421875,39744.68359375,39622.33984375,38710.90625,40021.7109375,39924.30078125,41449.94921875,41509.55859375,42237.28125,42636.37109375,41965.76171875,41712.796875,42669.5859375,43244.2578125,44256.76171875,44720.890625,44913.23046875,46724.2578125,null,null,null,null,null,null,null,null,null,null,null,null,null,null,null,null,null,null,null,null,null,null,null,null,null,null,null,null,null,null,null,null,null,null,null,null,null,null,null,null,null,null,null,null,null,null,null,null,null,null,null,null,null,null,null,null,null,null,null,null,null,null,null,null,null,null,null,null,null,null,null,null,null,null],\"yaxis\":\"y\",\"type\":\"scattergl\"},{\"hovertemplate\":\"variable=test_predicted_close<br>Tanggal=%{x}<br>Harga=%{y}<extra></extra>\",\"legendgroup\":\"test_predicted_close\",\"line\":{\"color\":\"#00cc96\",\"dash\":\"solid\"},\"marker\":{\"symbol\":\"circle\"},\"mode\":\"lines\",\"name\":\"Test predicted close price\",\"showlegend\":true,\"x\":[\"2021-06-11T00:00:00\",\"2021-06-12T00:00:00\",\"2021-06-13T00:00:00\",\"2021-06-14T00:00:00\",\"2021-06-15T00:00:00\",\"2021-06-16T00:00:00\",\"2021-06-17T00:00:00\",\"2021-06-18T00:00:00\",\"2021-06-19T00:00:00\",\"2021-06-20T00:00:00\",\"2021-06-21T00:00:00\",\"2021-06-22T00:00:00\",\"2021-06-23T00:00:00\",\"2021-06-24T00:00:00\",\"2021-06-25T00:00:00\",\"2021-06-26T00:00:00\",\"2021-06-27T00:00:00\",\"2021-06-28T00:00:00\",\"2021-06-29T00:00:00\",\"2021-06-30T00:00:00\",\"2021-07-01T00:00:00\",\"2021-07-02T00:00:00\",\"2021-07-03T00:00:00\",\"2021-07-04T00:00:00\",\"2021-07-05T00:00:00\",\"2021-07-06T00:00:00\",\"2021-07-07T00:00:00\",\"2021-07-08T00:00:00\",\"2021-07-09T00:00:00\",\"2021-07-10T00:00:00\",\"2021-07-11T00:00:00\",\"2021-07-12T00:00:00\",\"2021-07-13T00:00:00\",\"2021-07-14T00:00:00\",\"2021-07-15T00:00:00\",\"2021-07-16T00:00:00\",\"2021-07-17T00:00:00\",\"2021-07-18T00:00:00\",\"2021-07-19T00:00:00\",\"2021-07-20T00:00:00\",\"2021-07-21T00:00:00\",\"2021-07-22T00:00:00\",\"2021-07-23T00:00:00\",\"2021-07-24T00:00:00\",\"2021-07-25T00:00:00\",\"2021-07-26T00:00:00\",\"2021-07-27T00:00:00\",\"2021-07-28T00:00:00\",\"2021-07-29T00:00:00\",\"2021-07-30T00:00:00\",\"2021-07-31T00:00:00\",\"2021-08-01T00:00:00\",\"2021-08-02T00:00:00\",\"2021-08-03T00:00:00\",\"2021-08-04T00:00:00\",\"2021-08-05T00:00:00\",\"2021-08-06T00:00:00\",\"2021-08-07T00:00:00\",\"2021-08-08T00:00:00\",\"2021-08-09T00:00:00\",\"2021-08-10T00:00:00\",\"2021-08-11T00:00:00\",\"2021-08-12T00:00:00\",\"2021-08-13T00:00:00\",\"2021-08-14T00:00:00\",\"2021-08-15T00:00:00\",\"2021-08-16T00:00:00\",\"2021-08-17T00:00:00\",\"2021-08-18T00:00:00\",\"2021-08-19T00:00:00\",\"2021-08-20T00:00:00\",\"2021-08-21T00:00:00\",\"2021-08-22T00:00:00\",\"2021-08-23T00:00:00\",\"2021-08-24T00:00:00\",\"2021-08-25T00:00:00\",\"2021-08-26T00:00:00\",\"2021-08-27T00:00:00\",\"2021-08-28T00:00:00\",\"2021-08-29T00:00:00\",\"2021-08-30T00:00:00\",\"2021-08-31T00:00:00\",\"2021-09-01T00:00:00\",\"2021-09-02T00:00:00\",\"2021-09-03T00:00:00\",\"2021-09-04T00:00:00\",\"2021-09-05T00:00:00\",\"2021-09-06T00:00:00\",\"2021-09-07T00:00:00\",\"2021-09-08T00:00:00\",\"2021-09-09T00:00:00\",\"2021-09-10T00:00:00\",\"2021-09-11T00:00:00\",\"2021-09-12T00:00:00\",\"2021-09-13T00:00:00\",\"2021-09-14T00:00:00\",\"2021-09-15T00:00:00\",\"2021-09-16T00:00:00\",\"2021-09-17T00:00:00\",\"2021-09-18T00:00:00\",\"2021-09-19T00:00:00\",\"2021-09-20T00:00:00\",\"2021-09-21T00:00:00\",\"2021-09-22T00:00:00\",\"2021-09-23T00:00:00\",\"2021-09-24T00:00:00\",\"2021-09-25T00:00:00\",\"2021-09-26T00:00:00\",\"2021-09-27T00:00:00\",\"2021-09-28T00:00:00\",\"2021-09-29T00:00:00\",\"2021-09-30T00:00:00\",\"2021-10-01T00:00:00\",\"2021-10-02T00:00:00\",\"2021-10-03T00:00:00\",\"2021-10-04T00:00:00\",\"2021-10-05T00:00:00\",\"2021-10-06T00:00:00\",\"2021-10-07T00:00:00\",\"2021-10-08T00:00:00\",\"2021-10-09T00:00:00\",\"2021-10-10T00:00:00\",\"2021-10-11T00:00:00\",\"2021-10-12T00:00:00\",\"2021-10-13T00:00:00\",\"2021-10-14T00:00:00\",\"2021-10-15T00:00:00\",\"2021-10-16T00:00:00\",\"2021-10-17T00:00:00\",\"2021-10-18T00:00:00\",\"2021-10-19T00:00:00\",\"2021-10-20T00:00:00\",\"2021-10-21T00:00:00\",\"2021-10-22T00:00:00\",\"2021-10-23T00:00:00\",\"2021-10-24T00:00:00\",\"2021-10-25T00:00:00\",\"2021-10-26T00:00:00\",\"2021-10-27T00:00:00\",\"2021-10-28T00:00:00\",\"2021-10-29T00:00:00\",\"2021-10-30T00:00:00\",\"2021-10-31T00:00:00\",\"2021-11-01T00:00:00\",\"2021-11-02T00:00:00\",\"2021-11-03T00:00:00\",\"2021-11-04T00:00:00\",\"2021-11-05T00:00:00\",\"2021-11-06T00:00:00\",\"2021-11-07T00:00:00\",\"2021-11-08T00:00:00\",\"2021-11-09T00:00:00\",\"2021-11-10T00:00:00\",\"2021-11-11T00:00:00\",\"2021-11-12T00:00:00\",\"2021-11-13T00:00:00\",\"2021-11-14T00:00:00\",\"2021-11-15T00:00:00\",\"2021-11-16T00:00:00\",\"2021-11-17T00:00:00\",\"2021-11-18T00:00:00\",\"2021-11-19T00:00:00\",\"2021-11-20T00:00:00\",\"2021-11-21T00:00:00\",\"2021-11-22T00:00:00\",\"2021-11-23T00:00:00\",\"2021-11-24T00:00:00\",\"2021-11-25T00:00:00\",\"2021-11-26T00:00:00\",\"2021-11-27T00:00:00\",\"2021-11-28T00:00:00\",\"2021-11-29T00:00:00\",\"2021-11-30T00:00:00\",\"2021-12-01T00:00:00\",\"2021-12-02T00:00:00\",\"2021-12-03T00:00:00\",\"2021-12-04T00:00:00\",\"2021-12-05T00:00:00\",\"2021-12-06T00:00:00\",\"2021-12-07T00:00:00\",\"2021-12-08T00:00:00\",\"2021-12-09T00:00:00\",\"2021-12-10T00:00:00\",\"2021-12-11T00:00:00\",\"2021-12-12T00:00:00\",\"2021-12-13T00:00:00\",\"2021-12-14T00:00:00\",\"2021-12-15T00:00:00\",\"2021-12-16T00:00:00\",\"2021-12-17T00:00:00\",\"2021-12-18T00:00:00\",\"2021-12-19T00:00:00\",\"2021-12-20T00:00:00\",\"2021-12-21T00:00:00\",\"2021-12-22T00:00:00\",\"2021-12-23T00:00:00\",\"2021-12-24T00:00:00\",\"2021-12-25T00:00:00\",\"2021-12-26T00:00:00\",\"2021-12-27T00:00:00\",\"2021-12-28T00:00:00\",\"2021-12-29T00:00:00\",\"2021-12-30T00:00:00\",\"2021-12-31T00:00:00\",\"2022-01-01T00:00:00\",\"2022-01-02T00:00:00\",\"2022-01-03T00:00:00\",\"2022-01-04T00:00:00\",\"2022-01-05T00:00:00\",\"2022-01-06T00:00:00\",\"2022-01-07T00:00:00\",\"2022-01-08T00:00:00\",\"2022-01-09T00:00:00\",\"2022-01-10T00:00:00\",\"2022-01-11T00:00:00\",\"2022-01-12T00:00:00\",\"2022-01-13T00:00:00\",\"2022-01-14T00:00:00\",\"2022-01-15T00:00:00\",\"2022-01-16T00:00:00\",\"2022-01-17T00:00:00\",\"2022-01-18T00:00:00\",\"2022-01-19T00:00:00\",\"2022-01-20T00:00:00\",\"2022-01-21T00:00:00\",\"2022-01-22T00:00:00\",\"2022-01-23T00:00:00\",\"2022-01-24T00:00:00\",\"2022-01-25T00:00:00\",\"2022-01-26T00:00:00\",\"2022-01-27T00:00:00\",\"2022-01-28T00:00:00\",\"2022-01-29T00:00:00\",\"2022-01-30T00:00:00\",\"2022-01-31T00:00:00\",\"2022-02-01T00:00:00\",\"2022-02-02T00:00:00\",\"2022-02-03T00:00:00\",\"2022-02-04T00:00:00\",\"2022-02-05T00:00:00\",\"2022-02-06T00:00:00\",\"2022-02-07T00:00:00\",\"2022-02-08T00:00:00\",\"2022-02-09T00:00:00\",\"2022-02-10T00:00:00\",\"2022-02-11T00:00:00\",\"2022-02-12T00:00:00\",\"2022-02-13T00:00:00\",\"2022-02-14T00:00:00\",\"2022-02-15T00:00:00\",\"2022-02-16T00:00:00\",\"2022-02-17T00:00:00\",\"2022-02-18T00:00:00\",\"2022-02-19T00:00:00\",\"2022-02-20T00:00:00\",\"2022-02-21T00:00:00\",\"2022-02-22T00:00:00\",\"2022-02-23T00:00:00\",\"2022-02-24T00:00:00\",\"2022-02-25T00:00:00\",\"2022-02-26T00:00:00\",\"2022-02-27T00:00:00\",\"2022-02-28T00:00:00\",\"2022-03-01T00:00:00\",\"2022-03-02T00:00:00\",\"2022-03-03T00:00:00\",\"2022-03-04T00:00:00\",\"2022-03-05T00:00:00\",\"2022-03-06T00:00:00\",\"2022-03-07T00:00:00\",\"2022-03-08T00:00:00\",\"2022-03-09T00:00:00\",\"2022-03-10T00:00:00\",\"2022-03-11T00:00:00\",\"2022-03-12T00:00:00\",\"2022-03-13T00:00:00\",\"2022-03-14T00:00:00\",\"2022-03-15T00:00:00\",\"2022-03-16T00:00:00\",\"2022-03-17T00:00:00\",\"2022-03-18T00:00:00\",\"2022-03-19T00:00:00\",\"2022-03-20T00:00:00\",\"2022-03-21T00:00:00\",\"2022-03-22T00:00:00\",\"2022-03-23T00:00:00\",\"2022-03-24T00:00:00\",\"2022-03-25T00:00:00\",\"2022-03-26T00:00:00\",\"2022-03-27T00:00:00\",\"2022-03-28T00:00:00\",\"2022-03-29T00:00:00\",\"2022-03-30T00:00:00\",\"2022-03-31T00:00:00\",\"2022-04-01T00:00:00\",\"2022-04-02T00:00:00\",\"2022-04-03T00:00:00\",\"2022-04-04T00:00:00\",\"2022-04-05T00:00:00\",\"2022-04-06T00:00:00\",\"2022-04-07T00:00:00\",\"2022-04-08T00:00:00\",\"2022-04-09T00:00:00\",\"2022-04-10T00:00:00\",\"2022-04-11T00:00:00\",\"2022-04-12T00:00:00\",\"2022-04-13T00:00:00\",\"2022-04-14T00:00:00\",\"2022-04-15T00:00:00\",\"2022-04-16T00:00:00\",\"2022-04-17T00:00:00\",\"2022-04-18T00:00:00\",\"2022-04-19T00:00:00\",\"2022-04-20T00:00:00\",\"2022-04-21T00:00:00\",\"2022-04-22T00:00:00\",\"2022-04-23T00:00:00\",\"2022-04-24T00:00:00\",\"2022-04-25T00:00:00\",\"2022-04-26T00:00:00\",\"2022-04-27T00:00:00\",\"2022-04-28T00:00:00\",\"2022-04-29T00:00:00\",\"2022-04-30T00:00:00\",\"2022-05-01T00:00:00\",\"2022-05-02T00:00:00\",\"2022-05-03T00:00:00\",\"2022-05-04T00:00:00\",\"2022-05-05T00:00:00\",\"2022-05-06T00:00:00\",\"2022-05-07T00:00:00\",\"2022-05-08T00:00:00\",\"2022-05-09T00:00:00\",\"2022-05-10T00:00:00\",\"2022-05-11T00:00:00\",\"2022-05-12T00:00:00\",\"2022-05-13T00:00:00\",\"2022-05-14T00:00:00\",\"2022-05-15T00:00:00\",\"2022-05-16T00:00:00\",\"2022-05-17T00:00:00\",\"2022-05-18T00:00:00\",\"2022-05-19T00:00:00\",\"2022-05-20T00:00:00\",\"2022-05-21T00:00:00\",\"2022-05-22T00:00:00\",\"2022-05-23T00:00:00\",\"2022-05-24T00:00:00\",\"2022-05-25T00:00:00\",\"2022-05-26T00:00:00\",\"2022-05-27T00:00:00\",\"2022-05-28T00:00:00\",\"2022-05-29T00:00:00\",\"2022-05-30T00:00:00\",\"2022-05-31T00:00:00\",\"2022-06-01T00:00:00\",\"2022-06-02T00:00:00\",\"2022-06-03T00:00:00\",\"2022-06-04T00:00:00\",\"2022-06-05T00:00:00\",\"2022-06-06T00:00:00\",\"2022-06-07T00:00:00\",\"2022-06-08T00:00:00\",\"2022-06-09T00:00:00\",\"2022-06-11T00:00:00\"],\"xaxis\":\"x\",\"y\":[null,null,null,null,null,null,null,null,null,null,null,null,null,null,null,null,null,null,null,null,null,null,null,null,null,null,null,null,null,null,null,null,null,null,null,null,null,null,null,null,null,null,null,null,null,null,null,null,null,null,null,null,null,null,null,null,null,null,null,null,null,null,null,null,null,null,null,null,null,null,null,null,null,null,null,null,null,null,null,null,null,null,null,null,null,null,null,null,null,null,null,null,null,null,null,null,null,null,null,null,null,null,null,null,null,null,null,null,null,null,null,null,null,null,null,null,null,null,null,null,null,null,null,null,null,null,null,null,null,null,null,null,null,null,null,null,null,null,null,null,null,null,null,null,null,null,null,null,null,null,null,null,null,null,null,null,null,null,null,null,null,null,null,null,null,null,null,null,null,null,null,null,null,null,null,null,null,null,null,null,null,null,null,null,null,null,null,null,null,null,null,null,null,null,null,null,null,null,null,null,null,null,null,null,null,null,null,null,null,null,null,null,null,null,null,null,null,null,null,null,null,null,null,null,null,null,null,null,null,null,null,null,null,null,null,null,null,null,null,null,null,null,null,null,null,null,null,null,null,null,null,null,null,null,null,null,null,null,null,null,null,null,null,null,null,null,null,null,null,null,null,null,null,null,null,null,null,null,null,null,null,null,null,null,null,null,null,null,null,null,null,null,null,null,null,null,null,null,null,null,null,null,null,null,null,null,null,41553.9375,40708.08984375,41126.203125,41018.296875,40382.15625,41188.4765625,41841.83203125,41878.83984375,41188.55078125,40440.9140625,40097.9375,40075.5390625,40931.7421875,39187.87890625,39788.359375,40277.76171875,39438.76171875,38593.73828125,39058.6796875,39154.26953125,38532.48828125,40070.40625,37727.40234375,36950.2109375,36321.296875,35052.953125,31737.671875,31913.052734375,30152.357421875,30150.0390625,30484.236328125,31423.2265625,32746.96875,31525.080078125,31967.5625,30292.830078125,31795.880859375,30813.005859375,31104.208984375,32054.330078125,30855.9609375,31420.8671875,31359.76171875,31059.529296875,30397.095703125,30602.3125,31319.578125,33717.34375,33757.35546875,31629.6796875,32127.404296875,31313.314453125,31437.685546875,31535.37109375,33076.59375,32862.7734375,31855.974609375,null],\"yaxis\":\"y\",\"type\":\"scattergl\"}],                        {\"template\":{\"data\":{\"bar\":[{\"error_x\":{\"color\":\"#2a3f5f\"},\"error_y\":{\"color\":\"#2a3f5f\"},\"marker\":{\"line\":{\"color\":\"#E5ECF6\",\"width\":0.5},\"pattern\":{\"fillmode\":\"overlay\",\"size\":10,\"solidity\":0.2}},\"type\":\"bar\"}],\"barpolar\":[{\"marker\":{\"line\":{\"color\":\"#E5ECF6\",\"width\":0.5},\"pattern\":{\"fillmode\":\"overlay\",\"size\":10,\"solidity\":0.2}},\"type\":\"barpolar\"}],\"carpet\":[{\"aaxis\":{\"endlinecolor\":\"#2a3f5f\",\"gridcolor\":\"white\",\"linecolor\":\"white\",\"minorgridcolor\":\"white\",\"startlinecolor\":\"#2a3f5f\"},\"baxis\":{\"endlinecolor\":\"#2a3f5f\",\"gridcolor\":\"white\",\"linecolor\":\"white\",\"minorgridcolor\":\"white\",\"startlinecolor\":\"#2a3f5f\"},\"type\":\"carpet\"}],\"choropleth\":[{\"colorbar\":{\"outlinewidth\":0,\"ticks\":\"\"},\"type\":\"choropleth\"}],\"contour\":[{\"colorbar\":{\"outlinewidth\":0,\"ticks\":\"\"},\"colorscale\":[[0.0,\"#0d0887\"],[0.1111111111111111,\"#46039f\"],[0.2222222222222222,\"#7201a8\"],[0.3333333333333333,\"#9c179e\"],[0.4444444444444444,\"#bd3786\"],[0.5555555555555556,\"#d8576b\"],[0.6666666666666666,\"#ed7953\"],[0.7777777777777778,\"#fb9f3a\"],[0.8888888888888888,\"#fdca26\"],[1.0,\"#f0f921\"]],\"type\":\"contour\"}],\"contourcarpet\":[{\"colorbar\":{\"outlinewidth\":0,\"ticks\":\"\"},\"type\":\"contourcarpet\"}],\"heatmap\":[{\"colorbar\":{\"outlinewidth\":0,\"ticks\":\"\"},\"colorscale\":[[0.0,\"#0d0887\"],[0.1111111111111111,\"#46039f\"],[0.2222222222222222,\"#7201a8\"],[0.3333333333333333,\"#9c179e\"],[0.4444444444444444,\"#bd3786\"],[0.5555555555555556,\"#d8576b\"],[0.6666666666666666,\"#ed7953\"],[0.7777777777777778,\"#fb9f3a\"],[0.8888888888888888,\"#fdca26\"],[1.0,\"#f0f921\"]],\"type\":\"heatmap\"}],\"heatmapgl\":[{\"colorbar\":{\"outlinewidth\":0,\"ticks\":\"\"},\"colorscale\":[[0.0,\"#0d0887\"],[0.1111111111111111,\"#46039f\"],[0.2222222222222222,\"#7201a8\"],[0.3333333333333333,\"#9c179e\"],[0.4444444444444444,\"#bd3786\"],[0.5555555555555556,\"#d8576b\"],[0.6666666666666666,\"#ed7953\"],[0.7777777777777778,\"#fb9f3a\"],[0.8888888888888888,\"#fdca26\"],[1.0,\"#f0f921\"]],\"type\":\"heatmapgl\"}],\"histogram\":[{\"marker\":{\"pattern\":{\"fillmode\":\"overlay\",\"size\":10,\"solidity\":0.2}},\"type\":\"histogram\"}],\"histogram2d\":[{\"colorbar\":{\"outlinewidth\":0,\"ticks\":\"\"},\"colorscale\":[[0.0,\"#0d0887\"],[0.1111111111111111,\"#46039f\"],[0.2222222222222222,\"#7201a8\"],[0.3333333333333333,\"#9c179e\"],[0.4444444444444444,\"#bd3786\"],[0.5555555555555556,\"#d8576b\"],[0.6666666666666666,\"#ed7953\"],[0.7777777777777778,\"#fb9f3a\"],[0.8888888888888888,\"#fdca26\"],[1.0,\"#f0f921\"]],\"type\":\"histogram2d\"}],\"histogram2dcontour\":[{\"colorbar\":{\"outlinewidth\":0,\"ticks\":\"\"},\"colorscale\":[[0.0,\"#0d0887\"],[0.1111111111111111,\"#46039f\"],[0.2222222222222222,\"#7201a8\"],[0.3333333333333333,\"#9c179e\"],[0.4444444444444444,\"#bd3786\"],[0.5555555555555556,\"#d8576b\"],[0.6666666666666666,\"#ed7953\"],[0.7777777777777778,\"#fb9f3a\"],[0.8888888888888888,\"#fdca26\"],[1.0,\"#f0f921\"]],\"type\":\"histogram2dcontour\"}],\"mesh3d\":[{\"colorbar\":{\"outlinewidth\":0,\"ticks\":\"\"},\"type\":\"mesh3d\"}],\"parcoords\":[{\"line\":{\"colorbar\":{\"outlinewidth\":0,\"ticks\":\"\"}},\"type\":\"parcoords\"}],\"pie\":[{\"automargin\":true,\"type\":\"pie\"}],\"scatter\":[{\"marker\":{\"colorbar\":{\"outlinewidth\":0,\"ticks\":\"\"}},\"type\":\"scatter\"}],\"scatter3d\":[{\"line\":{\"colorbar\":{\"outlinewidth\":0,\"ticks\":\"\"}},\"marker\":{\"colorbar\":{\"outlinewidth\":0,\"ticks\":\"\"}},\"type\":\"scatter3d\"}],\"scattercarpet\":[{\"marker\":{\"colorbar\":{\"outlinewidth\":0,\"ticks\":\"\"}},\"type\":\"scattercarpet\"}],\"scattergeo\":[{\"marker\":{\"colorbar\":{\"outlinewidth\":0,\"ticks\":\"\"}},\"type\":\"scattergeo\"}],\"scattergl\":[{\"marker\":{\"colorbar\":{\"outlinewidth\":0,\"ticks\":\"\"}},\"type\":\"scattergl\"}],\"scattermapbox\":[{\"marker\":{\"colorbar\":{\"outlinewidth\":0,\"ticks\":\"\"}},\"type\":\"scattermapbox\"}],\"scatterpolar\":[{\"marker\":{\"colorbar\":{\"outlinewidth\":0,\"ticks\":\"\"}},\"type\":\"scatterpolar\"}],\"scatterpolargl\":[{\"marker\":{\"colorbar\":{\"outlinewidth\":0,\"ticks\":\"\"}},\"type\":\"scatterpolargl\"}],\"scatterternary\":[{\"marker\":{\"colorbar\":{\"outlinewidth\":0,\"ticks\":\"\"}},\"type\":\"scatterternary\"}],\"surface\":[{\"colorbar\":{\"outlinewidth\":0,\"ticks\":\"\"},\"colorscale\":[[0.0,\"#0d0887\"],[0.1111111111111111,\"#46039f\"],[0.2222222222222222,\"#7201a8\"],[0.3333333333333333,\"#9c179e\"],[0.4444444444444444,\"#bd3786\"],[0.5555555555555556,\"#d8576b\"],[0.6666666666666666,\"#ed7953\"],[0.7777777777777778,\"#fb9f3a\"],[0.8888888888888888,\"#fdca26\"],[1.0,\"#f0f921\"]],\"type\":\"surface\"}],\"table\":[{\"cells\":{\"fill\":{\"color\":\"#EBF0F8\"},\"line\":{\"color\":\"white\"}},\"header\":{\"fill\":{\"color\":\"#C8D4E3\"},\"line\":{\"color\":\"white\"}},\"type\":\"table\"}]},\"layout\":{\"annotationdefaults\":{\"arrowcolor\":\"#2a3f5f\",\"arrowhead\":0,\"arrowwidth\":1},\"autotypenumbers\":\"strict\",\"coloraxis\":{\"colorbar\":{\"outlinewidth\":0,\"ticks\":\"\"}},\"colorscale\":{\"diverging\":[[0,\"#8e0152\"],[0.1,\"#c51b7d\"],[0.2,\"#de77ae\"],[0.3,\"#f1b6da\"],[0.4,\"#fde0ef\"],[0.5,\"#f7f7f7\"],[0.6,\"#e6f5d0\"],[0.7,\"#b8e186\"],[0.8,\"#7fbc41\"],[0.9,\"#4d9221\"],[1,\"#276419\"]],\"sequential\":[[0.0,\"#0d0887\"],[0.1111111111111111,\"#46039f\"],[0.2222222222222222,\"#7201a8\"],[0.3333333333333333,\"#9c179e\"],[0.4444444444444444,\"#bd3786\"],[0.5555555555555556,\"#d8576b\"],[0.6666666666666666,\"#ed7953\"],[0.7777777777777778,\"#fb9f3a\"],[0.8888888888888888,\"#fdca26\"],[1.0,\"#f0f921\"]],\"sequentialminus\":[[0.0,\"#0d0887\"],[0.1111111111111111,\"#46039f\"],[0.2222222222222222,\"#7201a8\"],[0.3333333333333333,\"#9c179e\"],[0.4444444444444444,\"#bd3786\"],[0.5555555555555556,\"#d8576b\"],[0.6666666666666666,\"#ed7953\"],[0.7777777777777778,\"#fb9f3a\"],[0.8888888888888888,\"#fdca26\"],[1.0,\"#f0f921\"]]},\"colorway\":[\"#636efa\",\"#EF553B\",\"#00cc96\",\"#ab63fa\",\"#FFA15A\",\"#19d3f3\",\"#FF6692\",\"#B6E880\",\"#FF97FF\",\"#FECB52\"],\"font\":{\"color\":\"#2a3f5f\"},\"geo\":{\"bgcolor\":\"white\",\"lakecolor\":\"white\",\"landcolor\":\"#E5ECF6\",\"showlakes\":true,\"showland\":true,\"subunitcolor\":\"white\"},\"hoverlabel\":{\"align\":\"left\"},\"hovermode\":\"closest\",\"mapbox\":{\"style\":\"light\"},\"paper_bgcolor\":\"white\",\"plot_bgcolor\":\"#E5ECF6\",\"polar\":{\"angularaxis\":{\"gridcolor\":\"white\",\"linecolor\":\"white\",\"ticks\":\"\"},\"bgcolor\":\"#E5ECF6\",\"radialaxis\":{\"gridcolor\":\"white\",\"linecolor\":\"white\",\"ticks\":\"\"}},\"scene\":{\"xaxis\":{\"backgroundcolor\":\"#E5ECF6\",\"gridcolor\":\"white\",\"gridwidth\":2,\"linecolor\":\"white\",\"showbackground\":true,\"ticks\":\"\",\"zerolinecolor\":\"white\"},\"yaxis\":{\"backgroundcolor\":\"#E5ECF6\",\"gridcolor\":\"white\",\"gridwidth\":2,\"linecolor\":\"white\",\"showbackground\":true,\"ticks\":\"\",\"zerolinecolor\":\"white\"},\"zaxis\":{\"backgroundcolor\":\"#E5ECF6\",\"gridcolor\":\"white\",\"gridwidth\":2,\"linecolor\":\"white\",\"showbackground\":true,\"ticks\":\"\",\"zerolinecolor\":\"white\"}},\"shapedefaults\":{\"line\":{\"color\":\"#2a3f5f\"}},\"ternary\":{\"aaxis\":{\"gridcolor\":\"white\",\"linecolor\":\"white\",\"ticks\":\"\"},\"baxis\":{\"gridcolor\":\"white\",\"linecolor\":\"white\",\"ticks\":\"\"},\"bgcolor\":\"#E5ECF6\",\"caxis\":{\"gridcolor\":\"white\",\"linecolor\":\"white\",\"ticks\":\"\"}},\"title\":{\"x\":0.05},\"xaxis\":{\"automargin\":true,\"gridcolor\":\"white\",\"linecolor\":\"white\",\"ticks\":\"\",\"title\":{\"standoff\":15},\"zerolinecolor\":\"white\",\"zerolinewidth\":2},\"yaxis\":{\"automargin\":true,\"gridcolor\":\"white\",\"linecolor\":\"white\",\"ticks\":\"\",\"title\":{\"standoff\":15},\"zerolinecolor\":\"white\",\"zerolinewidth\":2}}},\"xaxis\":{\"anchor\":\"y\",\"domain\":[0.0,1.0],\"title\":{\"text\":\"Tanggal\"},\"showgrid\":false},\"yaxis\":{\"anchor\":\"x\",\"domain\":[0.0,1.0],\"title\":{\"text\":\"Harga\"},\"showgrid\":false},\"legend\":{\"title\":{\"text\":\"Harga Close\"},\"tracegroupgap\":0},\"margin\":{\"t\":60},\"title\":{\"text\":\"Perbandingan antara Harga close original  vs Harga Close Prediksi\"},\"font\":{\"size\":15,\"color\":\"black\"},\"plot_bgcolor\":\"white\"},                        {\"responsive\": true}                    ).then(function(){\n",
              "                            \n",
              "var gd = document.getElementById('0aa3449d-b1a9-4701-b18d-9a3b320267d5');\n",
              "var x = new MutationObserver(function (mutations, observer) {{\n",
              "        var display = window.getComputedStyle(gd).display;\n",
              "        if (!display || display === 'none') {{\n",
              "            console.log([gd, 'removed!']);\n",
              "            Plotly.purge(gd);\n",
              "            observer.disconnect();\n",
              "        }}\n",
              "}});\n",
              "\n",
              "// Listen for the removal of the full notebook cells\n",
              "var notebookContainer = gd.closest('#notebook-container');\n",
              "if (notebookContainer) {{\n",
              "    x.observe(notebookContainer, {childList: true});\n",
              "}}\n",
              "\n",
              "// Listen for the clearing of the current output cell\n",
              "var outputEl = gd.closest('.output');\n",
              "if (outputEl) {{\n",
              "    x.observe(outputEl, {childList: true});\n",
              "}}\n",
              "\n",
              "                        })                };                            </script>        </div>\n",
              "</body>\n",
              "</html>"
            ]
          },
          "metadata": {}
        }
      ]
    },
    {
      "cell_type": "code",
      "source": [
        "# coba prediksi 30 hari kedepan\n",
        "\n",
        "x_input=test_data[len(test_data)-time_step:].reshape(1,-1) #x_input akan berisi data dari test_data\n",
        "temp_input=list(x_input)\n",
        "temp_input=temp_input[0].tolist()\n",
        "\n",
        "from numpy import array\n",
        "\n",
        "lst_output=[]\n",
        "n_steps=time_step\n",
        "i=0\n",
        "pred_days = 30\n",
        "while(i<pred_days):\n",
        "    \n",
        "    if(len(temp_input)>time_step):\n",
        "        \n",
        "        x_input=np.array(temp_input[1:])\n",
        "        #print(\"{} day input {}\".format(i,x_input))\n",
        "        x_input = x_input.reshape(1,-1)\n",
        "        x_input = x_input.reshape((1, n_steps, 1))\n",
        "        \n",
        "        yhat = model.predict(x_input, verbose=0)\n",
        "        #print(\"{} day output {}\".format(i,yhat))\n",
        "        temp_input.extend(yhat[0].tolist())\n",
        "        temp_input=temp_input[1:]\n",
        "        #print(temp_input)\n",
        "       \n",
        "        lst_output.extend(yhat.tolist())\n",
        "        i=i+1\n",
        "        \n",
        "    else:\n",
        "        \n",
        "        x_input = x_input.reshape((1, n_steps,1))\n",
        "        yhat = model.predict(x_input, verbose=0)\n",
        "        temp_input.extend(yhat[0].tolist())\n",
        "        \n",
        "        lst_output.extend(yhat.tolist())\n",
        "        i=i+1\n",
        "               \n",
        "print(\"Output of predicted next days: \", len(lst_output))"
      ],
      "metadata": {
        "colab": {
          "base_uri": "https://localhost:8080/"
        },
        "id": "5X9ADKBgTX7z",
        "outputId": "d28052cd-b1d7-4926-8671-01951efbf68e"
      },
      "execution_count": 37,
      "outputs": [
        {
          "output_type": "stream",
          "name": "stdout",
          "text": [
            "Output of predicted next days:  30\n"
          ]
        }
      ]
    },
    {
      "cell_type": "code",
      "source": [
        "\n",
        "# plotting data 15 hari sebelumnya untuk memprediksi 30 hari kedepan\n",
        "last_days=np.arange(1,time_step+1)\n",
        "day_pred=np.arange(time_step+1,time_step+pred_days+1)\n",
        "print(last_days)\n",
        "print(day_pred)\n",
        "\n"
      ],
      "metadata": {
        "colab": {
          "base_uri": "https://localhost:8080/"
        },
        "id": "K6CiswvfTX_G",
        "outputId": "83e26656-ccab-4a36-9d3a-8863808bba83"
      },
      "execution_count": 38,
      "outputs": [
        {
          "output_type": "stream",
          "name": "stdout",
          "text": [
            "[ 1  2  3  4  5  6  7  8  9 10 11 12 13 14 15]\n",
            "[16 17 18 19 20 21 22 23 24 25 26 27 28 29 30 31 32 33 34 35 36 37 38 39\n",
            " 40 41 42 43 44 45]\n"
          ]
        }
      ]
    },
    {
      "cell_type": "code",
      "source": [
        "#tampilkan hasil prediksi 30 hari kedepan\n",
        "temp_mat = np.empty((len(last_days)+pred_days+1,1))\n",
        "temp_mat[:] = np.nan\n",
        "temp_mat = temp_mat.reshape(1,-1).tolist()[0]\n",
        "\n",
        "last_original_days_value = temp_mat\n",
        "next_predicted_days_value = temp_mat\n",
        "\n",
        "last_original_days_value[0:time_step+1] = scaler.inverse_transform(closedf[len(closedf)-time_step:]).reshape(1,-1).tolist()[0]\n",
        "next_predicted_days_value[time_step+1:] = scaler.inverse_transform(np.array(lst_output).reshape(-1,1)).reshape(1,-1).tolist()[0]\n",
        "\n",
        "new_pred_plot = pd.DataFrame({\n",
        "    'last_original_days_value':last_original_days_value,\n",
        "    'next_predicted_days_value':next_predicted_days_value\n",
        "})\n",
        "\n",
        "names = cycle(['Last 15 days close price','Predicted next 30 days close price'])\n",
        "\n",
        "fig = px.line(new_pred_plot,x=new_pred_plot.index, y=[new_pred_plot['last_original_days_value'],\n",
        "                                                      new_pred_plot['next_predicted_days_value']],\n",
        "              labels={'value': 'Harga','index': 'Timestamp'})\n",
        "fig.update_layout(title_text='Compare last 15 days vs next 30 days',\n",
        "                  plot_bgcolor='white', font_size=15, font_color='black',legend_title_text='Harga Close')\n",
        "\n",
        "fig.for_each_trace(lambda t:  t.update(name = next(names)))\n",
        "fig.update_xaxes(showgrid=False)\n",
        "fig.update_yaxes(showgrid=False)\n",
        "fig.show()"
      ],
      "metadata": {
        "colab": {
          "base_uri": "https://localhost:8080/",
          "height": 542
        },
        "id": "VQLyFGZ2TYC6",
        "outputId": "ac9d0230-872b-464c-9813-03bb07fcc5aa"
      },
      "execution_count": 39,
      "outputs": [
        {
          "output_type": "display_data",
          "data": {
            "text/html": [
              "<html>\n",
              "<head><meta charset=\"utf-8\" /></head>\n",
              "<body>\n",
              "    <div>            <script src=\"https://cdnjs.cloudflare.com/ajax/libs/mathjax/2.7.5/MathJax.js?config=TeX-AMS-MML_SVG\"></script><script type=\"text/javascript\">if (window.MathJax) {MathJax.Hub.Config({SVG: {font: \"STIX-Web\"}});}</script>                <script type=\"text/javascript\">window.PlotlyConfig = {MathJaxConfig: 'local'};</script>\n",
              "        <script src=\"https://cdn.plot.ly/plotly-2.8.3.min.js\"></script>                <div id=\"2c5572b4-3358-43fe-b293-f99a20e596b6\" class=\"plotly-graph-div\" style=\"height:525px; width:100%;\"></div>            <script type=\"text/javascript\">                                    window.PLOTLYENV=window.PLOTLYENV || {};                                    if (document.getElementById(\"2c5572b4-3358-43fe-b293-f99a20e596b6\")) {                    Plotly.newPlot(                        \"2c5572b4-3358-43fe-b293-f99a20e596b6\",                        [{\"hovertemplate\":\"variable=last_original_days_value<br>Timestamp=%{x}<br>Harga=%{y}<extra></extra>\",\"legendgroup\":\"last_original_days_value\",\"line\":{\"color\":\"#636efa\",\"dash\":\"solid\"},\"marker\":{\"symbol\":\"circle\"},\"mode\":\"lines\",\"name\":\"Last 15 days close price\",\"orientation\":\"v\",\"showlegend\":true,\"x\":[0,1,2,3,4,5,6,7,8,9,10,11,12,13,14,15,16,17,18,19,20,21,22,23,24,25,26,27,28,29,30,31,32,33,34,35,36,37,38,39,40,41,42,43,44,45],\"xaxis\":\"x\",\"y\":[28627.574219,28814.900391,29445.957031,31726.390625,31792.310547,29799.080078,30467.488281,29704.390625,29832.914063,29906.662109,31370.671875,31155.478516,30214.355469,30111.998047,29197.939453,null,30700.836790289366,32162.96350791407,33672.3597753419,35204.934603893285,36668.43533007294,37951.588729813084,38966.70543787876,39722.68401643163,40262.0821755491,40636.375335393495,40915.876991188474,41175.94872702093,41478.44181650746,41857.6205979873,42322.47183011719,42831.48165475823,43339.80215416139,43827.76899136407,44274.081552323834,44682.54040969059,45059.63148729343,45414.10364534842,45750.95043014946,46073.39681616802,46381.82808282998,46678.12768949743,46963.27508145783,47238.008324117414,47501.7796708225,47752.92035104773],\"yaxis\":\"y\",\"type\":\"scatter\"},{\"hovertemplate\":\"variable=next_predicted_days_value<br>Timestamp=%{x}<br>Harga=%{y}<extra></extra>\",\"legendgroup\":\"next_predicted_days_value\",\"line\":{\"color\":\"#EF553B\",\"dash\":\"solid\"},\"marker\":{\"symbol\":\"circle\"},\"mode\":\"lines\",\"name\":\"Predicted next 30 days close price\",\"orientation\":\"v\",\"showlegend\":true,\"x\":[0,1,2,3,4,5,6,7,8,9,10,11,12,13,14,15,16,17,18,19,20,21,22,23,24,25,26,27,28,29,30,31,32,33,34,35,36,37,38,39,40,41,42,43,44,45],\"xaxis\":\"x\",\"y\":[28627.574219,28814.900391,29445.957031,31726.390625,31792.310547,29799.080078,30467.488281,29704.390625,29832.914063,29906.662109,31370.671875,31155.478516,30214.355469,30111.998047,29197.939453,null,30700.836790289366,32162.96350791407,33672.3597753419,35204.934603893285,36668.43533007294,37951.588729813084,38966.70543787876,39722.68401643163,40262.0821755491,40636.375335393495,40915.876991188474,41175.94872702093,41478.44181650746,41857.6205979873,42322.47183011719,42831.48165475823,43339.80215416139,43827.76899136407,44274.081552323834,44682.54040969059,45059.63148729343,45414.10364534842,45750.95043014946,46073.39681616802,46381.82808282998,46678.12768949743,46963.27508145783,47238.008324117414,47501.7796708225,47752.92035104773],\"yaxis\":\"y\",\"type\":\"scatter\"}],                        {\"template\":{\"data\":{\"bar\":[{\"error_x\":{\"color\":\"#2a3f5f\"},\"error_y\":{\"color\":\"#2a3f5f\"},\"marker\":{\"line\":{\"color\":\"#E5ECF6\",\"width\":0.5},\"pattern\":{\"fillmode\":\"overlay\",\"size\":10,\"solidity\":0.2}},\"type\":\"bar\"}],\"barpolar\":[{\"marker\":{\"line\":{\"color\":\"#E5ECF6\",\"width\":0.5},\"pattern\":{\"fillmode\":\"overlay\",\"size\":10,\"solidity\":0.2}},\"type\":\"barpolar\"}],\"carpet\":[{\"aaxis\":{\"endlinecolor\":\"#2a3f5f\",\"gridcolor\":\"white\",\"linecolor\":\"white\",\"minorgridcolor\":\"white\",\"startlinecolor\":\"#2a3f5f\"},\"baxis\":{\"endlinecolor\":\"#2a3f5f\",\"gridcolor\":\"white\",\"linecolor\":\"white\",\"minorgridcolor\":\"white\",\"startlinecolor\":\"#2a3f5f\"},\"type\":\"carpet\"}],\"choropleth\":[{\"colorbar\":{\"outlinewidth\":0,\"ticks\":\"\"},\"type\":\"choropleth\"}],\"contour\":[{\"colorbar\":{\"outlinewidth\":0,\"ticks\":\"\"},\"colorscale\":[[0.0,\"#0d0887\"],[0.1111111111111111,\"#46039f\"],[0.2222222222222222,\"#7201a8\"],[0.3333333333333333,\"#9c179e\"],[0.4444444444444444,\"#bd3786\"],[0.5555555555555556,\"#d8576b\"],[0.6666666666666666,\"#ed7953\"],[0.7777777777777778,\"#fb9f3a\"],[0.8888888888888888,\"#fdca26\"],[1.0,\"#f0f921\"]],\"type\":\"contour\"}],\"contourcarpet\":[{\"colorbar\":{\"outlinewidth\":0,\"ticks\":\"\"},\"type\":\"contourcarpet\"}],\"heatmap\":[{\"colorbar\":{\"outlinewidth\":0,\"ticks\":\"\"},\"colorscale\":[[0.0,\"#0d0887\"],[0.1111111111111111,\"#46039f\"],[0.2222222222222222,\"#7201a8\"],[0.3333333333333333,\"#9c179e\"],[0.4444444444444444,\"#bd3786\"],[0.5555555555555556,\"#d8576b\"],[0.6666666666666666,\"#ed7953\"],[0.7777777777777778,\"#fb9f3a\"],[0.8888888888888888,\"#fdca26\"],[1.0,\"#f0f921\"]],\"type\":\"heatmap\"}],\"heatmapgl\":[{\"colorbar\":{\"outlinewidth\":0,\"ticks\":\"\"},\"colorscale\":[[0.0,\"#0d0887\"],[0.1111111111111111,\"#46039f\"],[0.2222222222222222,\"#7201a8\"],[0.3333333333333333,\"#9c179e\"],[0.4444444444444444,\"#bd3786\"],[0.5555555555555556,\"#d8576b\"],[0.6666666666666666,\"#ed7953\"],[0.7777777777777778,\"#fb9f3a\"],[0.8888888888888888,\"#fdca26\"],[1.0,\"#f0f921\"]],\"type\":\"heatmapgl\"}],\"histogram\":[{\"marker\":{\"pattern\":{\"fillmode\":\"overlay\",\"size\":10,\"solidity\":0.2}},\"type\":\"histogram\"}],\"histogram2d\":[{\"colorbar\":{\"outlinewidth\":0,\"ticks\":\"\"},\"colorscale\":[[0.0,\"#0d0887\"],[0.1111111111111111,\"#46039f\"],[0.2222222222222222,\"#7201a8\"],[0.3333333333333333,\"#9c179e\"],[0.4444444444444444,\"#bd3786\"],[0.5555555555555556,\"#d8576b\"],[0.6666666666666666,\"#ed7953\"],[0.7777777777777778,\"#fb9f3a\"],[0.8888888888888888,\"#fdca26\"],[1.0,\"#f0f921\"]],\"type\":\"histogram2d\"}],\"histogram2dcontour\":[{\"colorbar\":{\"outlinewidth\":0,\"ticks\":\"\"},\"colorscale\":[[0.0,\"#0d0887\"],[0.1111111111111111,\"#46039f\"],[0.2222222222222222,\"#7201a8\"],[0.3333333333333333,\"#9c179e\"],[0.4444444444444444,\"#bd3786\"],[0.5555555555555556,\"#d8576b\"],[0.6666666666666666,\"#ed7953\"],[0.7777777777777778,\"#fb9f3a\"],[0.8888888888888888,\"#fdca26\"],[1.0,\"#f0f921\"]],\"type\":\"histogram2dcontour\"}],\"mesh3d\":[{\"colorbar\":{\"outlinewidth\":0,\"ticks\":\"\"},\"type\":\"mesh3d\"}],\"parcoords\":[{\"line\":{\"colorbar\":{\"outlinewidth\":0,\"ticks\":\"\"}},\"type\":\"parcoords\"}],\"pie\":[{\"automargin\":true,\"type\":\"pie\"}],\"scatter\":[{\"marker\":{\"colorbar\":{\"outlinewidth\":0,\"ticks\":\"\"}},\"type\":\"scatter\"}],\"scatter3d\":[{\"line\":{\"colorbar\":{\"outlinewidth\":0,\"ticks\":\"\"}},\"marker\":{\"colorbar\":{\"outlinewidth\":0,\"ticks\":\"\"}},\"type\":\"scatter3d\"}],\"scattercarpet\":[{\"marker\":{\"colorbar\":{\"outlinewidth\":0,\"ticks\":\"\"}},\"type\":\"scattercarpet\"}],\"scattergeo\":[{\"marker\":{\"colorbar\":{\"outlinewidth\":0,\"ticks\":\"\"}},\"type\":\"scattergeo\"}],\"scattergl\":[{\"marker\":{\"colorbar\":{\"outlinewidth\":0,\"ticks\":\"\"}},\"type\":\"scattergl\"}],\"scattermapbox\":[{\"marker\":{\"colorbar\":{\"outlinewidth\":0,\"ticks\":\"\"}},\"type\":\"scattermapbox\"}],\"scatterpolar\":[{\"marker\":{\"colorbar\":{\"outlinewidth\":0,\"ticks\":\"\"}},\"type\":\"scatterpolar\"}],\"scatterpolargl\":[{\"marker\":{\"colorbar\":{\"outlinewidth\":0,\"ticks\":\"\"}},\"type\":\"scatterpolargl\"}],\"scatterternary\":[{\"marker\":{\"colorbar\":{\"outlinewidth\":0,\"ticks\":\"\"}},\"type\":\"scatterternary\"}],\"surface\":[{\"colorbar\":{\"outlinewidth\":0,\"ticks\":\"\"},\"colorscale\":[[0.0,\"#0d0887\"],[0.1111111111111111,\"#46039f\"],[0.2222222222222222,\"#7201a8\"],[0.3333333333333333,\"#9c179e\"],[0.4444444444444444,\"#bd3786\"],[0.5555555555555556,\"#d8576b\"],[0.6666666666666666,\"#ed7953\"],[0.7777777777777778,\"#fb9f3a\"],[0.8888888888888888,\"#fdca26\"],[1.0,\"#f0f921\"]],\"type\":\"surface\"}],\"table\":[{\"cells\":{\"fill\":{\"color\":\"#EBF0F8\"},\"line\":{\"color\":\"white\"}},\"header\":{\"fill\":{\"color\":\"#C8D4E3\"},\"line\":{\"color\":\"white\"}},\"type\":\"table\"}]},\"layout\":{\"annotationdefaults\":{\"arrowcolor\":\"#2a3f5f\",\"arrowhead\":0,\"arrowwidth\":1},\"autotypenumbers\":\"strict\",\"coloraxis\":{\"colorbar\":{\"outlinewidth\":0,\"ticks\":\"\"}},\"colorscale\":{\"diverging\":[[0,\"#8e0152\"],[0.1,\"#c51b7d\"],[0.2,\"#de77ae\"],[0.3,\"#f1b6da\"],[0.4,\"#fde0ef\"],[0.5,\"#f7f7f7\"],[0.6,\"#e6f5d0\"],[0.7,\"#b8e186\"],[0.8,\"#7fbc41\"],[0.9,\"#4d9221\"],[1,\"#276419\"]],\"sequential\":[[0.0,\"#0d0887\"],[0.1111111111111111,\"#46039f\"],[0.2222222222222222,\"#7201a8\"],[0.3333333333333333,\"#9c179e\"],[0.4444444444444444,\"#bd3786\"],[0.5555555555555556,\"#d8576b\"],[0.6666666666666666,\"#ed7953\"],[0.7777777777777778,\"#fb9f3a\"],[0.8888888888888888,\"#fdca26\"],[1.0,\"#f0f921\"]],\"sequentialminus\":[[0.0,\"#0d0887\"],[0.1111111111111111,\"#46039f\"],[0.2222222222222222,\"#7201a8\"],[0.3333333333333333,\"#9c179e\"],[0.4444444444444444,\"#bd3786\"],[0.5555555555555556,\"#d8576b\"],[0.6666666666666666,\"#ed7953\"],[0.7777777777777778,\"#fb9f3a\"],[0.8888888888888888,\"#fdca26\"],[1.0,\"#f0f921\"]]},\"colorway\":[\"#636efa\",\"#EF553B\",\"#00cc96\",\"#ab63fa\",\"#FFA15A\",\"#19d3f3\",\"#FF6692\",\"#B6E880\",\"#FF97FF\",\"#FECB52\"],\"font\":{\"color\":\"#2a3f5f\"},\"geo\":{\"bgcolor\":\"white\",\"lakecolor\":\"white\",\"landcolor\":\"#E5ECF6\",\"showlakes\":true,\"showland\":true,\"subunitcolor\":\"white\"},\"hoverlabel\":{\"align\":\"left\"},\"hovermode\":\"closest\",\"mapbox\":{\"style\":\"light\"},\"paper_bgcolor\":\"white\",\"plot_bgcolor\":\"#E5ECF6\",\"polar\":{\"angularaxis\":{\"gridcolor\":\"white\",\"linecolor\":\"white\",\"ticks\":\"\"},\"bgcolor\":\"#E5ECF6\",\"radialaxis\":{\"gridcolor\":\"white\",\"linecolor\":\"white\",\"ticks\":\"\"}},\"scene\":{\"xaxis\":{\"backgroundcolor\":\"#E5ECF6\",\"gridcolor\":\"white\",\"gridwidth\":2,\"linecolor\":\"white\",\"showbackground\":true,\"ticks\":\"\",\"zerolinecolor\":\"white\"},\"yaxis\":{\"backgroundcolor\":\"#E5ECF6\",\"gridcolor\":\"white\",\"gridwidth\":2,\"linecolor\":\"white\",\"showbackground\":true,\"ticks\":\"\",\"zerolinecolor\":\"white\"},\"zaxis\":{\"backgroundcolor\":\"#E5ECF6\",\"gridcolor\":\"white\",\"gridwidth\":2,\"linecolor\":\"white\",\"showbackground\":true,\"ticks\":\"\",\"zerolinecolor\":\"white\"}},\"shapedefaults\":{\"line\":{\"color\":\"#2a3f5f\"}},\"ternary\":{\"aaxis\":{\"gridcolor\":\"white\",\"linecolor\":\"white\",\"ticks\":\"\"},\"baxis\":{\"gridcolor\":\"white\",\"linecolor\":\"white\",\"ticks\":\"\"},\"bgcolor\":\"#E5ECF6\",\"caxis\":{\"gridcolor\":\"white\",\"linecolor\":\"white\",\"ticks\":\"\"}},\"title\":{\"x\":0.05},\"xaxis\":{\"automargin\":true,\"gridcolor\":\"white\",\"linecolor\":\"white\",\"ticks\":\"\",\"title\":{\"standoff\":15},\"zerolinecolor\":\"white\",\"zerolinewidth\":2},\"yaxis\":{\"automargin\":true,\"gridcolor\":\"white\",\"linecolor\":\"white\",\"ticks\":\"\",\"title\":{\"standoff\":15},\"zerolinecolor\":\"white\",\"zerolinewidth\":2}}},\"xaxis\":{\"anchor\":\"y\",\"domain\":[0.0,1.0],\"title\":{\"text\":\"Timestamp\"},\"showgrid\":false},\"yaxis\":{\"anchor\":\"x\",\"domain\":[0.0,1.0],\"title\":{\"text\":\"Harga\"},\"showgrid\":false},\"legend\":{\"title\":{\"text\":\"Harga Close\"},\"tracegroupgap\":0},\"margin\":{\"t\":60},\"title\":{\"text\":\"Compare last 15 days vs next 30 days\"},\"font\":{\"size\":15,\"color\":\"black\"},\"plot_bgcolor\":\"white\"},                        {\"responsive\": true}                    ).then(function(){\n",
              "                            \n",
              "var gd = document.getElementById('2c5572b4-3358-43fe-b293-f99a20e596b6');\n",
              "var x = new MutationObserver(function (mutations, observer) {{\n",
              "        var display = window.getComputedStyle(gd).display;\n",
              "        if (!display || display === 'none') {{\n",
              "            console.log([gd, 'removed!']);\n",
              "            Plotly.purge(gd);\n",
              "            observer.disconnect();\n",
              "        }}\n",
              "}});\n",
              "\n",
              "// Listen for the removal of the full notebook cells\n",
              "var notebookContainer = gd.closest('#notebook-container');\n",
              "if (notebookContainer) {{\n",
              "    x.observe(notebookContainer, {childList: true});\n",
              "}}\n",
              "\n",
              "// Listen for the clearing of the current output cell\n",
              "var outputEl = gd.closest('.output');\n",
              "if (outputEl) {{\n",
              "    x.observe(outputEl, {childList: true});\n",
              "}}\n",
              "\n",
              "                        })                };                            </script>        </div>\n",
              "</body>\n",
              "</html>"
            ]
          },
          "metadata": {}
        }
      ]
    },
    {
      "cell_type": "code",
      "source": [
        "# gabungkan data prediksi 30 hari kedepan dengan data sebelumnya\n",
        "lstmdf=closedf.tolist()\n",
        "lstmdf.extend((np.array(lst_output).reshape(-1,1)).tolist())\n",
        "lstmdf=scaler.inverse_transform(lstmdf).reshape(1,-1).tolist()[0]\n",
        "\n",
        "names = cycle(['Harga'])\n",
        "\n",
        "fig = px.line(lstmdf,labels={'value': 'Harga','index': 'Timestamp'})\n",
        "fig.update_layout(title_text='Chart Gabungan antara prediksi dengan data sebelumnya',\n",
        "                  plot_bgcolor='white', font_size=15, font_color='black',legend_title_text='Harga')\n",
        "\n",
        "fig.for_each_trace(lambda t:  t.update(name = next(names)))\n",
        "\n",
        "fig.update_xaxes(showgrid=False)\n",
        "fig.update_yaxes(showgrid=False)\n",
        "fig.show()"
      ],
      "metadata": {
        "colab": {
          "base_uri": "https://localhost:8080/",
          "height": 542
        },
        "id": "CVOpJEQwUYyn",
        "outputId": "73747535-94cb-48ce-d722-6f96378ea643"
      },
      "execution_count": 40,
      "outputs": [
        {
          "output_type": "display_data",
          "data": {
            "text/html": [
              "<html>\n",
              "<head><meta charset=\"utf-8\" /></head>\n",
              "<body>\n",
              "    <div>            <script src=\"https://cdnjs.cloudflare.com/ajax/libs/mathjax/2.7.5/MathJax.js?config=TeX-AMS-MML_SVG\"></script><script type=\"text/javascript\">if (window.MathJax) {MathJax.Hub.Config({SVG: {font: \"STIX-Web\"}});}</script>                <script type=\"text/javascript\">window.PlotlyConfig = {MathJaxConfig: 'local'};</script>\n",
              "        <script src=\"https://cdn.plot.ly/plotly-2.8.3.min.js\"></script>                <div id=\"0fb60ae0-23af-4e44-8160-834f9d129875\" class=\"plotly-graph-div\" style=\"height:525px; width:100%;\"></div>            <script type=\"text/javascript\">                                    window.PLOTLYENV=window.PLOTLYENV || {};                                    if (document.getElementById(\"0fb60ae0-23af-4e44-8160-834f9d129875\")) {                    Plotly.newPlot(                        \"0fb60ae0-23af-4e44-8160-834f9d129875\",                        [{\"hovertemplate\":\"variable=0<br>Timestamp=%{x}<br>Harga=%{y}<extra></extra>\",\"legendgroup\":\"0\",\"line\":{\"color\":\"#636efa\",\"dash\":\"solid\"},\"marker\":{\"symbol\":\"circle\"},\"mode\":\"lines\",\"name\":\"Harga\",\"orientation\":\"v\",\"showlegend\":true,\"x\":[0,1,2,3,4,5,6,7,8,9,10,11,12,13,14,15,16,17,18,19,20,21,22,23,24,25,26,27,28,29,30,31,32,33,34,35,36,37,38,39,40,41,42,43,44,45,46,47,48,49,50,51,52,53,54,55,56,57,58,59,60,61,62,63,64,65,66,67,68,69,70,71,72,73,74,75,76,77,78,79,80,81,82,83,84,85,86,87,88,89,90,91,92,93,94,95,96,97,98,99,100,101,102,103,104,105,106,107,108,109,110,111,112,113,114,115,116,117,118,119,120,121,122,123,124,125,126,127,128,129,130,131,132,133,134,135,136,137,138,139,140,141,142,143,144,145,146,147,148,149,150,151,152,153,154,155,156,157,158,159,160,161,162,163,164,165,166,167,168,169,170,171,172,173,174,175,176,177,178,179,180,181,182,183,184,185,186,187,188,189,190,191,192,193,194,195,196,197,198,199,200,201,202,203,204,205,206,207,208,209,210,211,212,213,214,215,216,217,218,219,220,221,222,223,224,225,226,227,228,229,230,231,232,233,234,235,236,237,238,239,240,241,242,243,244,245,246,247,248,249,250,251,252,253,254,255,256,257,258,259,260,261,262,263,264,265,266,267,268,269,270,271,272,273,274,275,276,277,278,279,280,281,282,283,284,285,286,287,288,289,290,291,292,293,294,295,296,297,298,299,300,301,302,303,304,305,306,307,308,309,310,311,312,313,314,315,316,317,318,319,320,321,322,323,324,325,326,327,328,329,330,331,332,333,334,335,336,337,338,339,340,341,342,343,344,345,346,347,348,349,350,351,352,353,354,355,356,357,358,359,360,361,362,363,364,365,366,367,368,369,370,371,372,373,374,375,376,377,378,379,380,381,382,383,384,385,386,387,388,389,390,391,392,393,394],\"xaxis\":\"x\",\"y\":[37334.398438,35552.515625,39097.859375,40218.476563,40406.269531,38347.0625,38053.503906,35787.246094,35615.871094,35698.296875,31676.693359,32505.660156,33723.027344,34662.4375,31637.779297,32186.277343999995,34649.644531,34434.335938,35867.777344,35040.835938,33572.117188,33897.046875,34668.546875,35287.78125,33746.003906,34235.195313,33855.328125,32877.371094,33798.011719,33520.519531,34240.1875,33155.847656,32702.025391,32822.347656,31780.730469,31421.539063,31533.068359,31796.810547,30817.832031,29807.347656,32110.693359000004,32313.105469000002,33581.550781,34292.445313,35350.1875,37337.535156,39406.941406,39995.90625,40008.42187500001,42235.546875,41626.195313,39974.894531,39201.945313,38152.980469,39747.50390599999,40869.554688,42816.5,44555.800781,43798.117188,46365.402344,45585.03125,45593.636719,44428.289063,47793.320313,47096.945313000004,47047.003906,46004.48437500001,44695.359375,44801.18750000001,46717.578125,49339.175781,48905.492188,49321.652344,49546.14843799999,47706.11718799999,48960.789063,46942.21875,49058.667969,48902.402344,48829.832031,47054.984375,47166.6875,48847.027344,49327.722656,50025.375,49944.62499999999,51753.41015599999,52633.535156,46811.128906,46091.390625,46391.421875,44883.910156,45201.457031000005,46063.269531,44963.074219,47092.492188,48176.347656,47783.359375,47267.519531,48278.36328099999,47260.21875,42843.800781,40693.67578099999,43574.507813,44895.097656,42839.75,42716.59375,43208.539063,42235.73046900001,41034.542969,41564.36328099999,43790.89453099999,48116.941406,47711.488281,48199.953125,49112.902344,51514.8125,55361.449219,53805.984375,53967.84765599999,54968.222656000005,54771.578125,57484.789063,56041.058594,57401.097656000005,57321.523438,61593.949219,60892.179688,61553.617188,62026.078125,64261.992188,65992.835938,62210.171875,60692.265625,61393.617188,60930.83593799999,63039.824218999995,60363.792969,58482.386718999995,60622.136719,62227.964844,61888.832031,61318.957031,61004.40625,63226.402344,62970.04687500001,61452.230469,61125.675781,61527.480469,63326.988281000005,67566.828125,66971.828125,64995.230469,64949.960938,64155.941406,64469.527344,65466.839844,63557.871094,60161.246093999995,60368.011719,56942.136719,58119.578125,59697.195313,58730.476563,56289.28906299999,57569.074219,56280.42578099999,57274.679688,53569.765625,54815.078125,57248.457031,57806.566406,57005.425781,57229.82812499999,56477.816406,53598.246094,49200.703125,49368.847656,50582.625,50700.085938,50504.796875,47672.121093999995,47243.304688,49362.507813,50098.335938,46737.480469,46612.632813,48896.72265599999,47665.425781,46202.144531,46848.777344,46707.015625,46880.277344,48936.613281,48628.511719,50784.539063,50822.195313,50429.859375,50809.515625,50640.417969,47588.855469,46444.710938,47178.12500000001,46306.445313,47686.81250000001,47345.21874999999,46458.117188000004,45897.57421900001,43569.003906,43160.92968799999,41557.902344,41733.941406,41911.601563000004,41821.26171900001,42735.855469,43949.101563,42591.570313,43099.699219,43177.398438,43113.878906,42250.550781,42375.632813,41744.328125,40680.417969,36457.316406,35030.25,36276.804688,36654.328125,36954.003906,36852.121094,37138.234375,37784.332031,38138.179688,37917.601563,38483.125,38743.273438,36952.984375,37154.601563,41500.875,41441.164063,42412.433594,43840.285156,44118.445313,44338.796875,43565.113281000005,42407.9375,42244.46875,42197.515625,42586.91796900001,44575.203125,43961.859375,40538.011719,40030.976563,40122.15625,38431.378906,37075.28125,38286.027344,37296.570313,38332.609375,39214.21875,39105.148438,37709.785156,43193.234375,44354.636719,43924.117188,42451.789063,39137.605469,39400.58593799999,38419.984375,38062.039063,38737.269531,41982.925781,39437.460938,38794.972656,38904.011719,37849.664063,39666.753906,39338.785156,41143.929688,40951.378906,41801.15625,42190.652344,41247.824219,41077.996094,42358.808594,42892.957031000005,43960.933594,44348.730469,44500.828125,46820.492188,47128.003906,47465.730468999995,47062.664063,45538.675781,46281.644531,45868.949219,46453.566406,46622.67578099999,45555.992188000004,43206.738281,43503.847656,42287.664063,42782.136719,42207.671875,39521.902344,40127.183594,41166.730469,39935.515625,40553.464844,40424.484375,39716.953125,40826.214844,41502.75,41374.378906,40527.363281,39740.320313,39486.730468999995,39469.292969,40458.308594,38117.460938,39241.121094,39773.828125,38609.824219,37714.875,38469.09375,38529.328125,37750.453125,39698.371094,36575.140625,36040.921875,35501.953125,34059.265625,30296.953125,31022.90625,28936.355469000002,29047.751952999995,29283.103516,30101.265625,31305.113281,29862.917969,30425.857422,28720.271484,30314.333984,29200.740234,29432.226563,30323.722656000005,29098.910156,29655.585938,29562.361328,29267.224608999997,28627.574219,28814.900391,29445.957031,31726.390625,31792.310547,29799.080078,30467.488281,29704.390625,29832.914063,29906.662109,31370.671875,31155.478516,30214.355469,30111.998047,29197.939453,30700.836790289366,32162.96350791407,33672.3597753419,35204.934603893285,36668.43533007294,37951.588729813084,38966.70543787876,39722.68401643163,40262.0821755491,40636.375335393495,40915.876991188474,41175.94872702093,41478.44181650746,41857.6205979873,42322.47183011719,42831.48165475823,43339.80215416139,43827.76899136407,44274.081552323834,44682.54040969059,45059.63148729343,45414.10364534842,45750.95043014946,46073.39681616802,46381.82808282998,46678.12768949743,46963.27508145783,47238.008324117414,47501.7796708225,47752.92035104773],\"yaxis\":\"y\",\"type\":\"scatter\"}],                        {\"template\":{\"data\":{\"bar\":[{\"error_x\":{\"color\":\"#2a3f5f\"},\"error_y\":{\"color\":\"#2a3f5f\"},\"marker\":{\"line\":{\"color\":\"#E5ECF6\",\"width\":0.5},\"pattern\":{\"fillmode\":\"overlay\",\"size\":10,\"solidity\":0.2}},\"type\":\"bar\"}],\"barpolar\":[{\"marker\":{\"line\":{\"color\":\"#E5ECF6\",\"width\":0.5},\"pattern\":{\"fillmode\":\"overlay\",\"size\":10,\"solidity\":0.2}},\"type\":\"barpolar\"}],\"carpet\":[{\"aaxis\":{\"endlinecolor\":\"#2a3f5f\",\"gridcolor\":\"white\",\"linecolor\":\"white\",\"minorgridcolor\":\"white\",\"startlinecolor\":\"#2a3f5f\"},\"baxis\":{\"endlinecolor\":\"#2a3f5f\",\"gridcolor\":\"white\",\"linecolor\":\"white\",\"minorgridcolor\":\"white\",\"startlinecolor\":\"#2a3f5f\"},\"type\":\"carpet\"}],\"choropleth\":[{\"colorbar\":{\"outlinewidth\":0,\"ticks\":\"\"},\"type\":\"choropleth\"}],\"contour\":[{\"colorbar\":{\"outlinewidth\":0,\"ticks\":\"\"},\"colorscale\":[[0.0,\"#0d0887\"],[0.1111111111111111,\"#46039f\"],[0.2222222222222222,\"#7201a8\"],[0.3333333333333333,\"#9c179e\"],[0.4444444444444444,\"#bd3786\"],[0.5555555555555556,\"#d8576b\"],[0.6666666666666666,\"#ed7953\"],[0.7777777777777778,\"#fb9f3a\"],[0.8888888888888888,\"#fdca26\"],[1.0,\"#f0f921\"]],\"type\":\"contour\"}],\"contourcarpet\":[{\"colorbar\":{\"outlinewidth\":0,\"ticks\":\"\"},\"type\":\"contourcarpet\"}],\"heatmap\":[{\"colorbar\":{\"outlinewidth\":0,\"ticks\":\"\"},\"colorscale\":[[0.0,\"#0d0887\"],[0.1111111111111111,\"#46039f\"],[0.2222222222222222,\"#7201a8\"],[0.3333333333333333,\"#9c179e\"],[0.4444444444444444,\"#bd3786\"],[0.5555555555555556,\"#d8576b\"],[0.6666666666666666,\"#ed7953\"],[0.7777777777777778,\"#fb9f3a\"],[0.8888888888888888,\"#fdca26\"],[1.0,\"#f0f921\"]],\"type\":\"heatmap\"}],\"heatmapgl\":[{\"colorbar\":{\"outlinewidth\":0,\"ticks\":\"\"},\"colorscale\":[[0.0,\"#0d0887\"],[0.1111111111111111,\"#46039f\"],[0.2222222222222222,\"#7201a8\"],[0.3333333333333333,\"#9c179e\"],[0.4444444444444444,\"#bd3786\"],[0.5555555555555556,\"#d8576b\"],[0.6666666666666666,\"#ed7953\"],[0.7777777777777778,\"#fb9f3a\"],[0.8888888888888888,\"#fdca26\"],[1.0,\"#f0f921\"]],\"type\":\"heatmapgl\"}],\"histogram\":[{\"marker\":{\"pattern\":{\"fillmode\":\"overlay\",\"size\":10,\"solidity\":0.2}},\"type\":\"histogram\"}],\"histogram2d\":[{\"colorbar\":{\"outlinewidth\":0,\"ticks\":\"\"},\"colorscale\":[[0.0,\"#0d0887\"],[0.1111111111111111,\"#46039f\"],[0.2222222222222222,\"#7201a8\"],[0.3333333333333333,\"#9c179e\"],[0.4444444444444444,\"#bd3786\"],[0.5555555555555556,\"#d8576b\"],[0.6666666666666666,\"#ed7953\"],[0.7777777777777778,\"#fb9f3a\"],[0.8888888888888888,\"#fdca26\"],[1.0,\"#f0f921\"]],\"type\":\"histogram2d\"}],\"histogram2dcontour\":[{\"colorbar\":{\"outlinewidth\":0,\"ticks\":\"\"},\"colorscale\":[[0.0,\"#0d0887\"],[0.1111111111111111,\"#46039f\"],[0.2222222222222222,\"#7201a8\"],[0.3333333333333333,\"#9c179e\"],[0.4444444444444444,\"#bd3786\"],[0.5555555555555556,\"#d8576b\"],[0.6666666666666666,\"#ed7953\"],[0.7777777777777778,\"#fb9f3a\"],[0.8888888888888888,\"#fdca26\"],[1.0,\"#f0f921\"]],\"type\":\"histogram2dcontour\"}],\"mesh3d\":[{\"colorbar\":{\"outlinewidth\":0,\"ticks\":\"\"},\"type\":\"mesh3d\"}],\"parcoords\":[{\"line\":{\"colorbar\":{\"outlinewidth\":0,\"ticks\":\"\"}},\"type\":\"parcoords\"}],\"pie\":[{\"automargin\":true,\"type\":\"pie\"}],\"scatter\":[{\"marker\":{\"colorbar\":{\"outlinewidth\":0,\"ticks\":\"\"}},\"type\":\"scatter\"}],\"scatter3d\":[{\"line\":{\"colorbar\":{\"outlinewidth\":0,\"ticks\":\"\"}},\"marker\":{\"colorbar\":{\"outlinewidth\":0,\"ticks\":\"\"}},\"type\":\"scatter3d\"}],\"scattercarpet\":[{\"marker\":{\"colorbar\":{\"outlinewidth\":0,\"ticks\":\"\"}},\"type\":\"scattercarpet\"}],\"scattergeo\":[{\"marker\":{\"colorbar\":{\"outlinewidth\":0,\"ticks\":\"\"}},\"type\":\"scattergeo\"}],\"scattergl\":[{\"marker\":{\"colorbar\":{\"outlinewidth\":0,\"ticks\":\"\"}},\"type\":\"scattergl\"}],\"scattermapbox\":[{\"marker\":{\"colorbar\":{\"outlinewidth\":0,\"ticks\":\"\"}},\"type\":\"scattermapbox\"}],\"scatterpolar\":[{\"marker\":{\"colorbar\":{\"outlinewidth\":0,\"ticks\":\"\"}},\"type\":\"scatterpolar\"}],\"scatterpolargl\":[{\"marker\":{\"colorbar\":{\"outlinewidth\":0,\"ticks\":\"\"}},\"type\":\"scatterpolargl\"}],\"scatterternary\":[{\"marker\":{\"colorbar\":{\"outlinewidth\":0,\"ticks\":\"\"}},\"type\":\"scatterternary\"}],\"surface\":[{\"colorbar\":{\"outlinewidth\":0,\"ticks\":\"\"},\"colorscale\":[[0.0,\"#0d0887\"],[0.1111111111111111,\"#46039f\"],[0.2222222222222222,\"#7201a8\"],[0.3333333333333333,\"#9c179e\"],[0.4444444444444444,\"#bd3786\"],[0.5555555555555556,\"#d8576b\"],[0.6666666666666666,\"#ed7953\"],[0.7777777777777778,\"#fb9f3a\"],[0.8888888888888888,\"#fdca26\"],[1.0,\"#f0f921\"]],\"type\":\"surface\"}],\"table\":[{\"cells\":{\"fill\":{\"color\":\"#EBF0F8\"},\"line\":{\"color\":\"white\"}},\"header\":{\"fill\":{\"color\":\"#C8D4E3\"},\"line\":{\"color\":\"white\"}},\"type\":\"table\"}]},\"layout\":{\"annotationdefaults\":{\"arrowcolor\":\"#2a3f5f\",\"arrowhead\":0,\"arrowwidth\":1},\"autotypenumbers\":\"strict\",\"coloraxis\":{\"colorbar\":{\"outlinewidth\":0,\"ticks\":\"\"}},\"colorscale\":{\"diverging\":[[0,\"#8e0152\"],[0.1,\"#c51b7d\"],[0.2,\"#de77ae\"],[0.3,\"#f1b6da\"],[0.4,\"#fde0ef\"],[0.5,\"#f7f7f7\"],[0.6,\"#e6f5d0\"],[0.7,\"#b8e186\"],[0.8,\"#7fbc41\"],[0.9,\"#4d9221\"],[1,\"#276419\"]],\"sequential\":[[0.0,\"#0d0887\"],[0.1111111111111111,\"#46039f\"],[0.2222222222222222,\"#7201a8\"],[0.3333333333333333,\"#9c179e\"],[0.4444444444444444,\"#bd3786\"],[0.5555555555555556,\"#d8576b\"],[0.6666666666666666,\"#ed7953\"],[0.7777777777777778,\"#fb9f3a\"],[0.8888888888888888,\"#fdca26\"],[1.0,\"#f0f921\"]],\"sequentialminus\":[[0.0,\"#0d0887\"],[0.1111111111111111,\"#46039f\"],[0.2222222222222222,\"#7201a8\"],[0.3333333333333333,\"#9c179e\"],[0.4444444444444444,\"#bd3786\"],[0.5555555555555556,\"#d8576b\"],[0.6666666666666666,\"#ed7953\"],[0.7777777777777778,\"#fb9f3a\"],[0.8888888888888888,\"#fdca26\"],[1.0,\"#f0f921\"]]},\"colorway\":[\"#636efa\",\"#EF553B\",\"#00cc96\",\"#ab63fa\",\"#FFA15A\",\"#19d3f3\",\"#FF6692\",\"#B6E880\",\"#FF97FF\",\"#FECB52\"],\"font\":{\"color\":\"#2a3f5f\"},\"geo\":{\"bgcolor\":\"white\",\"lakecolor\":\"white\",\"landcolor\":\"#E5ECF6\",\"showlakes\":true,\"showland\":true,\"subunitcolor\":\"white\"},\"hoverlabel\":{\"align\":\"left\"},\"hovermode\":\"closest\",\"mapbox\":{\"style\":\"light\"},\"paper_bgcolor\":\"white\",\"plot_bgcolor\":\"#E5ECF6\",\"polar\":{\"angularaxis\":{\"gridcolor\":\"white\",\"linecolor\":\"white\",\"ticks\":\"\"},\"bgcolor\":\"#E5ECF6\",\"radialaxis\":{\"gridcolor\":\"white\",\"linecolor\":\"white\",\"ticks\":\"\"}},\"scene\":{\"xaxis\":{\"backgroundcolor\":\"#E5ECF6\",\"gridcolor\":\"white\",\"gridwidth\":2,\"linecolor\":\"white\",\"showbackground\":true,\"ticks\":\"\",\"zerolinecolor\":\"white\"},\"yaxis\":{\"backgroundcolor\":\"#E5ECF6\",\"gridcolor\":\"white\",\"gridwidth\":2,\"linecolor\":\"white\",\"showbackground\":true,\"ticks\":\"\",\"zerolinecolor\":\"white\"},\"zaxis\":{\"backgroundcolor\":\"#E5ECF6\",\"gridcolor\":\"white\",\"gridwidth\":2,\"linecolor\":\"white\",\"showbackground\":true,\"ticks\":\"\",\"zerolinecolor\":\"white\"}},\"shapedefaults\":{\"line\":{\"color\":\"#2a3f5f\"}},\"ternary\":{\"aaxis\":{\"gridcolor\":\"white\",\"linecolor\":\"white\",\"ticks\":\"\"},\"baxis\":{\"gridcolor\":\"white\",\"linecolor\":\"white\",\"ticks\":\"\"},\"bgcolor\":\"#E5ECF6\",\"caxis\":{\"gridcolor\":\"white\",\"linecolor\":\"white\",\"ticks\":\"\"}},\"title\":{\"x\":0.05},\"xaxis\":{\"automargin\":true,\"gridcolor\":\"white\",\"linecolor\":\"white\",\"ticks\":\"\",\"title\":{\"standoff\":15},\"zerolinecolor\":\"white\",\"zerolinewidth\":2},\"yaxis\":{\"automargin\":true,\"gridcolor\":\"white\",\"linecolor\":\"white\",\"ticks\":\"\",\"title\":{\"standoff\":15},\"zerolinecolor\":\"white\",\"zerolinewidth\":2}}},\"xaxis\":{\"anchor\":\"y\",\"domain\":[0.0,1.0],\"title\":{\"text\":\"Timestamp\"},\"showgrid\":false},\"yaxis\":{\"anchor\":\"x\",\"domain\":[0.0,1.0],\"title\":{\"text\":\"Harga\"},\"showgrid\":false},\"legend\":{\"title\":{\"text\":\"Harga\"},\"tracegroupgap\":0},\"margin\":{\"t\":60},\"title\":{\"text\":\"Chart Gabungan antara prediksi dengan data sebelumnya\"},\"font\":{\"size\":15,\"color\":\"black\"},\"plot_bgcolor\":\"white\"},                        {\"responsive\": true}                    ).then(function(){\n",
              "                            \n",
              "var gd = document.getElementById('0fb60ae0-23af-4e44-8160-834f9d129875');\n",
              "var x = new MutationObserver(function (mutations, observer) {{\n",
              "        var display = window.getComputedStyle(gd).display;\n",
              "        if (!display || display === 'none') {{\n",
              "            console.log([gd, 'removed!']);\n",
              "            Plotly.purge(gd);\n",
              "            observer.disconnect();\n",
              "        }}\n",
              "}});\n",
              "\n",
              "// Listen for the removal of the full notebook cells\n",
              "var notebookContainer = gd.closest('#notebook-container');\n",
              "if (notebookContainer) {{\n",
              "    x.observe(notebookContainer, {childList: true});\n",
              "}}\n",
              "\n",
              "// Listen for the clearing of the current output cell\n",
              "var outputEl = gd.closest('.output');\n",
              "if (outputEl) {{\n",
              "    x.observe(outputEl, {childList: true});\n",
              "}}\n",
              "\n",
              "                        })                };                            </script>        </div>\n",
              "</body>\n",
              "</html>"
            ]
          },
          "metadata": {}
        }
      ]
    },
    {
      "cell_type": "code",
      "source": [
        "#Note tentang prediksi harga bitcoin\n",
        "# prediksi ini hanya akurat karena menggunakan data historis dari harga bitcoin\n",
        "# prediksi ini belum memasukan anomali, event, sentimen dan berbagai jenis parameter lainnya yang dapat mempengarui harga bitcoin, sehingga\n",
        "# model ini bisa dibilang akurat berdasarkan data historis, tapi tidak akurat jika diimplementasikan pada real life, karena kekurangan yang disebutkan\n",
        "# sebelumnya."
      ],
      "metadata": {
        "id": "96hw0Bvvpx5Y"
      },
      "execution_count": 41,
      "outputs": []
    }
  ]
}